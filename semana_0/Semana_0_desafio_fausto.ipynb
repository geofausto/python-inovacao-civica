{
 "cells": [
  {
   "cell_type": "markdown",
   "source": [
    "# 1. Apresentação: "
   ],
   "metadata": {
    "id": "9aUTR9hD9QuN"
   }
  },
  {
   "cell_type": "markdown",
   "source": [
    "O desafio deste módulo envolve ajudar a criar um programa em Python que soma três números. Uma pessoa fez parte do código, mas ele precisa ser finalizado. Existem partes do código faltando e correções precisam ser realizadas, pois o código contém 3 erros. **Você deve alterar o código neste notebook.**\n",
    "\n",
    "\n",
    "\n",
    "\n",
    "\n"
   ],
   "metadata": {
    "id": "tPluP35E8VQo"
   }
  },
  {
   "cell_type": "markdown",
   "source": [
    "# 2. Dicas"
   ],
   "metadata": {
    "id": "t-BkgXHeYW3x"
   }
  },
  {
   "cell_type": "markdown",
   "source": [
    "*   Antes de ir pro código, leia a descrição do desafio e busque definir pequenos passos para chegar a solução.  \n",
    "*   Leia o código para se familiarizar com a solução que está em desenvolvimento;\n",
    "\n",
    "*  Tente entender o que o código faz ou significa. \n",
    "\n",
    "*  Busque encontrar as partes que faltam ser colocadas e erros no código que precisam ser corrigidos;\n",
    "\n",
    "*  Se aparecer erros, procure corrigir e/ou repita os passos acima.\n"
   ],
   "metadata": {
    "id": "m0J6ZTlWQt9p"
   }
  },
  {
   "cell_type": "markdown",
   "source": [
    "# 3. Descrição do desafio"
   ],
   "metadata": {
    "id": "KxyVKC7wYbv-"
   }
  },
  {
   "cell_type": "markdown",
   "source": [
    "Faça um programa que Calcule a **soma** de **três números inteiros**. O programa deve exibir na tela uma mensagem como a indicada abaixo de exemplo:\n",
    "\n",
    "OBS: os valores 15, 10, 30 representam números de exemplo. Seu programa deve funcionar para quaisquer outros valores. \n",
    "\n",
    "\n",
    "```\n",
    "    Entrada: 15, 10, 30\n",
    "    Processamento: 15 + 10 + 30\n",
    "    Saída: 55\n",
    "```\n",
    "    \n",
    "\n",
    "\n",
    "\n"
   ],
   "metadata": {
    "id": "78VQdbBeXgVN"
   }
  },
  {
   "cell_type": "markdown",
   "source": [
    "# 4. Desafio\n",
    "\n",
    "Complete e ajuste o código abaixo para solucionar o desafio. "
   ],
   "metadata": {
    "id": "OGYH7v5VTc4A"
   }
  },
  {
   "cell_type": "code",
   "execution_count": 13,
   "source": [
    "num1 = int(input('Digite o 1º número: ')) #teste de comentário\n",
    "num2 = int(input('Digite o 2º número: '))\n",
    "num3 = int(input('Digite o 3º número: '))\n",
    "\n",
    "soma = num1 + num2 + num3\n",
    "\n",
    "print(f'Entrada: {num1}, {num2}, {num3}')\n",
    "print(f'Processamento: {num1} + {num2} + {num3}')\n",
    "print(f'Saída:{soma}')"
   ],
   "outputs": [
    {
     "output_type": "stream",
     "name": "stdout",
     "text": [
      "Entrada: 1, 1, 1\n",
      "Processamento: 1 + 1 + 1\n",
      "Saída:3\n"
     ]
    }
   ],
   "metadata": {
    "id": "bJh04OEnPb_2"
   }
  },
  {
   "cell_type": "markdown",
   "source": [
    "# PERGUNTA: Mas fiquei na dúvida para que serve o parâmetro f da função print() ?\n",
    "Melhores explicações: https://stackoverflow.com/questions/57150426/what-is-printf\n",
    "\n",
    "Complementando o que o Marcelo colocou, o f tem a ver com a string que está sendo passada como argumento para a função 'print', ele não é um argumento da função mas sim a sintaxe Python pra indicar que essa string é uma 'f-string', ou seja, um string especial com propriedades únicas.\n",
    "De forma introdutória, 'f-strings' permitem você inserir código dentro de chaves '{ }', assim fica fácil de colocar uma variável e o valor dela ser apresentado na string. Ou até a soma de variáveis...\n",
    "Se tiver ficado mais entendível, como exercício de compreensão deixo a sugestão de tentar fazer o último 'print' sem precisar criar a varíavel 'soma'."
   ],
   "metadata": {}
  },
  {
   "cell_type": "code",
   "execution_count": 14,
   "source": [
    "soma = 30\n",
    "print ('teste')\n",
    "print ('teste {soma}')\n",
    "print (f'teste {soma}')"
   ],
   "outputs": [
    {
     "output_type": "stream",
     "name": "stdout",
     "text": [
      "teste\n",
      "teste {soma}\n",
      "teste 30\n"
     ]
    }
   ],
   "metadata": {}
  }
 ],
 "metadata": {
  "colab": {
   "collapsed_sections": [],
   "name": "M0-desafio.ipynb",
   "provenance": []
  },
  "kernelspec": {
   "name": "python3",
   "display_name": "Python 3.8.10 64-bit ('env')"
  },
  "language_info": {
   "codemirror_mode": {
    "name": "ipython",
    "version": 3
   },
   "file_extension": ".py",
   "mimetype": "text/x-python",
   "name": "python",
   "nbconvert_exporter": "python",
   "pygments_lexer": "ipython3",
   "version": "3.8.10"
  },
  "interpreter": {
   "hash": "5bf932a9a036cd03214984e536a32df2f2875d260421a4049e6e07310eaa4ac1"
  }
 },
 "nbformat": 4,
 "nbformat_minor": 1
}
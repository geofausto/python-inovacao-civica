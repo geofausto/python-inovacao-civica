{
 "cells": [
  {
   "cell_type": "markdown",
   "source": [
    "# 1. Apresentação: "
   ],
   "metadata": {
    "id": "9aUTR9hD9QuN"
   }
  },
  {
   "cell_type": "markdown",
   "source": [
    "O desafio deste módulo envolve ajudar a criar um programa em Python que soma três números. Uma pessoa fez parte do código, mas ele precisa ser finalizado. Existem partes do código faltando e correções precisam ser realizadas, pois o código contém 3 erros. **Você deve alterar o código neste notebook.**\n",
    "\n",
    "\n",
    "\n",
    "\n",
    "\n"
   ],
   "metadata": {
    "id": "tPluP35E8VQo"
   }
  },
  {
   "cell_type": "markdown",
   "source": [
    "# 2. Dicas"
   ],
   "metadata": {
    "id": "t-BkgXHeYW3x"
   }
  },
  {
   "cell_type": "markdown",
   "source": [
    "*   Antes de ir pro código, leia a descrição do desafio e busque definir pequenos passos para chegar a solução.  \n",
    "*   Leia o código para se familiarizar com a solução que está em desenvolvimento;\n",
    "\n",
    "*  Tente entender o que o código faz ou significa. \n",
    "\n",
    "*  Busque encontrar as partes que faltam ser colocadas e erros no código que precisam ser corrigidos;\n",
    "\n",
    "*  Se aparecer erros, procure corrigir e/ou repita os passos acima.\n"
   ],
   "metadata": {
    "id": "m0J6ZTlWQt9p"
   }
  },
  {
   "cell_type": "markdown",
   "source": [
    "# 3. Descrição do desafio"
   ],
   "metadata": {
    "id": "KxyVKC7wYbv-"
   }
  },
  {
   "cell_type": "markdown",
   "source": [
    "Faça um programa que Calcule a **soma** de **três números inteiros**. O programa deve exibir na tela uma mensagem como a indicada abaixo de exemplo:\n",
    "\n",
    "OBS: os valores 15, 10, 30 representam números de exemplo. Seu programa deve funcionar para quaisquer outros valores. \n",
    "\n",
    "\n",
    "```\n",
    "    Entrada: 15, 10, 30\n",
    "    Processamento: 15 + 10 + 30\n",
    "    Saída: 55\n",
    "```\n",
    "    \n",
    "\n",
    "\n",
    "\n"
   ],
   "metadata": {
    "id": "78VQdbBeXgVN"
   }
  },
  {
   "cell_type": "markdown",
   "source": [
    "# 4. Desafio\n",
    "\n",
    "Complete e ajuste o código abaixo para solucionar o desafio. "
   ],
   "metadata": {
    "id": "OGYH7v5VTc4A"
   }
  },
  {
   "cell_type": "code",
   "execution_count": 12,
   "source": [
    "num1 = int(input('Digite o 1º número: '))\n",
    "num2 = int(input('Digite o 2º número: '))\n",
    "num3 = int(input('Digite o 3º número: '))\n",
    "\n",
    "soma = num1 + num2 + num3\n",
    "\n",
    "print(f'\\n''Entrada: {num1}, {num2}, {num3}')\n",
    "print(f'Processamento: {num1} + {num2} + {num3}')\n",
    "print(f'Saída: {soma}')"
   ],
   "outputs": [
    {
     "output_type": "stream",
     "name": "stdout",
     "text": [
      "Digite o 1º número:  1\n",
      "Digite o 2º número:  1\n",
      "Digite o 3º número:  1\n",
      "\n",
      "Entrada: {num1}, {num2}, {num3}\n",
      "Processamento: 1 + 1 + 1\n",
      "Saída: 3\n"
     ]
    }
   ],
   "metadata": {
    "id": "bJh04OEnPb_2"
   }
  },
  {
   "cell_type": "markdown",
   "source": [
    "# alternativas de outras pessoas do curso"
   ],
   "metadata": {}
  },
  {
   "cell_type": "code",
   "execution_count": 2,
   "source": [
    "def soma(num1, num2, num3):\n",
    "    \n",
    "    total = num1 + num2 + num3\n",
    "\n",
    "    print(f'Entrada: {num1}, {num2}, {num3}')\n",
    "    print(f'Processamento: {num1} + {num2} + {num3}')\n",
    "    print(f'Saída: {total}')"
   ],
   "outputs": [],
   "metadata": {}
  },
  {
   "cell_type": "code",
   "execution_count": 18,
   "source": [
    "soma(2, 2, 1)"
   ],
   "outputs": [
    {
     "output_type": "stream",
     "name": "stdout",
     "text": [
      "Entrada: 2, 2, 1\n",
      "Processamento: 2 + 2 + 1\n",
      "Saída: 5\n"
     ]
    }
   ],
   "metadata": {
    "tags": []
   }
  },
  {
   "cell_type": "code",
   "execution_count": null,
   "source": [
    "notas = input(\"Informe as 3 notas (separadas por espaço): \").split()\n",
    "\n",
    "print(\"\\nEntrada: {}, {}, {}\".format(*notas))\n",
    "print(\"Processamento: ({}) + ({}) + ({})\".format(*notas))\n",
    "print(\"Saída: {}\".format(sum([int(x) for x in notas])))"
   ],
   "outputs": [],
   "metadata": {
    "tags": []
   }
  }
 ],
 "metadata": {
  "colab": {
   "collapsed_sections": [],
   "name": "M0-desafio.ipynb",
   "provenance": []
  },
  "interpreter": {
   "hash": "767d51c1340bd893661ea55ea3124f6de3c7a262a8b4abca0554b478b1e2ff90"
  },
  "kernelspec": {
   "display_name": "Python 3",
   "language": "python",
   "name": "python3"
  },
  "language_info": {
   "codemirror_mode": {
    "name": "ipython",
    "version": 3
   },
   "file_extension": ".py",
   "mimetype": "text/x-python",
   "name": "python",
   "nbconvert_exporter": "python",
   "pygments_lexer": "ipython3",
   "version": "3.8.10"
  }
 },
 "nbformat": 4,
 "nbformat_minor": 4
}
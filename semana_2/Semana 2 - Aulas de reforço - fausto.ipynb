{
 "cells": [
  {
   "cell_type": "markdown",
   "source": [
    "[Documentação Python](https://docs.python.org/3/)\n",
    "\n",
    "[Doc pandas](https://pandas.pydata.org/docs/reference/api/pandas.read_csv.html?highlight=read_csv#pandas.read_csv)\n",
    "\n",
    "[Ajuda no VSCode](https://code.visualstudio.com/docs/editor/intellisense)\n",
    "\n",
    "[Colar código e passar para alguém que pode reproduzir o erro](https://gist.github.com ) \n",
    "\n",
    "[Como pedir e receber ajuda na internet - Escola de Dados](https://escoladedados.org/tutoriais/como-pedir-e-receber-ajuda-na-internet/)\n",
    "\n",
    "Vimos o Google Colab  \n",
    "    Salva para notebook  \n",
    "    Usar ! no inicio da linha ele entendo como terminar  \n",
    "    Conectar do Google Drive\n",
    "\n",
    "[Criando AMBIENTES VIRTUAIS para PYTHON - YouTube](https://www.youtube.com/watch?v=Yp9EWlKfyqc)\n",
    "\n",
    "* Parametro entre [] são opcionais. Mas atenção que considera um padrão quando não preenchido.\n",
    "* Ver o que é tupla: valores separados por ,\n",
    "* Usar 'flat': https://flatgithub.com/geofausto/python-inovacao-civica/blob/main/semana_2/base_dados/consulta_cand_2020_PE.csv?filename=semana_1%2Fbase_dados%2Fconsulta_cand_2020_PE.csv&sha=6aaebb95601c560ef0a73d7bdf5b1fb23a854f37\n",
    "* kwarg = keyword argument"
   ],
   "metadata": {}
  },
  {
   "cell_type": "code",
   "execution_count": 51,
   "source": [
    "texto = \"Olá, é um teste\""
   ],
   "outputs": [],
   "metadata": {}
  },
  {
   "cell_type": "code",
   "execution_count": 52,
   "source": [
    "len(texto)"
   ],
   "outputs": [
    {
     "output_type": "execute_result",
     "data": {
      "text/plain": [
       "15"
      ]
     },
     "metadata": {},
     "execution_count": 52
    }
   ],
   "metadata": {}
  },
  {
   "cell_type": "code",
   "execution_count": 53,
   "source": [
    "print(texto)\n"
   ],
   "outputs": [
    {
     "output_type": "stream",
     "name": "stdout",
     "text": [
      "Olá, é um teste\n"
     ]
    }
   ],
   "metadata": {}
  },
  {
   "cell_type": "code",
   "execution_count": 54,
   "source": [
    "texto.startswith('é',5)"
   ],
   "outputs": [
    {
     "output_type": "execute_result",
     "data": {
      "text/plain": [
       "True"
      ]
     },
     "metadata": {},
     "execution_count": 54
    }
   ],
   "metadata": {}
  },
  {
   "cell_type": "code",
   "execution_count": 55,
   "source": [
    "pi = 3.1415926\n",
    "# usar ponto ou o python tenta reconhecer com tupla"
   ],
   "outputs": [],
   "metadata": {}
  },
  {
   "cell_type": "code",
   "execution_count": 56,
   "source": [
    "round(pi,3)"
   ],
   "outputs": [
    {
     "output_type": "execute_result",
     "data": {
      "text/plain": [
       "3.142"
      ]
     },
     "metadata": {},
     "execution_count": 56
    }
   ],
   "metadata": {}
  },
  {
   "cell_type": "code",
   "execution_count": 57,
   "source": [
    "import pandas as pd"
   ],
   "outputs": [],
   "metadata": {}
  },
  {
   "cell_type": "code",
   "execution_count": 58,
   "source": [
    "df = pd.read_csv('https://raw.githubusercontent.com/geofausto/python-inovacao-civica/main/semana_2/base_dados/consulta_cand_2020_PE.csv', sep=';', encoding='Latin 1')"
   ],
   "outputs": [],
   "metadata": {}
  },
  {
   "cell_type": "code",
   "execution_count": 59,
   "source": [
    "df.to_csv('meuarquivo', header=False, na_rep='#NULO#')\n",
    "# No caso, o header é True como padrão, por isso se não quiser tem que usar o argumento"
   ],
   "outputs": [],
   "metadata": {}
  }
 ],
 "metadata": {
  "orig_nbformat": 4,
  "language_info": {
   "name": "python",
   "version": "3.8.10",
   "mimetype": "text/x-python",
   "codemirror_mode": {
    "name": "ipython",
    "version": 3
   },
   "pygments_lexer": "ipython3",
   "nbconvert_exporter": "python",
   "file_extension": ".py"
  },
  "kernelspec": {
   "name": "python3",
   "display_name": "Python 3.8.10 64-bit ('venv': venv)"
  },
  "interpreter": {
   "hash": "3b7093543c982e412a84dff7531008243b6c8d3640829bdc6aed9bc47156caf7"
  }
 },
 "nbformat": 4,
 "nbformat_minor": 2
}
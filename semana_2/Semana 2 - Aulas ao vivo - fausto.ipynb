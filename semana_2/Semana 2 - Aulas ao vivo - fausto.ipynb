{
    "cells": [
        {
            "cell_type": "code",
            "execution_count": null,
            "source": [],
            "outputs": [],
            "metadata": {}
        }
    ],
    "metadata": {
        "orig_nbformat": 4,
        "language_info": {
            "name": "python",
            "version": "3.8.10"
        },
        "kernelspec": {
            "name": "python3",
            "display_name": "Python 3.8.10 64-bit ('venv')"
        },
        "interpreter": {
            "hash": "7618e7c9cfe2c849235d47ca102e44a5a14eba542e88aa72939e8f8232d43eff"
        }
    },
    "nbformat": 4,
    "nbformat_minor": 2
}
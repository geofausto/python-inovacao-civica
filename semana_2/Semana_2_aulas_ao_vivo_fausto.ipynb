{
  "nbformat": 4,
  "nbformat_minor": 5,
  "metadata": {
    "kernelspec": {
      "name": "python3",
      "display_name": "Python 3.8.10 64-bit ('venv': venv)"
    },
    "language_info": {
      "codemirror_mode": {
        "name": "ipython",
        "version": 3
      },
      "file_extension": ".py",
      "mimetype": "text/x-python",
      "name": "python",
      "nbconvert_exporter": "python",
      "pygments_lexer": "ipython3",
      "version": "3.8.10"
    },
    "colab": {
      "name": "aula_aovivo.ipynb",
      "provenance": [],
      "collapsed_sections": []
    },
    "interpreter": {
      "hash": "3b7093543c982e412a84dff7531008243b6c8d3640829bdc6aed9bc47156caf7"
    }
  },
  "cells": [
    {
      "cell_type": "markdown",
      "source": [
        "# Escola de Dados - Python para inovação cívica\n",
        "\n",
        "Os dados que usaremos nesse notebook pode ser encontrado em: [TSE. Candidaturas em 2016 e 2020](https://www.tse.jus.br/eleicoes/estatisticas/repositorio-de-dados-eleitorais-1).\n",
        "\n",
        "Trabalharemos com os dados referentes as candidaturas nos estados de Pernambuco e Rio Grande do Norte.\n",
        "\n",
        "------\n",
        "Pontos para aula:\n",
        "\n",
        "Quantas candidaturas houveram em cada ano agrupado por gênero ?  \n",
        "Qual a faixa etária média das pessoas candidatas?  \n",
        "Há correlação entre idade, gênero e custo da campanha?  \n",
        "Visualização gráfica da distribuição da variável DS_COR_RACA em 2016"
      ],
      "metadata": {
        "id": "7187e3e9"
      }
    },
    {
      "cell_type": "code",
      "execution_count": 20,
      "source": [
        "import matplotlib.pyplot as plt\n",
        "import pandas as pd\n",
        "import glob"
      ],
      "outputs": [],
      "metadata": {
        "id": "6a996d66"
      }
    },
    {
      "cell_type": "code",
      "execution_count": 21,
      "source": [
        "dados_pe_rn = glob.glob('base_dados/consulta*.csv')\n",
        "print(dados_pe_rn)"
      ],
      "outputs": [
        {
          "output_type": "stream",
          "name": "stdout",
          "text": [
            "['base_dados/consulta_cand_2016_PE.csv', 'base_dados/consulta_cand_2016_RN.csv', 'base_dados/consulta_cand_2020_PE.csv', 'base_dados/consulta_cand_2020_RN.csv']\n"
          ]
        }
      ],
      "metadata": {
        "id": "bc0a96bc",
        "outputId": "c2025c1f-8c99-4885-9de1-710564ea7d19"
      }
    },
    {
      "cell_type": "code",
      "execution_count": 22,
      "source": [
        "lista_df = []\n",
        "\n",
        "for dados_estado in dados_pe_rn:\n",
        "    df_estado = pd.read_csv(dados_estado, sep=\";\", encoding='latin_1', na_values=['#NULO#'], low_memory=False) # o python pede esse low_memory...\n",
        "    lista_df.append(df_estado)"
      ],
      "outputs": [],
      "metadata": {
        "id": "57c7595c"
      }
    },
    {
      "cell_type": "code",
      "execution_count": 23,
      "source": [
        "lista_df[0].columns == lista_df[3].columns #saber se os nome de colunas tem a mesma estrutura com parando o tem 0 com o item 3 conforme a lista do df"
      ],
      "outputs": [
        {
          "output_type": "execute_result",
          "data": {
            "text/plain": [
              "array([ True,  True,  True,  True,  True,  True,  True,  True,  True,\n",
              "        True,  True,  True,  True,  True,  True,  True,  True,  True,\n",
              "        True,  True,  True,  True,  True,  True,  True,  True,  True,\n",
              "        True,  True,  True,  True,  True,  True,  True,  True,  True,\n",
              "        True,  True,  True,  True,  True,  True,  True,  True,  True,\n",
              "        True,  True,  True,  True,  True,  True,  True,  True,  True,\n",
              "        True,  True,  True,  True,  True,  True,  True,  True,  True])"
            ]
          },
          "metadata": {},
          "execution_count": 23
        }
      ],
      "metadata": {
        "id": "d854e293",
        "outputId": "85abaf47-c8fd-4838-b9b6-9b129de1f7fd"
      }
    },
    {
      "cell_type": "code",
      "execution_count": 24,
      "source": [
        "df_completo = pd.concat(lista_df, axis=0, ignore_index=True)"
      ],
      "outputs": [],
      "metadata": {
        "id": "582e0ca5"
      }
    },
    {
      "cell_type": "code",
      "execution_count": 25,
      "source": [
        "df_completo.shape"
      ],
      "outputs": [
        {
          "output_type": "execute_result",
          "data": {
            "text/plain": [
              "(59991, 63)"
            ]
          },
          "metadata": {},
          "execution_count": 25
        }
      ],
      "metadata": {
        "id": "e332acab",
        "outputId": "e9332682-3ebb-4e87-a4e2-7add188bcbdc"
      }
    },
    {
      "cell_type": "code",
      "execution_count": 26,
      "source": [
        "df_completo.info() # verifica se há valores faltantes"
      ],
      "outputs": [
        {
          "output_type": "stream",
          "name": "stdout",
          "text": [
            "<class 'pandas.core.frame.DataFrame'>\n",
            "RangeIndex: 59991 entries, 0 to 59990\n",
            "Data columns (total 63 columns):\n",
            " #   Column                         Non-Null Count  Dtype  \n",
            "---  ------                         --------------  -----  \n",
            " 0   DT_GERACAO                     59991 non-null  object \n",
            " 1   HH_GERACAO                     59991 non-null  object \n",
            " 2   ANO_ELEICAO                    59991 non-null  int64  \n",
            " 3   CD_TIPO_ELEICAO                59991 non-null  int64  \n",
            " 4   NM_TIPO_ELEICAO                59991 non-null  object \n",
            " 5   NR_TURNO                       59991 non-null  int64  \n",
            " 6   CD_ELEICAO                     59991 non-null  int64  \n",
            " 7   DS_ELEICAO                     59991 non-null  object \n",
            " 8   DT_ELEICAO                     59991 non-null  object \n",
            " 9   TP_ABRANGENCIA                 59991 non-null  object \n",
            " 10  SG_UF                          59991 non-null  object \n",
            " 11  SG_UE                          59991 non-null  int64  \n",
            " 12  NM_UE                          59991 non-null  object \n",
            " 13  CD_CARGO                       59991 non-null  int64  \n",
            " 14  DS_CARGO                       59991 non-null  object \n",
            " 15  SQ_CANDIDATO                   59991 non-null  int64  \n",
            " 16  NR_CANDIDATO                   59991 non-null  int64  \n",
            " 17  NM_CANDIDATO                   59991 non-null  object \n",
            " 18  NM_URNA_CANDIDATO              59991 non-null  object \n",
            " 19  NM_SOCIAL_CANDIDATO            14 non-null     object \n",
            " 20  NR_CPF_CANDIDATO               59991 non-null  object \n",
            " 21  NM_EMAIL                       59991 non-null  object \n",
            " 22  CD_SITUACAO_CANDIDATURA        59991 non-null  int64  \n",
            " 23  DS_SITUACAO_CANDIDATURA        59991 non-null  object \n",
            " 24  CD_DETALHE_SITUACAO_CAND       59991 non-null  int64  \n",
            " 25  DS_DETALHE_SITUACAO_CAND       59991 non-null  object \n",
            " 26  TP_AGREMIACAO                  59991 non-null  object \n",
            " 27  NR_PARTIDO                     59991 non-null  int64  \n",
            " 28  SG_PARTIDO                     59991 non-null  object \n",
            " 29  NM_PARTIDO                     59991 non-null  object \n",
            " 30  SQ_COLIGACAO                   59991 non-null  int64  \n",
            " 31  NM_COLIGACAO                   59991 non-null  object \n",
            " 32  DS_COMPOSICAO_COLIGACAO        59933 non-null  object \n",
            " 33  CD_NACIONALIDADE               59991 non-null  int64  \n",
            " 34  DS_NACIONALIDADE               59991 non-null  object \n",
            " 35  SG_UF_NASCIMENTO               59991 non-null  object \n",
            " 36  CD_MUNICIPIO_NASCIMENTO        59991 non-null  int64  \n",
            " 37  NM_MUNICIPIO_NASCIMENTO        59991 non-null  object \n",
            " 38  DT_NASCIMENTO                  59990 non-null  object \n",
            " 39  NR_IDADE_DATA_POSSE            59990 non-null  float64\n",
            " 40  NR_TITULO_ELEITORAL_CANDIDATO  59991 non-null  int64  \n",
            " 41  CD_GENERO                      59991 non-null  int64  \n",
            " 42  DS_GENERO                      59991 non-null  object \n",
            " 43  CD_GRAU_INSTRUCAO              59991 non-null  int64  \n",
            " 44  DS_GRAU_INSTRUCAO              59991 non-null  object \n",
            " 45  CD_ESTADO_CIVIL                59991 non-null  int64  \n",
            " 46  DS_ESTADO_CIVIL                59991 non-null  object \n",
            " 47  CD_COR_RACA                    59991 non-null  int64  \n",
            " 48  DS_COR_RACA                    59991 non-null  object \n",
            " 49  CD_OCUPACAO                    59991 non-null  int64  \n",
            " 50  DS_OCUPACAO                    59991 non-null  object \n",
            " 51  VR_DESPESA_MAX_CAMPANHA        59991 non-null  float64\n",
            " 52  CD_SIT_TOT_TURNO               59991 non-null  int64  \n",
            " 53  DS_SIT_TOT_TURNO               57643 non-null  object \n",
            " 54  ST_REELEICAO                   59991 non-null  object \n",
            " 55  ST_DECLARAR_BENS               59991 non-null  object \n",
            " 56  NR_PROTOCOLO_CANDIDATURA       59991 non-null  int64  \n",
            " 57  NR_PROCESSO                    59991 non-null  object \n",
            " 58  CD_SITUACAO_CANDIDATO_PLEITO   59991 non-null  int64  \n",
            " 59  DS_SITUACAO_CANDIDATO_PLEITO   57649 non-null  object \n",
            " 60  CD_SITUACAO_CANDIDATO_URNA     59991 non-null  int64  \n",
            " 61  DS_SITUACAO_CANDIDATO_URNA     57649 non-null  object \n",
            " 62  ST_CANDIDATO_INSERIDO_URNA     59991 non-null  object \n",
            "dtypes: float64(2), int64(24), object(37)\n",
            "memory usage: 28.8+ MB\n"
          ]
        }
      ],
      "metadata": {
        "id": "ac039a8c",
        "outputId": "19b37703-8874-4ad2-ff0c-94f6d5cf3bbc"
      }
    },
    {
      "cell_type": "code",
      "execution_count": null,
      "source": [
        "# Quantas candidaturas houveram em cada ano agrupado por gênero ?"
      ],
      "outputs": [],
      "metadata": {}
    },
    {
      "cell_type": "markdown",
      "source": [
        "# Começar a responder as perguntas"
      ],
      "metadata": {}
    },
    {
      "cell_type": "code",
      "execution_count": 27,
      "source": [
        "df_completo['DS_CARGO'].unique() # valores unicos na coluna cargo"
      ],
      "outputs": [
        {
          "output_type": "execute_result",
          "data": {
            "text/plain": [
              "array(['VEREADOR', 'VICE-PREFEITO', 'PREFEITO'], dtype=object)"
            ]
          },
          "metadata": {},
          "execution_count": 27
        }
      ],
      "metadata": {
        "id": "1cc6f4ad",
        "outputId": "584ccb9e-d6b4-4f04-a4e1-ebafda3fd660"
      }
    },
    {
      "cell_type": "code",
      "execution_count": 28,
      "source": [
        "df_completo['DS_DETALHE_SITUACAO_CAND'].unique()"
      ],
      "outputs": [
        {
          "output_type": "execute_result",
          "data": {
            "text/plain": [
              "array(['DEFERIDO', 'RENÚNCIA', 'INDEFERIDO', 'DEFERIDO COM RECURSO',\n",
              "       'INDEFERIDO COM RECURSO', 'NÃO CONHECIMENTO DO PEDIDO',\n",
              "       'CANCELADO', 'FALECIDO', 'PENDENTE DE JULGAMENTO',\n",
              "       'CASSADO COM RECURSO', 'CANCELADO COM RECURSO',\n",
              "       'PEDIDO NÃO CONHECIDO', 'CASSADO'], dtype=object)"
            ]
          },
          "metadata": {},
          "execution_count": 28
        }
      ],
      "metadata": {
        "id": "7fc56a1e",
        "outputId": "ef6c880a-7cb7-4dd5-cde6-86828f9f6813"
      }
    },
    {
      "cell_type": "code",
      "execution_count": 29,
      "source": [
        "df_vereadores = df_completo[\n",
        "    (df_completo['CD_CARGO'] == 13) & #and\n",
        "    ((df_completo['DS_DETALHE_SITUACAO_CAND'] == 'DEFERIDO') | #or\n",
        "    (df_completo['DS_DETALHE_SITUACAO_CAND'] == 'DEFERIDO COM RECURSO'))\n",
        "].copy() #shallow copy"
      ],
      "outputs": [],
      "metadata": {
        "id": "706e8b6e"
      }
    },
    {
      "cell_type": "code",
      "execution_count": 30,
      "source": [
        "df_vereadores.shape #conferir resgistrso filtrados pelo numero que diminuiu"
      ],
      "outputs": [
        {
          "output_type": "execute_result",
          "data": {
            "text/plain": [
              "(52176, 63)"
            ]
          },
          "metadata": {},
          "execution_count": 30
        }
      ],
      "metadata": {
        "id": "5230c4ad",
        "outputId": "2119057c-fced-4ba0-eddf-98fec914d5d2"
      }
    },
    {
      "cell_type": "code",
      "execution_count": 31,
      "source": [
        "df_raca_genero = df_vereadores[['ANO_ELEICAO', 'CD_CARGO', 'SG_UF', 'NR_PARTIDO', 'SG_PARTIDO', 'CD_GENERO', \n",
        "                                'DS_GENERO', 'CD_COR_RACA', 'DS_COR_RACA', 'NR_IDADE_DATA_POSSE', \n",
        "                                'VR_DESPESA_MAX_CAMPANHA']].copy()"
      ],
      "outputs": [],
      "metadata": {
        "id": "82d05ad0"
      }
    },
    {
      "cell_type": "code",
      "execution_count": 32,
      "source": [
        "df_raca_genero.head()"
      ],
      "outputs": [
        {
          "output_type": "execute_result",
          "data": {
            "text/plain": [
              "   ANO_ELEICAO  CD_CARGO SG_UF  NR_PARTIDO SG_PARTIDO  CD_GENERO  DS_GENERO  \\\n",
              "0         2016        13    PE          27       PSDC          4   FEMININO   \n",
              "1         2016        13    PE          22         PR          4   FEMININO   \n",
              "2         2016        13    PE          15       PMDB          2  MASCULINO   \n",
              "3         2016        13    PE          27       PSDC          2  MASCULINO   \n",
              "4         2016        13    PE          10        PRB          4   FEMININO   \n",
              "\n",
              "   CD_COR_RACA DS_COR_RACA  NR_IDADE_DATA_POSSE  VR_DESPESA_MAX_CAMPANHA  \n",
              "0            3       PARDA                 49.0                 96474.36  \n",
              "1            1      BRANCA                 26.0                 10803.91  \n",
              "2            3       PARDA                 40.0                 16678.93  \n",
              "3            1      BRANCA                 39.0                 21221.89  \n",
              "4            3       PARDA                 36.0                 10803.91  "
            ],
            "text/html": [
              "<div>\n",
              "<style scoped>\n",
              "    .dataframe tbody tr th:only-of-type {\n",
              "        vertical-align: middle;\n",
              "    }\n",
              "\n",
              "    .dataframe tbody tr th {\n",
              "        vertical-align: top;\n",
              "    }\n",
              "\n",
              "    .dataframe thead th {\n",
              "        text-align: right;\n",
              "    }\n",
              "</style>\n",
              "<table border=\"1\" class=\"dataframe\">\n",
              "  <thead>\n",
              "    <tr style=\"text-align: right;\">\n",
              "      <th></th>\n",
              "      <th>ANO_ELEICAO</th>\n",
              "      <th>CD_CARGO</th>\n",
              "      <th>SG_UF</th>\n",
              "      <th>NR_PARTIDO</th>\n",
              "      <th>SG_PARTIDO</th>\n",
              "      <th>CD_GENERO</th>\n",
              "      <th>DS_GENERO</th>\n",
              "      <th>CD_COR_RACA</th>\n",
              "      <th>DS_COR_RACA</th>\n",
              "      <th>NR_IDADE_DATA_POSSE</th>\n",
              "      <th>VR_DESPESA_MAX_CAMPANHA</th>\n",
              "    </tr>\n",
              "  </thead>\n",
              "  <tbody>\n",
              "    <tr>\n",
              "      <th>0</th>\n",
              "      <td>2016</td>\n",
              "      <td>13</td>\n",
              "      <td>PE</td>\n",
              "      <td>27</td>\n",
              "      <td>PSDC</td>\n",
              "      <td>4</td>\n",
              "      <td>FEMININO</td>\n",
              "      <td>3</td>\n",
              "      <td>PARDA</td>\n",
              "      <td>49.0</td>\n",
              "      <td>96474.36</td>\n",
              "    </tr>\n",
              "    <tr>\n",
              "      <th>1</th>\n",
              "      <td>2016</td>\n",
              "      <td>13</td>\n",
              "      <td>PE</td>\n",
              "      <td>22</td>\n",
              "      <td>PR</td>\n",
              "      <td>4</td>\n",
              "      <td>FEMININO</td>\n",
              "      <td>1</td>\n",
              "      <td>BRANCA</td>\n",
              "      <td>26.0</td>\n",
              "      <td>10803.91</td>\n",
              "    </tr>\n",
              "    <tr>\n",
              "      <th>2</th>\n",
              "      <td>2016</td>\n",
              "      <td>13</td>\n",
              "      <td>PE</td>\n",
              "      <td>15</td>\n",
              "      <td>PMDB</td>\n",
              "      <td>2</td>\n",
              "      <td>MASCULINO</td>\n",
              "      <td>3</td>\n",
              "      <td>PARDA</td>\n",
              "      <td>40.0</td>\n",
              "      <td>16678.93</td>\n",
              "    </tr>\n",
              "    <tr>\n",
              "      <th>3</th>\n",
              "      <td>2016</td>\n",
              "      <td>13</td>\n",
              "      <td>PE</td>\n",
              "      <td>27</td>\n",
              "      <td>PSDC</td>\n",
              "      <td>2</td>\n",
              "      <td>MASCULINO</td>\n",
              "      <td>1</td>\n",
              "      <td>BRANCA</td>\n",
              "      <td>39.0</td>\n",
              "      <td>21221.89</td>\n",
              "    </tr>\n",
              "    <tr>\n",
              "      <th>4</th>\n",
              "      <td>2016</td>\n",
              "      <td>13</td>\n",
              "      <td>PE</td>\n",
              "      <td>10</td>\n",
              "      <td>PRB</td>\n",
              "      <td>4</td>\n",
              "      <td>FEMININO</td>\n",
              "      <td>3</td>\n",
              "      <td>PARDA</td>\n",
              "      <td>36.0</td>\n",
              "      <td>10803.91</td>\n",
              "    </tr>\n",
              "  </tbody>\n",
              "</table>\n",
              "</div>"
            ]
          },
          "metadata": {},
          "execution_count": 32
        }
      ],
      "metadata": {
        "id": "3ac272b1",
        "outputId": "1a8cae1c-6587-4253-d328-42f637247e11"
      }
    },
    {
      "cell_type": "markdown",
      "source": [
        "# Quantas candidaturas houveram em cada ano agrupado por gênero ? "
      ],
      "metadata": {
        "id": "d2aa52d3"
      }
    },
    {
      "cell_type": "code",
      "execution_count": 52,
      "source": [
        "df_raca_genero[['ANO_ELEICAO', 'DS_GENERO', 'CD_CARGO']].groupby(by=['ANO_ELEICAO', 'DS_GENERO']).count()"
      ],
      "outputs": [
        {
          "output_type": "execute_result",
          "data": {
            "text/plain": [
              "                            CD_CARGO\n",
              "ANO_ELEICAO DS_GENERO               \n",
              "2016        FEMININO            7760\n",
              "            MASCULINO          16622\n",
              "            NÃO DIVULGÁVEL         1\n",
              "2020        FEMININO            9398\n",
              "            MASCULINO          18395"
            ],
            "text/html": [
              "<div>\n",
              "<style scoped>\n",
              "    .dataframe tbody tr th:only-of-type {\n",
              "        vertical-align: middle;\n",
              "    }\n",
              "\n",
              "    .dataframe tbody tr th {\n",
              "        vertical-align: top;\n",
              "    }\n",
              "\n",
              "    .dataframe thead th {\n",
              "        text-align: right;\n",
              "    }\n",
              "</style>\n",
              "<table border=\"1\" class=\"dataframe\">\n",
              "  <thead>\n",
              "    <tr style=\"text-align: right;\">\n",
              "      <th></th>\n",
              "      <th></th>\n",
              "      <th>CD_CARGO</th>\n",
              "    </tr>\n",
              "    <tr>\n",
              "      <th>ANO_ELEICAO</th>\n",
              "      <th>DS_GENERO</th>\n",
              "      <th></th>\n",
              "    </tr>\n",
              "  </thead>\n",
              "  <tbody>\n",
              "    <tr>\n",
              "      <th rowspan=\"3\" valign=\"top\">2016</th>\n",
              "      <th>FEMININO</th>\n",
              "      <td>7760</td>\n",
              "    </tr>\n",
              "    <tr>\n",
              "      <th>MASCULINO</th>\n",
              "      <td>16622</td>\n",
              "    </tr>\n",
              "    <tr>\n",
              "      <th>NÃO DIVULGÁVEL</th>\n",
              "      <td>1</td>\n",
              "    </tr>\n",
              "    <tr>\n",
              "      <th rowspan=\"2\" valign=\"top\">2020</th>\n",
              "      <th>FEMININO</th>\n",
              "      <td>9398</td>\n",
              "    </tr>\n",
              "    <tr>\n",
              "      <th>MASCULINO</th>\n",
              "      <td>18395</td>\n",
              "    </tr>\n",
              "  </tbody>\n",
              "</table>\n",
              "</div>"
            ]
          },
          "metadata": {},
          "execution_count": 52
        }
      ],
      "metadata": {
        "id": "5e6d362a",
        "outputId": "c61f73d8-29f4-40b3-9a91-a014782438d7"
      }
    },
    {
      "cell_type": "code",
      "execution_count": 61,
      "source": [
        "round(df_raca_genero[['DS_GENERO', 'VR_DESPESA_MAX_CAMPANHA']].groupby(by=['DS_GENERO']).mean(), 2) #para arredondar"
      ],
      "outputs": [
        {
          "output_type": "execute_result",
          "data": {
            "text/plain": [
              "                VR_DESPESA_MAX_CAMPANHA\n",
              "DS_GENERO                              \n",
              "FEMININO                       74018.08\n",
              "MASCULINO                      78522.27\n",
              "NÃO DIVULGÁVEL                    -4.00"
            ],
            "text/html": [
              "<div>\n",
              "<style scoped>\n",
              "    .dataframe tbody tr th:only-of-type {\n",
              "        vertical-align: middle;\n",
              "    }\n",
              "\n",
              "    .dataframe tbody tr th {\n",
              "        vertical-align: top;\n",
              "    }\n",
              "\n",
              "    .dataframe thead th {\n",
              "        text-align: right;\n",
              "    }\n",
              "</style>\n",
              "<table border=\"1\" class=\"dataframe\">\n",
              "  <thead>\n",
              "    <tr style=\"text-align: right;\">\n",
              "      <th></th>\n",
              "      <th>VR_DESPESA_MAX_CAMPANHA</th>\n",
              "    </tr>\n",
              "    <tr>\n",
              "      <th>DS_GENERO</th>\n",
              "      <th></th>\n",
              "    </tr>\n",
              "  </thead>\n",
              "  <tbody>\n",
              "    <tr>\n",
              "      <th>FEMININO</th>\n",
              "      <td>74018.08</td>\n",
              "    </tr>\n",
              "    <tr>\n",
              "      <th>MASCULINO</th>\n",
              "      <td>78522.27</td>\n",
              "    </tr>\n",
              "    <tr>\n",
              "      <th>NÃO DIVULGÁVEL</th>\n",
              "      <td>-4.00</td>\n",
              "    </tr>\n",
              "  </tbody>\n",
              "</table>\n",
              "</div>"
            ]
          },
          "metadata": {},
          "execution_count": 61
        }
      ],
      "metadata": {}
    },
    {
      "cell_type": "code",
      "execution_count": 55,
      "source": [
        "df_raca_genero[['ANO_ELEICAO', 'SG_UF','DS_GENERO']].groupby(by=['ANO_ELEICAO', 'DS_GENERO']).count().plot(kind='bar')"
      ],
      "outputs": [
        {
          "output_type": "execute_result",
          "data": {
            "text/plain": [
              "<AxesSubplot:xlabel='ANO_ELEICAO,DS_GENERO'>"
            ]
          },
          "metadata": {},
          "execution_count": 55
        },
        {
          "output_type": "display_data",
          "data": {
            "text/plain": [
              "<Figure size 432x288 with 1 Axes>"
            ],
            "image/svg+xml": "<?xml version=\"1.0\" encoding=\"utf-8\" standalone=\"no\"?>\n<!DOCTYPE svg PUBLIC \"-//W3C//DTD SVG 1.1//EN\"\n  \"http://www.w3.org/Graphics/SVG/1.1/DTD/svg11.dtd\">\n<svg height=\"380.49pt\" version=\"1.1\" viewBox=\"0 0 388.0125 380.49\" width=\"388.0125pt\" xmlns=\"http://www.w3.org/2000/svg\" xmlns:xlink=\"http://www.w3.org/1999/xlink\">\n <metadata>\n  <rdf:RDF xmlns:cc=\"http://creativecommons.org/ns#\" xmlns:dc=\"http://purl.org/dc/elements/1.1/\" xmlns:rdf=\"http://www.w3.org/1999/02/22-rdf-syntax-ns#\">\n   <cc:Work>\n    <dc:type rdf:resource=\"http://purl.org/dc/dcmitype/StillImage\"/>\n    <dc:date>2021-08-26T01:09:08.119743</dc:date>\n    <dc:format>image/svg+xml</dc:format>\n    <dc:creator>\n     <cc:Agent>\n      <dc:title>Matplotlib v3.4.3, https://matplotlib.org/</dc:title>\n     </cc:Agent>\n    </dc:creator>\n   </cc:Work>\n  </rdf:RDF>\n </metadata>\n <defs>\n  <style type=\"text/css\">*{stroke-linecap:butt;stroke-linejoin:round;}</style>\n </defs>\n <g id=\"figure_1\">\n  <g id=\"patch_1\">\n   <path d=\"M 0 380.49 \nL 388.0125 380.49 \nL 388.0125 0 \nL 0 0 \nz\n\" style=\"fill:none;\"/>\n  </g>\n  <g id=\"axes_1\">\n   <g id=\"patch_2\">\n    <path d=\"M 46.0125 224.64 \nL 380.8125 224.64 \nL 380.8125 7.2 \nL 46.0125 7.2 \nz\n\" style=\"fill:#ffffff;\"/>\n   </g>\n   <g id=\"patch_3\">\n    <path clip-path=\"url(#p9b651fb29e)\" d=\"M 62.7525 224.64 \nL 96.2325 224.64 \nL 96.2325 137.280112 \nL 62.7525 137.280112 \nz\n\" style=\"fill:#1f77b4;\"/>\n   </g>\n   <g id=\"patch_4\">\n    <path clip-path=\"url(#p9b651fb29e)\" d=\"M 129.7125 224.64 \nL 163.1925 224.64 \nL 163.1925 37.514219 \nL 129.7125 37.514219 \nz\n\" style=\"fill:#1f77b4;\"/>\n   </g>\n   <g id=\"patch_5\">\n    <path clip-path=\"url(#p9b651fb29e)\" d=\"M 196.6725 224.64 \nL 230.1525 224.64 \nL 230.1525 224.628742 \nL 196.6725 224.628742 \nz\n\" style=\"fill:#1f77b4;\"/>\n   </g>\n   <g id=\"patch_6\">\n    <path clip-path=\"url(#p9b651fb29e)\" d=\"M 263.6325 224.64 \nL 297.1125 224.64 \nL 297.1125 118.83997 \nL 263.6325 118.83997 \nz\n\" style=\"fill:#1f77b4;\"/>\n   </g>\n   <g id=\"patch_7\">\n    <path clip-path=\"url(#p9b651fb29e)\" d=\"M 330.5925 224.64 \nL 364.0725 224.64 \nL 364.0725 17.554286 \nL 330.5925 17.554286 \nz\n\" style=\"fill:#1f77b4;\"/>\n   </g>\n   <g id=\"matplotlib.axis_1\">\n    <g id=\"xtick_1\">\n     <g id=\"line2d_1\">\n      <defs>\n       <path d=\"M 0 0 \nL 0 3.5 \n\" id=\"mc3d556331f\" style=\"stroke:#000000;stroke-width:0.8;\"/>\n      </defs>\n      <g>\n       <use style=\"stroke:#000000;stroke-width:0.8;\" x=\"79.4925\" xlink:href=\"#mc3d556331f\" y=\"224.64\"/>\n      </g>\n     </g>\n     <g id=\"text_1\">\n      <!-- (2016, FEMININO) -->\n      <g transform=\"translate(82.251875 320.682187)rotate(-90)scale(0.1 -0.1)\">\n       <defs>\n        <path d=\"M 1984 4856 \nQ 1566 4138 1362 3434 \nQ 1159 2731 1159 2009 \nQ 1159 1288 1364 580 \nQ 1569 -128 1984 -844 \nL 1484 -844 \nQ 1016 -109 783 600 \nQ 550 1309 550 2009 \nQ 550 2706 781 3412 \nQ 1013 4119 1484 4856 \nL 1984 4856 \nz\n\" id=\"DejaVuSans-28\" transform=\"scale(0.015625)\"/>\n        <path d=\"M 1228 531 \nL 3431 531 \nL 3431 0 \nL 469 0 \nL 469 531 \nQ 828 903 1448 1529 \nQ 2069 2156 2228 2338 \nQ 2531 2678 2651 2914 \nQ 2772 3150 2772 3378 \nQ 2772 3750 2511 3984 \nQ 2250 4219 1831 4219 \nQ 1534 4219 1204 4116 \nQ 875 4013 500 3803 \nL 500 4441 \nQ 881 4594 1212 4672 \nQ 1544 4750 1819 4750 \nQ 2544 4750 2975 4387 \nQ 3406 4025 3406 3419 \nQ 3406 3131 3298 2873 \nQ 3191 2616 2906 2266 \nQ 2828 2175 2409 1742 \nQ 1991 1309 1228 531 \nz\n\" id=\"DejaVuSans-32\" transform=\"scale(0.015625)\"/>\n        <path d=\"M 2034 4250 \nQ 1547 4250 1301 3770 \nQ 1056 3291 1056 2328 \nQ 1056 1369 1301 889 \nQ 1547 409 2034 409 \nQ 2525 409 2770 889 \nQ 3016 1369 3016 2328 \nQ 3016 3291 2770 3770 \nQ 2525 4250 2034 4250 \nz\nM 2034 4750 \nQ 2819 4750 3233 4129 \nQ 3647 3509 3647 2328 \nQ 3647 1150 3233 529 \nQ 2819 -91 2034 -91 \nQ 1250 -91 836 529 \nQ 422 1150 422 2328 \nQ 422 3509 836 4129 \nQ 1250 4750 2034 4750 \nz\n\" id=\"DejaVuSans-30\" transform=\"scale(0.015625)\"/>\n        <path d=\"M 794 531 \nL 1825 531 \nL 1825 4091 \nL 703 3866 \nL 703 4441 \nL 1819 4666 \nL 2450 4666 \nL 2450 531 \nL 3481 531 \nL 3481 0 \nL 794 0 \nL 794 531 \nz\n\" id=\"DejaVuSans-31\" transform=\"scale(0.015625)\"/>\n        <path d=\"M 2113 2584 \nQ 1688 2584 1439 2293 \nQ 1191 2003 1191 1497 \nQ 1191 994 1439 701 \nQ 1688 409 2113 409 \nQ 2538 409 2786 701 \nQ 3034 994 3034 1497 \nQ 3034 2003 2786 2293 \nQ 2538 2584 2113 2584 \nz\nM 3366 4563 \nL 3366 3988 \nQ 3128 4100 2886 4159 \nQ 2644 4219 2406 4219 \nQ 1781 4219 1451 3797 \nQ 1122 3375 1075 2522 \nQ 1259 2794 1537 2939 \nQ 1816 3084 2150 3084 \nQ 2853 3084 3261 2657 \nQ 3669 2231 3669 1497 \nQ 3669 778 3244 343 \nQ 2819 -91 2113 -91 \nQ 1303 -91 875 529 \nQ 447 1150 447 2328 \nQ 447 3434 972 4092 \nQ 1497 4750 2381 4750 \nQ 2619 4750 2861 4703 \nQ 3103 4656 3366 4563 \nz\n\" id=\"DejaVuSans-36\" transform=\"scale(0.015625)\"/>\n        <path d=\"M 750 794 \nL 1409 794 \nL 1409 256 \nL 897 -744 \nL 494 -744 \nL 750 256 \nL 750 794 \nz\n\" id=\"DejaVuSans-2c\" transform=\"scale(0.015625)\"/>\n        <path id=\"DejaVuSans-20\" transform=\"scale(0.015625)\"/>\n        <path d=\"M 628 4666 \nL 3309 4666 \nL 3309 4134 \nL 1259 4134 \nL 1259 2759 \nL 3109 2759 \nL 3109 2228 \nL 1259 2228 \nL 1259 0 \nL 628 0 \nL 628 4666 \nz\n\" id=\"DejaVuSans-46\" transform=\"scale(0.015625)\"/>\n        <path d=\"M 628 4666 \nL 3578 4666 \nL 3578 4134 \nL 1259 4134 \nL 1259 2753 \nL 3481 2753 \nL 3481 2222 \nL 1259 2222 \nL 1259 531 \nL 3634 531 \nL 3634 0 \nL 628 0 \nL 628 4666 \nz\n\" id=\"DejaVuSans-45\" transform=\"scale(0.015625)\"/>\n        <path d=\"M 628 4666 \nL 1569 4666 \nL 2759 1491 \nL 3956 4666 \nL 4897 4666 \nL 4897 0 \nL 4281 0 \nL 4281 4097 \nL 3078 897 \nL 2444 897 \nL 1241 4097 \nL 1241 0 \nL 628 0 \nL 628 4666 \nz\n\" id=\"DejaVuSans-4d\" transform=\"scale(0.015625)\"/>\n        <path d=\"M 628 4666 \nL 1259 4666 \nL 1259 0 \nL 628 0 \nL 628 4666 \nz\n\" id=\"DejaVuSans-49\" transform=\"scale(0.015625)\"/>\n        <path d=\"M 628 4666 \nL 1478 4666 \nL 3547 763 \nL 3547 4666 \nL 4159 4666 \nL 4159 0 \nL 3309 0 \nL 1241 3903 \nL 1241 0 \nL 628 0 \nL 628 4666 \nz\n\" id=\"DejaVuSans-4e\" transform=\"scale(0.015625)\"/>\n        <path d=\"M 2522 4238 \nQ 1834 4238 1429 3725 \nQ 1025 3213 1025 2328 \nQ 1025 1447 1429 934 \nQ 1834 422 2522 422 \nQ 3209 422 3611 934 \nQ 4013 1447 4013 2328 \nQ 4013 3213 3611 3725 \nQ 3209 4238 2522 4238 \nz\nM 2522 4750 \nQ 3503 4750 4090 4092 \nQ 4678 3434 4678 2328 \nQ 4678 1225 4090 567 \nQ 3503 -91 2522 -91 \nQ 1538 -91 948 565 \nQ 359 1222 359 2328 \nQ 359 3434 948 4092 \nQ 1538 4750 2522 4750 \nz\n\" id=\"DejaVuSans-4f\" transform=\"scale(0.015625)\"/>\n        <path d=\"M 513 4856 \nL 1013 4856 \nQ 1481 4119 1714 3412 \nQ 1947 2706 1947 2009 \nQ 1947 1309 1714 600 \nQ 1481 -109 1013 -844 \nL 513 -844 \nQ 928 -128 1133 580 \nQ 1338 1288 1338 2009 \nQ 1338 2731 1133 3434 \nQ 928 4138 513 4856 \nz\n\" id=\"DejaVuSans-29\" transform=\"scale(0.015625)\"/>\n       </defs>\n       <use xlink:href=\"#DejaVuSans-28\"/>\n       <use x=\"39.013672\" xlink:href=\"#DejaVuSans-32\"/>\n       <use x=\"102.636719\" xlink:href=\"#DejaVuSans-30\"/>\n       <use x=\"166.259766\" xlink:href=\"#DejaVuSans-31\"/>\n       <use x=\"229.882812\" xlink:href=\"#DejaVuSans-36\"/>\n       <use x=\"293.505859\" xlink:href=\"#DejaVuSans-2c\"/>\n       <use x=\"325.292969\" xlink:href=\"#DejaVuSans-20\"/>\n       <use x=\"357.080078\" xlink:href=\"#DejaVuSans-46\"/>\n       <use x=\"414.599609\" xlink:href=\"#DejaVuSans-45\"/>\n       <use x=\"477.783203\" xlink:href=\"#DejaVuSans-4d\"/>\n       <use x=\"564.0625\" xlink:href=\"#DejaVuSans-49\"/>\n       <use x=\"593.554688\" xlink:href=\"#DejaVuSans-4e\"/>\n       <use x=\"668.359375\" xlink:href=\"#DejaVuSans-49\"/>\n       <use x=\"697.851562\" xlink:href=\"#DejaVuSans-4e\"/>\n       <use x=\"772.65625\" xlink:href=\"#DejaVuSans-4f\"/>\n       <use x=\"851.367188\" xlink:href=\"#DejaVuSans-29\"/>\n      </g>\n     </g>\n    </g>\n    <g id=\"xtick_2\">\n     <g id=\"line2d_2\">\n      <g>\n       <use style=\"stroke:#000000;stroke-width:0.8;\" x=\"146.4525\" xlink:href=\"#mc3d556331f\" y=\"224.64\"/>\n      </g>\n     </g>\n     <g id=\"text_2\">\n      <!-- (2016, MASCULINO) -->\n      <g transform=\"translate(149.211875 331.243125)rotate(-90)scale(0.1 -0.1)\">\n       <defs>\n        <path d=\"M 2188 4044 \nL 1331 1722 \nL 3047 1722 \nL 2188 4044 \nz\nM 1831 4666 \nL 2547 4666 \nL 4325 0 \nL 3669 0 \nL 3244 1197 \nL 1141 1197 \nL 716 0 \nL 50 0 \nL 1831 4666 \nz\n\" id=\"DejaVuSans-41\" transform=\"scale(0.015625)\"/>\n        <path d=\"M 3425 4513 \nL 3425 3897 \nQ 3066 4069 2747 4153 \nQ 2428 4238 2131 4238 \nQ 1616 4238 1336 4038 \nQ 1056 3838 1056 3469 \nQ 1056 3159 1242 3001 \nQ 1428 2844 1947 2747 \nL 2328 2669 \nQ 3034 2534 3370 2195 \nQ 3706 1856 3706 1288 \nQ 3706 609 3251 259 \nQ 2797 -91 1919 -91 \nQ 1588 -91 1214 -16 \nQ 841 59 441 206 \nL 441 856 \nQ 825 641 1194 531 \nQ 1563 422 1919 422 \nQ 2459 422 2753 634 \nQ 3047 847 3047 1241 \nQ 3047 1584 2836 1778 \nQ 2625 1972 2144 2069 \nL 1759 2144 \nQ 1053 2284 737 2584 \nQ 422 2884 422 3419 \nQ 422 4038 858 4394 \nQ 1294 4750 2059 4750 \nQ 2388 4750 2728 4690 \nQ 3069 4631 3425 4513 \nz\n\" id=\"DejaVuSans-53\" transform=\"scale(0.015625)\"/>\n        <path d=\"M 4122 4306 \nL 4122 3641 \nQ 3803 3938 3442 4084 \nQ 3081 4231 2675 4231 \nQ 1875 4231 1450 3742 \nQ 1025 3253 1025 2328 \nQ 1025 1406 1450 917 \nQ 1875 428 2675 428 \nQ 3081 428 3442 575 \nQ 3803 722 4122 1019 \nL 4122 359 \nQ 3791 134 3420 21 \nQ 3050 -91 2638 -91 \nQ 1578 -91 968 557 \nQ 359 1206 359 2328 \nQ 359 3453 968 4101 \nQ 1578 4750 2638 4750 \nQ 3056 4750 3426 4639 \nQ 3797 4528 4122 4306 \nz\n\" id=\"DejaVuSans-43\" transform=\"scale(0.015625)\"/>\n        <path d=\"M 556 4666 \nL 1191 4666 \nL 1191 1831 \nQ 1191 1081 1462 751 \nQ 1734 422 2344 422 \nQ 2950 422 3222 751 \nQ 3494 1081 3494 1831 \nL 3494 4666 \nL 4128 4666 \nL 4128 1753 \nQ 4128 841 3676 375 \nQ 3225 -91 2344 -91 \nQ 1459 -91 1007 375 \nQ 556 841 556 1753 \nL 556 4666 \nz\n\" id=\"DejaVuSans-55\" transform=\"scale(0.015625)\"/>\n        <path d=\"M 628 4666 \nL 1259 4666 \nL 1259 531 \nL 3531 531 \nL 3531 0 \nL 628 0 \nL 628 4666 \nz\n\" id=\"DejaVuSans-4c\" transform=\"scale(0.015625)\"/>\n       </defs>\n       <use xlink:href=\"#DejaVuSans-28\"/>\n       <use x=\"39.013672\" xlink:href=\"#DejaVuSans-32\"/>\n       <use x=\"102.636719\" xlink:href=\"#DejaVuSans-30\"/>\n       <use x=\"166.259766\" xlink:href=\"#DejaVuSans-31\"/>\n       <use x=\"229.882812\" xlink:href=\"#DejaVuSans-36\"/>\n       <use x=\"293.505859\" xlink:href=\"#DejaVuSans-2c\"/>\n       <use x=\"325.292969\" xlink:href=\"#DejaVuSans-20\"/>\n       <use x=\"357.080078\" xlink:href=\"#DejaVuSans-4d\"/>\n       <use x=\"443.359375\" xlink:href=\"#DejaVuSans-41\"/>\n       <use x=\"511.767578\" xlink:href=\"#DejaVuSans-53\"/>\n       <use x=\"575.244141\" xlink:href=\"#DejaVuSans-43\"/>\n       <use x=\"645.068359\" xlink:href=\"#DejaVuSans-55\"/>\n       <use x=\"718.261719\" xlink:href=\"#DejaVuSans-4c\"/>\n       <use x=\"773.974609\" xlink:href=\"#DejaVuSans-49\"/>\n       <use x=\"803.466797\" xlink:href=\"#DejaVuSans-4e\"/>\n       <use x=\"878.271484\" xlink:href=\"#DejaVuSans-4f\"/>\n       <use x=\"956.982422\" xlink:href=\"#DejaVuSans-29\"/>\n      </g>\n     </g>\n    </g>\n    <g id=\"xtick_3\">\n     <g id=\"line2d_3\">\n      <g>\n       <use style=\"stroke:#000000;stroke-width:0.8;\" x=\"213.4125\" xlink:href=\"#mc3d556331f\" y=\"224.64\"/>\n      </g>\n     </g>\n     <g id=\"text_3\">\n      <!-- (2016, NÃO DIVULGÁVEL) -->\n      <g transform=\"translate(216.617969 359.510312)rotate(-90)scale(0.1 -0.1)\">\n       <defs>\n        <path d=\"M 2188 4044 \nL 1331 1722 \nL 3047 1722 \nL 2188 4044 \nz\nM 1831 4666 \nL 2547 4666 \nL 4325 0 \nL 3669 0 \nL 3244 1197 \nL 1141 1197 \nL 716 0 \nL 50 0 \nL 1831 4666 \nz\nM 2172 5330 \nL 1993 5433 \nQ 1915 5477 1866 5494 \nQ 1818 5511 1781 5511 \nQ 1668 5511 1605 5433 \nQ 1543 5355 1543 5215 \nL 1543 5196 \nL 1153 5196 \nQ 1153 5511 1314 5695 \nQ 1475 5880 1743 5880 \nQ 1856 5880 1951 5855 \nQ 2047 5830 2197 5746 \nL 2375 5652 \nQ 2447 5611 2500 5592 \nQ 2553 5574 2600 5574 \nQ 2700 5574 2762 5653 \nQ 2825 5733 2825 5861 \nL 2825 5880 \nL 3215 5880 \nQ 3209 5568 3048 5382 \nQ 2887 5196 2625 5196 \nQ 2518 5196 2426 5221 \nQ 2334 5246 2172 5330 \nz\n\" id=\"DejaVuSans-c3\" transform=\"scale(0.015625)\"/>\n        <path d=\"M 1259 4147 \nL 1259 519 \nL 2022 519 \nQ 2988 519 3436 956 \nQ 3884 1394 3884 2338 \nQ 3884 3275 3436 3711 \nQ 2988 4147 2022 4147 \nL 1259 4147 \nz\nM 628 4666 \nL 1925 4666 \nQ 3281 4666 3915 4102 \nQ 4550 3538 4550 2338 \nQ 4550 1131 3912 565 \nQ 3275 0 1925 0 \nL 628 0 \nL 628 4666 \nz\n\" id=\"DejaVuSans-44\" transform=\"scale(0.015625)\"/>\n        <path d=\"M 1831 0 \nL 50 4666 \nL 709 4666 \nL 2188 738 \nL 3669 4666 \nL 4325 4666 \nL 2547 0 \nL 1831 0 \nz\n\" id=\"DejaVuSans-56\" transform=\"scale(0.015625)\"/>\n        <path d=\"M 3809 666 \nL 3809 1919 \nL 2778 1919 \nL 2778 2438 \nL 4434 2438 \nL 4434 434 \nQ 4069 175 3628 42 \nQ 3188 -91 2688 -91 \nQ 1594 -91 976 548 \nQ 359 1188 359 2328 \nQ 359 3472 976 4111 \nQ 1594 4750 2688 4750 \nQ 3144 4750 3555 4637 \nQ 3966 4525 4313 4306 \nL 4313 3634 \nQ 3963 3931 3569 4081 \nQ 3175 4231 2741 4231 \nQ 1884 4231 1454 3753 \nQ 1025 3275 1025 2328 \nQ 1025 1384 1454 906 \nQ 1884 428 2741 428 \nQ 3075 428 3337 486 \nQ 3600 544 3809 666 \nz\n\" id=\"DejaVuSans-47\" transform=\"scale(0.015625)\"/>\n        <path d=\"M 2188 4044 \nL 1331 1722 \nL 3047 1722 \nL 2188 4044 \nz\nM 1831 4666 \nL 2547 4666 \nL 4325 0 \nL 3669 0 \nL 3244 1197 \nL 1141 1197 \nL 716 0 \nL 50 0 \nL 1831 4666 \nz\nM 2356 5921 \nL 2934 5921 \nL 2222 5096 \nL 1743 5096 \nL 2356 5921 \nz\n\" id=\"DejaVuSans-c1\" transform=\"scale(0.015625)\"/>\n       </defs>\n       <use xlink:href=\"#DejaVuSans-28\"/>\n       <use x=\"39.013672\" xlink:href=\"#DejaVuSans-32\"/>\n       <use x=\"102.636719\" xlink:href=\"#DejaVuSans-30\"/>\n       <use x=\"166.259766\" xlink:href=\"#DejaVuSans-31\"/>\n       <use x=\"229.882812\" xlink:href=\"#DejaVuSans-36\"/>\n       <use x=\"293.505859\" xlink:href=\"#DejaVuSans-2c\"/>\n       <use x=\"325.292969\" xlink:href=\"#DejaVuSans-20\"/>\n       <use x=\"357.080078\" xlink:href=\"#DejaVuSans-4e\"/>\n       <use x=\"431.884766\" xlink:href=\"#DejaVuSans-c3\"/>\n       <use x=\"498.542969\" xlink:href=\"#DejaVuSans-4f\"/>\n       <use x=\"577.253906\" xlink:href=\"#DejaVuSans-20\"/>\n       <use x=\"609.041016\" xlink:href=\"#DejaVuSans-44\"/>\n       <use x=\"686.042969\" xlink:href=\"#DejaVuSans-49\"/>\n       <use x=\"715.535156\" xlink:href=\"#DejaVuSans-56\"/>\n       <use x=\"783.943359\" xlink:href=\"#DejaVuSans-55\"/>\n       <use x=\"857.136719\" xlink:href=\"#DejaVuSans-4c\"/>\n       <use x=\"912.849609\" xlink:href=\"#DejaVuSans-47\"/>\n       <use x=\"990.339844\" xlink:href=\"#DejaVuSans-c1\"/>\n       <use x=\"1052.373047\" xlink:href=\"#DejaVuSans-56\"/>\n       <use x=\"1120.78125\" xlink:href=\"#DejaVuSans-45\"/>\n       <use x=\"1183.964844\" xlink:href=\"#DejaVuSans-4c\"/>\n       <use x=\"1239.677734\" xlink:href=\"#DejaVuSans-29\"/>\n      </g>\n     </g>\n    </g>\n    <g id=\"xtick_4\">\n     <g id=\"line2d_4\">\n      <g>\n       <use style=\"stroke:#000000;stroke-width:0.8;\" x=\"280.3725\" xlink:href=\"#mc3d556331f\" y=\"224.64\"/>\n      </g>\n     </g>\n     <g id=\"text_4\">\n      <!-- (2020, FEMININO) -->\n      <g transform=\"translate(283.131875 320.682187)rotate(-90)scale(0.1 -0.1)\">\n       <use xlink:href=\"#DejaVuSans-28\"/>\n       <use x=\"39.013672\" xlink:href=\"#DejaVuSans-32\"/>\n       <use x=\"102.636719\" xlink:href=\"#DejaVuSans-30\"/>\n       <use x=\"166.259766\" xlink:href=\"#DejaVuSans-32\"/>\n       <use x=\"229.882812\" xlink:href=\"#DejaVuSans-30\"/>\n       <use x=\"293.505859\" xlink:href=\"#DejaVuSans-2c\"/>\n       <use x=\"325.292969\" xlink:href=\"#DejaVuSans-20\"/>\n       <use x=\"357.080078\" xlink:href=\"#DejaVuSans-46\"/>\n       <use x=\"414.599609\" xlink:href=\"#DejaVuSans-45\"/>\n       <use x=\"477.783203\" xlink:href=\"#DejaVuSans-4d\"/>\n       <use x=\"564.0625\" xlink:href=\"#DejaVuSans-49\"/>\n       <use x=\"593.554688\" xlink:href=\"#DejaVuSans-4e\"/>\n       <use x=\"668.359375\" xlink:href=\"#DejaVuSans-49\"/>\n       <use x=\"697.851562\" xlink:href=\"#DejaVuSans-4e\"/>\n       <use x=\"772.65625\" xlink:href=\"#DejaVuSans-4f\"/>\n       <use x=\"851.367188\" xlink:href=\"#DejaVuSans-29\"/>\n      </g>\n     </g>\n    </g>\n    <g id=\"xtick_5\">\n     <g id=\"line2d_5\">\n      <g>\n       <use style=\"stroke:#000000;stroke-width:0.8;\" x=\"347.3325\" xlink:href=\"#mc3d556331f\" y=\"224.64\"/>\n      </g>\n     </g>\n     <g id=\"text_5\">\n      <!-- (2020, MASCULINO) -->\n      <g transform=\"translate(350.091875 331.243125)rotate(-90)scale(0.1 -0.1)\">\n       <use xlink:href=\"#DejaVuSans-28\"/>\n       <use x=\"39.013672\" xlink:href=\"#DejaVuSans-32\"/>\n       <use x=\"102.636719\" xlink:href=\"#DejaVuSans-30\"/>\n       <use x=\"166.259766\" xlink:href=\"#DejaVuSans-32\"/>\n       <use x=\"229.882812\" xlink:href=\"#DejaVuSans-30\"/>\n       <use x=\"293.505859\" xlink:href=\"#DejaVuSans-2c\"/>\n       <use x=\"325.292969\" xlink:href=\"#DejaVuSans-20\"/>\n       <use x=\"357.080078\" xlink:href=\"#DejaVuSans-4d\"/>\n       <use x=\"443.359375\" xlink:href=\"#DejaVuSans-41\"/>\n       <use x=\"511.767578\" xlink:href=\"#DejaVuSans-53\"/>\n       <use x=\"575.244141\" xlink:href=\"#DejaVuSans-43\"/>\n       <use x=\"645.068359\" xlink:href=\"#DejaVuSans-55\"/>\n       <use x=\"718.261719\" xlink:href=\"#DejaVuSans-4c\"/>\n       <use x=\"773.974609\" xlink:href=\"#DejaVuSans-49\"/>\n       <use x=\"803.466797\" xlink:href=\"#DejaVuSans-4e\"/>\n       <use x=\"878.271484\" xlink:href=\"#DejaVuSans-4f\"/>\n       <use x=\"956.982422\" xlink:href=\"#DejaVuSans-29\"/>\n      </g>\n     </g>\n    </g>\n    <g id=\"text_6\">\n     <!-- ANO_ELEICAO,DS_GENERO -->\n     <g transform=\"translate(146.01875 370.932187)scale(0.1 -0.1)\">\n      <defs>\n       <path d=\"M 3263 -1063 \nL 3263 -1509 \nL -63 -1509 \nL -63 -1063 \nL 3263 -1063 \nz\n\" id=\"DejaVuSans-5f\" transform=\"scale(0.015625)\"/>\n       <path d=\"M 2841 2188 \nQ 3044 2119 3236 1894 \nQ 3428 1669 3622 1275 \nL 4263 0 \nL 3584 0 \nL 2988 1197 \nQ 2756 1666 2539 1819 \nQ 2322 1972 1947 1972 \nL 1259 1972 \nL 1259 0 \nL 628 0 \nL 628 4666 \nL 2053 4666 \nQ 2853 4666 3247 4331 \nQ 3641 3997 3641 3322 \nQ 3641 2881 3436 2590 \nQ 3231 2300 2841 2188 \nz\nM 1259 4147 \nL 1259 2491 \nL 2053 2491 \nQ 2509 2491 2742 2702 \nQ 2975 2913 2975 3322 \nQ 2975 3731 2742 3939 \nQ 2509 4147 2053 4147 \nL 1259 4147 \nz\n\" id=\"DejaVuSans-52\" transform=\"scale(0.015625)\"/>\n      </defs>\n      <use xlink:href=\"#DejaVuSans-41\"/>\n      <use x=\"68.408203\" xlink:href=\"#DejaVuSans-4e\"/>\n      <use x=\"143.212891\" xlink:href=\"#DejaVuSans-4f\"/>\n      <use x=\"221.923828\" xlink:href=\"#DejaVuSans-5f\"/>\n      <use x=\"271.923828\" xlink:href=\"#DejaVuSans-45\"/>\n      <use x=\"335.107422\" xlink:href=\"#DejaVuSans-4c\"/>\n      <use x=\"390.820312\" xlink:href=\"#DejaVuSans-45\"/>\n      <use x=\"454.003906\" xlink:href=\"#DejaVuSans-49\"/>\n      <use x=\"483.496094\" xlink:href=\"#DejaVuSans-43\"/>\n      <use x=\"553.320312\" xlink:href=\"#DejaVuSans-41\"/>\n      <use x=\"619.978516\" xlink:href=\"#DejaVuSans-4f\"/>\n      <use x=\"698.689453\" xlink:href=\"#DejaVuSans-2c\"/>\n      <use x=\"730.476562\" xlink:href=\"#DejaVuSans-44\"/>\n      <use x=\"807.478516\" xlink:href=\"#DejaVuSans-53\"/>\n      <use x=\"870.955078\" xlink:href=\"#DejaVuSans-5f\"/>\n      <use x=\"920.955078\" xlink:href=\"#DejaVuSans-47\"/>\n      <use x=\"998.445312\" xlink:href=\"#DejaVuSans-45\"/>\n      <use x=\"1061.628906\" xlink:href=\"#DejaVuSans-4e\"/>\n      <use x=\"1136.433594\" xlink:href=\"#DejaVuSans-45\"/>\n      <use x=\"1199.617188\" xlink:href=\"#DejaVuSans-52\"/>\n      <use x=\"1269.099609\" xlink:href=\"#DejaVuSans-4f\"/>\n     </g>\n    </g>\n   </g>\n   <g id=\"matplotlib.axis_2\">\n    <g id=\"ytick_1\">\n     <g id=\"line2d_6\">\n      <defs>\n       <path d=\"M 0 0 \nL -3.5 0 \n\" id=\"m1c4d7bdfac\" style=\"stroke:#000000;stroke-width:0.8;\"/>\n      </defs>\n      <g>\n       <use style=\"stroke:#000000;stroke-width:0.8;\" x=\"46.0125\" xlink:href=\"#m1c4d7bdfac\" y=\"224.64\"/>\n      </g>\n     </g>\n     <g id=\"text_7\">\n      <!-- 0 -->\n      <g transform=\"translate(32.65 228.439219)scale(0.1 -0.1)\">\n       <use xlink:href=\"#DejaVuSans-30\"/>\n      </g>\n     </g>\n    </g>\n    <g id=\"ytick_2\">\n     <g id=\"line2d_7\">\n      <g>\n       <use style=\"stroke:#000000;stroke-width:0.8;\" x=\"46.0125\" xlink:href=\"#m1c4d7bdfac\" y=\"196.495706\"/>\n      </g>\n     </g>\n     <g id=\"text_8\">\n      <!-- 2500 -->\n      <g transform=\"translate(13.5625 200.294925)scale(0.1 -0.1)\">\n       <defs>\n        <path d=\"M 691 4666 \nL 3169 4666 \nL 3169 4134 \nL 1269 4134 \nL 1269 2991 \nQ 1406 3038 1543 3061 \nQ 1681 3084 1819 3084 \nQ 2600 3084 3056 2656 \nQ 3513 2228 3513 1497 \nQ 3513 744 3044 326 \nQ 2575 -91 1722 -91 \nQ 1428 -91 1123 -41 \nQ 819 9 494 109 \nL 494 744 \nQ 775 591 1075 516 \nQ 1375 441 1709 441 \nQ 2250 441 2565 725 \nQ 2881 1009 2881 1497 \nQ 2881 1984 2565 2268 \nQ 2250 2553 1709 2553 \nQ 1456 2553 1204 2497 \nQ 953 2441 691 2322 \nL 691 4666 \nz\n\" id=\"DejaVuSans-35\" transform=\"scale(0.015625)\"/>\n       </defs>\n       <use xlink:href=\"#DejaVuSans-32\"/>\n       <use x=\"63.623047\" xlink:href=\"#DejaVuSans-35\"/>\n       <use x=\"127.246094\" xlink:href=\"#DejaVuSans-30\"/>\n       <use x=\"190.869141\" xlink:href=\"#DejaVuSans-30\"/>\n      </g>\n     </g>\n    </g>\n    <g id=\"ytick_3\">\n     <g id=\"line2d_8\">\n      <g>\n       <use style=\"stroke:#000000;stroke-width:0.8;\" x=\"46.0125\" xlink:href=\"#m1c4d7bdfac\" y=\"168.351412\"/>\n      </g>\n     </g>\n     <g id=\"text_9\">\n      <!-- 5000 -->\n      <g transform=\"translate(13.5625 172.150631)scale(0.1 -0.1)\">\n       <use xlink:href=\"#DejaVuSans-35\"/>\n       <use x=\"63.623047\" xlink:href=\"#DejaVuSans-30\"/>\n       <use x=\"127.246094\" xlink:href=\"#DejaVuSans-30\"/>\n       <use x=\"190.869141\" xlink:href=\"#DejaVuSans-30\"/>\n      </g>\n     </g>\n    </g>\n    <g id=\"ytick_4\">\n     <g id=\"line2d_9\">\n      <g>\n       <use style=\"stroke:#000000;stroke-width:0.8;\" x=\"46.0125\" xlink:href=\"#m1c4d7bdfac\" y=\"140.207118\"/>\n      </g>\n     </g>\n     <g id=\"text_10\">\n      <!-- 7500 -->\n      <g transform=\"translate(13.5625 144.006337)scale(0.1 -0.1)\">\n       <defs>\n        <path d=\"M 525 4666 \nL 3525 4666 \nL 3525 4397 \nL 1831 0 \nL 1172 0 \nL 2766 4134 \nL 525 4134 \nL 525 4666 \nz\n\" id=\"DejaVuSans-37\" transform=\"scale(0.015625)\"/>\n       </defs>\n       <use xlink:href=\"#DejaVuSans-37\"/>\n       <use x=\"63.623047\" xlink:href=\"#DejaVuSans-35\"/>\n       <use x=\"127.246094\" xlink:href=\"#DejaVuSans-30\"/>\n       <use x=\"190.869141\" xlink:href=\"#DejaVuSans-30\"/>\n      </g>\n     </g>\n    </g>\n    <g id=\"ytick_5\">\n     <g id=\"line2d_10\">\n      <g>\n       <use style=\"stroke:#000000;stroke-width:0.8;\" x=\"46.0125\" xlink:href=\"#m1c4d7bdfac\" y=\"112.062825\"/>\n      </g>\n     </g>\n     <g id=\"text_11\">\n      <!-- 10000 -->\n      <g transform=\"translate(7.2 115.862043)scale(0.1 -0.1)\">\n       <use xlink:href=\"#DejaVuSans-31\"/>\n       <use x=\"63.623047\" xlink:href=\"#DejaVuSans-30\"/>\n       <use x=\"127.246094\" xlink:href=\"#DejaVuSans-30\"/>\n       <use x=\"190.869141\" xlink:href=\"#DejaVuSans-30\"/>\n       <use x=\"254.492188\" xlink:href=\"#DejaVuSans-30\"/>\n      </g>\n     </g>\n    </g>\n    <g id=\"ytick_6\">\n     <g id=\"line2d_11\">\n      <g>\n       <use style=\"stroke:#000000;stroke-width:0.8;\" x=\"46.0125\" xlink:href=\"#m1c4d7bdfac\" y=\"83.918531\"/>\n      </g>\n     </g>\n     <g id=\"text_12\">\n      <!-- 12500 -->\n      <g transform=\"translate(7.2 87.717749)scale(0.1 -0.1)\">\n       <use xlink:href=\"#DejaVuSans-31\"/>\n       <use x=\"63.623047\" xlink:href=\"#DejaVuSans-32\"/>\n       <use x=\"127.246094\" xlink:href=\"#DejaVuSans-35\"/>\n       <use x=\"190.869141\" xlink:href=\"#DejaVuSans-30\"/>\n       <use x=\"254.492188\" xlink:href=\"#DejaVuSans-30\"/>\n      </g>\n     </g>\n    </g>\n    <g id=\"ytick_7\">\n     <g id=\"line2d_12\">\n      <g>\n       <use style=\"stroke:#000000;stroke-width:0.8;\" x=\"46.0125\" xlink:href=\"#m1c4d7bdfac\" y=\"55.774237\"/>\n      </g>\n     </g>\n     <g id=\"text_13\">\n      <!-- 15000 -->\n      <g transform=\"translate(7.2 59.573456)scale(0.1 -0.1)\">\n       <use xlink:href=\"#DejaVuSans-31\"/>\n       <use x=\"63.623047\" xlink:href=\"#DejaVuSans-35\"/>\n       <use x=\"127.246094\" xlink:href=\"#DejaVuSans-30\"/>\n       <use x=\"190.869141\" xlink:href=\"#DejaVuSans-30\"/>\n       <use x=\"254.492188\" xlink:href=\"#DejaVuSans-30\"/>\n      </g>\n     </g>\n    </g>\n    <g id=\"ytick_8\">\n     <g id=\"line2d_13\">\n      <g>\n       <use style=\"stroke:#000000;stroke-width:0.8;\" x=\"46.0125\" xlink:href=\"#m1c4d7bdfac\" y=\"27.629943\"/>\n      </g>\n     </g>\n     <g id=\"text_14\">\n      <!-- 17500 -->\n      <g transform=\"translate(7.2 31.429162)scale(0.1 -0.1)\">\n       <use xlink:href=\"#DejaVuSans-31\"/>\n       <use x=\"63.623047\" xlink:href=\"#DejaVuSans-37\"/>\n       <use x=\"127.246094\" xlink:href=\"#DejaVuSans-35\"/>\n       <use x=\"190.869141\" xlink:href=\"#DejaVuSans-30\"/>\n       <use x=\"254.492188\" xlink:href=\"#DejaVuSans-30\"/>\n      </g>\n     </g>\n    </g>\n   </g>\n   <g id=\"patch_8\">\n    <path d=\"M 46.0125 224.64 \nL 46.0125 7.2 \n\" style=\"fill:none;stroke:#000000;stroke-linecap:square;stroke-linejoin:miter;stroke-width:0.8;\"/>\n   </g>\n   <g id=\"patch_9\">\n    <path d=\"M 380.8125 224.64 \nL 380.8125 7.2 \n\" style=\"fill:none;stroke:#000000;stroke-linecap:square;stroke-linejoin:miter;stroke-width:0.8;\"/>\n   </g>\n   <g id=\"patch_10\">\n    <path d=\"M 46.0125 224.64 \nL 380.8125 224.64 \n\" style=\"fill:none;stroke:#000000;stroke-linecap:square;stroke-linejoin:miter;stroke-width:0.8;\"/>\n   </g>\n   <g id=\"patch_11\">\n    <path d=\"M 46.0125 7.2 \nL 380.8125 7.2 \n\" style=\"fill:none;stroke:#000000;stroke-linecap:square;stroke-linejoin:miter;stroke-width:0.8;\"/>\n   </g>\n   <g id=\"legend_1\">\n    <g id=\"patch_12\">\n     <path d=\"M 53.0125 30.15625 \nL 117.179688 30.15625 \nQ 119.179688 30.15625 119.179688 28.15625 \nL 119.179688 14.2 \nQ 119.179688 12.2 117.179688 12.2 \nL 53.0125 12.2 \nQ 51.0125 12.2 51.0125 14.2 \nL 51.0125 28.15625 \nQ 51.0125 30.15625 53.0125 30.15625 \nz\n\" style=\"fill:#ffffff;opacity:0.8;stroke:#cccccc;stroke-linejoin:miter;\"/>\n    </g>\n    <g id=\"patch_13\">\n     <path d=\"M 55.0125 23.798437 \nL 75.0125 23.798437 \nL 75.0125 16.798437 \nL 55.0125 16.798437 \nz\n\" style=\"fill:#1f77b4;\"/>\n    </g>\n    <g id=\"text_15\">\n     <!-- SG_UF -->\n     <g transform=\"translate(83.0125 23.798437)scale(0.1 -0.1)\">\n      <use xlink:href=\"#DejaVuSans-53\"/>\n      <use x=\"63.476562\" xlink:href=\"#DejaVuSans-47\"/>\n      <use x=\"140.966797\" xlink:href=\"#DejaVuSans-5f\"/>\n      <use x=\"190.966797\" xlink:href=\"#DejaVuSans-55\"/>\n      <use x=\"264.160156\" xlink:href=\"#DejaVuSans-46\"/>\n     </g>\n    </g>\n   </g>\n  </g>\n </g>\n <defs>\n  <clipPath id=\"p9b651fb29e\">\n   <rect height=\"217.44\" width=\"334.8\" x=\"46.0125\" y=\"7.2\"/>\n  </clipPath>\n </defs>\n</svg>\n",
            "image/png": "[encoded data removed]"
          },
          "metadata": {
            "needs_background": "light"
          }
        }
      ],
      "metadata": {
        "id": "4a404194",
        "outputId": "f751b4c9-d0bb-417d-bb7d-14a58eea48e7"
      }
    },
    {
      "cell_type": "code",
      "execution_count": 56,
      "source": [
        "round(df_raca_genero[['DS_GENERO', 'VR_DESPESA_MAX_CAMPANHA']].groupby(by=['DS_GENERO']).mean(), 2)"
      ],
      "outputs": [
        {
          "output_type": "execute_result",
          "data": {
            "text/plain": [
              "                VR_DESPESA_MAX_CAMPANHA\n",
              "DS_GENERO                              \n",
              "FEMININO                       74018.08\n",
              "MASCULINO                      78522.27\n",
              "NÃO DIVULGÁVEL                    -4.00"
            ],
            "text/html": [
              "<div>\n",
              "<style scoped>\n",
              "    .dataframe tbody tr th:only-of-type {\n",
              "        vertical-align: middle;\n",
              "    }\n",
              "\n",
              "    .dataframe tbody tr th {\n",
              "        vertical-align: top;\n",
              "    }\n",
              "\n",
              "    .dataframe thead th {\n",
              "        text-align: right;\n",
              "    }\n",
              "</style>\n",
              "<table border=\"1\" class=\"dataframe\">\n",
              "  <thead>\n",
              "    <tr style=\"text-align: right;\">\n",
              "      <th></th>\n",
              "      <th>VR_DESPESA_MAX_CAMPANHA</th>\n",
              "    </tr>\n",
              "    <tr>\n",
              "      <th>DS_GENERO</th>\n",
              "      <th></th>\n",
              "    </tr>\n",
              "  </thead>\n",
              "  <tbody>\n",
              "    <tr>\n",
              "      <th>FEMININO</th>\n",
              "      <td>74018.08</td>\n",
              "    </tr>\n",
              "    <tr>\n",
              "      <th>MASCULINO</th>\n",
              "      <td>78522.27</td>\n",
              "    </tr>\n",
              "    <tr>\n",
              "      <th>NÃO DIVULGÁVEL</th>\n",
              "      <td>-4.00</td>\n",
              "    </tr>\n",
              "  </tbody>\n",
              "</table>\n",
              "</div>"
            ]
          },
          "metadata": {},
          "execution_count": 56
        }
      ],
      "metadata": {
        "id": "7b7f6baa",
        "outputId": "fa9786ad-4c0f-497d-b859-de396a456e27"
      }
    },
    {
      "cell_type": "markdown",
      "source": [
        "# Qual a faixa etária média das pessoas candidatas?"
      ],
      "metadata": {
        "id": "aaeb951e"
      }
    },
    {
      "cell_type": "code",
      "execution_count": 57,
      "source": [
        "df_raca_genero.head() # esse é o dataframe com idade mas sem faixa etária"
      ],
      "outputs": [
        {
          "output_type": "execute_result",
          "data": {
            "text/plain": [
              "   ANO_ELEICAO  CD_CARGO SG_UF  NR_PARTIDO SG_PARTIDO  CD_GENERO  DS_GENERO  \\\n",
              "0         2016        13    PE          27       PSDC          4   FEMININO   \n",
              "1         2016        13    PE          22         PR          4   FEMININO   \n",
              "2         2016        13    PE          15       PMDB          2  MASCULINO   \n",
              "3         2016        13    PE          27       PSDC          2  MASCULINO   \n",
              "4         2016        13    PE          10        PRB          4   FEMININO   \n",
              "\n",
              "   CD_COR_RACA DS_COR_RACA  NR_IDADE_DATA_POSSE  VR_DESPESA_MAX_CAMPANHA  \\\n",
              "0            3       PARDA                 49.0                 96474.36   \n",
              "1            1      BRANCA                 26.0                 10803.91   \n",
              "2            3       PARDA                 40.0                 16678.93   \n",
              "3            1      BRANCA                 39.0                 21221.89   \n",
              "4            3       PARDA                 36.0                 10803.91   \n",
              "\n",
              "   FAIXA_ETARIA  \n",
              "0  45 a 54 anos  \n",
              "1  25 a 34 anos  \n",
              "2  35 a 44 anos  \n",
              "3  35 a 44 anos  \n",
              "4  35 a 44 anos  "
            ],
            "text/html": [
              "<div>\n",
              "<style scoped>\n",
              "    .dataframe tbody tr th:only-of-type {\n",
              "        vertical-align: middle;\n",
              "    }\n",
              "\n",
              "    .dataframe tbody tr th {\n",
              "        vertical-align: top;\n",
              "    }\n",
              "\n",
              "    .dataframe thead th {\n",
              "        text-align: right;\n",
              "    }\n",
              "</style>\n",
              "<table border=\"1\" class=\"dataframe\">\n",
              "  <thead>\n",
              "    <tr style=\"text-align: right;\">\n",
              "      <th></th>\n",
              "      <th>ANO_ELEICAO</th>\n",
              "      <th>CD_CARGO</th>\n",
              "      <th>SG_UF</th>\n",
              "      <th>NR_PARTIDO</th>\n",
              "      <th>SG_PARTIDO</th>\n",
              "      <th>CD_GENERO</th>\n",
              "      <th>DS_GENERO</th>\n",
              "      <th>CD_COR_RACA</th>\n",
              "      <th>DS_COR_RACA</th>\n",
              "      <th>NR_IDADE_DATA_POSSE</th>\n",
              "      <th>VR_DESPESA_MAX_CAMPANHA</th>\n",
              "      <th>FAIXA_ETARIA</th>\n",
              "    </tr>\n",
              "  </thead>\n",
              "  <tbody>\n",
              "    <tr>\n",
              "      <th>0</th>\n",
              "      <td>2016</td>\n",
              "      <td>13</td>\n",
              "      <td>PE</td>\n",
              "      <td>27</td>\n",
              "      <td>PSDC</td>\n",
              "      <td>4</td>\n",
              "      <td>FEMININO</td>\n",
              "      <td>3</td>\n",
              "      <td>PARDA</td>\n",
              "      <td>49.0</td>\n",
              "      <td>96474.36</td>\n",
              "      <td>45 a 54 anos</td>\n",
              "    </tr>\n",
              "    <tr>\n",
              "      <th>1</th>\n",
              "      <td>2016</td>\n",
              "      <td>13</td>\n",
              "      <td>PE</td>\n",
              "      <td>22</td>\n",
              "      <td>PR</td>\n",
              "      <td>4</td>\n",
              "      <td>FEMININO</td>\n",
              "      <td>1</td>\n",
              "      <td>BRANCA</td>\n",
              "      <td>26.0</td>\n",
              "      <td>10803.91</td>\n",
              "      <td>25 a 34 anos</td>\n",
              "    </tr>\n",
              "    <tr>\n",
              "      <th>2</th>\n",
              "      <td>2016</td>\n",
              "      <td>13</td>\n",
              "      <td>PE</td>\n",
              "      <td>15</td>\n",
              "      <td>PMDB</td>\n",
              "      <td>2</td>\n",
              "      <td>MASCULINO</td>\n",
              "      <td>3</td>\n",
              "      <td>PARDA</td>\n",
              "      <td>40.0</td>\n",
              "      <td>16678.93</td>\n",
              "      <td>35 a 44 anos</td>\n",
              "    </tr>\n",
              "    <tr>\n",
              "      <th>3</th>\n",
              "      <td>2016</td>\n",
              "      <td>13</td>\n",
              "      <td>PE</td>\n",
              "      <td>27</td>\n",
              "      <td>PSDC</td>\n",
              "      <td>2</td>\n",
              "      <td>MASCULINO</td>\n",
              "      <td>1</td>\n",
              "      <td>BRANCA</td>\n",
              "      <td>39.0</td>\n",
              "      <td>21221.89</td>\n",
              "      <td>35 a 44 anos</td>\n",
              "    </tr>\n",
              "    <tr>\n",
              "      <th>4</th>\n",
              "      <td>2016</td>\n",
              "      <td>13</td>\n",
              "      <td>PE</td>\n",
              "      <td>10</td>\n",
              "      <td>PRB</td>\n",
              "      <td>4</td>\n",
              "      <td>FEMININO</td>\n",
              "      <td>3</td>\n",
              "      <td>PARDA</td>\n",
              "      <td>36.0</td>\n",
              "      <td>10803.91</td>\n",
              "      <td>35 a 44 anos</td>\n",
              "    </tr>\n",
              "  </tbody>\n",
              "</table>\n",
              "</div>"
            ]
          },
          "metadata": {},
          "execution_count": 57
        }
      ],
      "metadata": {
        "id": "2ec02938",
        "outputId": "4df0e717-fb7d-4531-a7ba-5d539bbf1e22"
      }
    },
    {
      "cell_type": "code",
      "execution_count": 37,
      "source": [
        "df_raca_genero.describe() # ver min e max"
      ],
      "outputs": [
        {
          "output_type": "execute_result",
          "data": {
            "text/plain": [
              "        ANO_ELEICAO  CD_CARGO    NR_PARTIDO     CD_GENERO   CD_COR_RACA  \\\n",
              "count  52176.000000   52176.0  52176.000000  52176.000000  52176.000000   \n",
              "mean    2018.130711      13.0     33.530186      2.657582      2.160610   \n",
              "std        1.995743       0.0     21.004875      0.940046      0.992971   \n",
              "min     2016.000000      13.0     10.000000     -4.000000     -4.000000   \n",
              "25%     2016.000000      13.0     15.000000      2.000000      1.000000   \n",
              "50%     2020.000000      13.0     25.000000      2.000000      3.000000   \n",
              "75%     2020.000000      13.0     45.000000      4.000000      3.000000   \n",
              "max     2020.000000      13.0     90.000000      4.000000      6.000000   \n",
              "\n",
              "       NR_IDADE_DATA_POSSE  VR_DESPESA_MAX_CAMPANHA  \n",
              "count         52175.000000             5.217600e+04  \n",
              "mean             43.680824             7.703957e+04  \n",
              "std              12.088887             1.755014e+05  \n",
              "min              18.000000            -4.000000e+00  \n",
              "25%              35.000000             1.230775e+04  \n",
              "50%              43.000000             2.292882e+04  \n",
              "75%              51.000000             4.662495e+04  \n",
              "max             999.000000             1.011150e+06  "
            ],
            "text/html": [
              "<div>\n",
              "<style scoped>\n",
              "    .dataframe tbody tr th:only-of-type {\n",
              "        vertical-align: middle;\n",
              "    }\n",
              "\n",
              "    .dataframe tbody tr th {\n",
              "        vertical-align: top;\n",
              "    }\n",
              "\n",
              "    .dataframe thead th {\n",
              "        text-align: right;\n",
              "    }\n",
              "</style>\n",
              "<table border=\"1\" class=\"dataframe\">\n",
              "  <thead>\n",
              "    <tr style=\"text-align: right;\">\n",
              "      <th></th>\n",
              "      <th>ANO_ELEICAO</th>\n",
              "      <th>CD_CARGO</th>\n",
              "      <th>NR_PARTIDO</th>\n",
              "      <th>CD_GENERO</th>\n",
              "      <th>CD_COR_RACA</th>\n",
              "      <th>NR_IDADE_DATA_POSSE</th>\n",
              "      <th>VR_DESPESA_MAX_CAMPANHA</th>\n",
              "    </tr>\n",
              "  </thead>\n",
              "  <tbody>\n",
              "    <tr>\n",
              "      <th>count</th>\n",
              "      <td>52176.000000</td>\n",
              "      <td>52176.0</td>\n",
              "      <td>52176.000000</td>\n",
              "      <td>52176.000000</td>\n",
              "      <td>52176.000000</td>\n",
              "      <td>52175.000000</td>\n",
              "      <td>5.217600e+04</td>\n",
              "    </tr>\n",
              "    <tr>\n",
              "      <th>mean</th>\n",
              "      <td>2018.130711</td>\n",
              "      <td>13.0</td>\n",
              "      <td>33.530186</td>\n",
              "      <td>2.657582</td>\n",
              "      <td>2.160610</td>\n",
              "      <td>43.680824</td>\n",
              "      <td>7.703957e+04</td>\n",
              "    </tr>\n",
              "    <tr>\n",
              "      <th>std</th>\n",
              "      <td>1.995743</td>\n",
              "      <td>0.0</td>\n",
              "      <td>21.004875</td>\n",
              "      <td>0.940046</td>\n",
              "      <td>0.992971</td>\n",
              "      <td>12.088887</td>\n",
              "      <td>1.755014e+05</td>\n",
              "    </tr>\n",
              "    <tr>\n",
              "      <th>min</th>\n",
              "      <td>2016.000000</td>\n",
              "      <td>13.0</td>\n",
              "      <td>10.000000</td>\n",
              "      <td>-4.000000</td>\n",
              "      <td>-4.000000</td>\n",
              "      <td>18.000000</td>\n",
              "      <td>-4.000000e+00</td>\n",
              "    </tr>\n",
              "    <tr>\n",
              "      <th>25%</th>\n",
              "      <td>2016.000000</td>\n",
              "      <td>13.0</td>\n",
              "      <td>15.000000</td>\n",
              "      <td>2.000000</td>\n",
              "      <td>1.000000</td>\n",
              "      <td>35.000000</td>\n",
              "      <td>1.230775e+04</td>\n",
              "    </tr>\n",
              "    <tr>\n",
              "      <th>50%</th>\n",
              "      <td>2020.000000</td>\n",
              "      <td>13.0</td>\n",
              "      <td>25.000000</td>\n",
              "      <td>2.000000</td>\n",
              "      <td>3.000000</td>\n",
              "      <td>43.000000</td>\n",
              "      <td>2.292882e+04</td>\n",
              "    </tr>\n",
              "    <tr>\n",
              "      <th>75%</th>\n",
              "      <td>2020.000000</td>\n",
              "      <td>13.0</td>\n",
              "      <td>45.000000</td>\n",
              "      <td>4.000000</td>\n",
              "      <td>3.000000</td>\n",
              "      <td>51.000000</td>\n",
              "      <td>4.662495e+04</td>\n",
              "    </tr>\n",
              "    <tr>\n",
              "      <th>max</th>\n",
              "      <td>2020.000000</td>\n",
              "      <td>13.0</td>\n",
              "      <td>90.000000</td>\n",
              "      <td>4.000000</td>\n",
              "      <td>6.000000</td>\n",
              "      <td>999.000000</td>\n",
              "      <td>1.011150e+06</td>\n",
              "    </tr>\n",
              "  </tbody>\n",
              "</table>\n",
              "</div>"
            ]
          },
          "metadata": {},
          "execution_count": 37
        }
      ],
      "metadata": {
        "id": "a78c5263",
        "outputId": "761215f9-726b-4244-8636-928086588559"
      }
    },
    {
      "cell_type": "code",
      "execution_count": 62,
      "source": [
        "cortes = [18, 25, 35, 45, 55, 65, 100]\n",
        "categorias = ['18 a 24 anos', '25 a 34 anos', '35 a 44 anos', '45 a 54 anos', '55 a 64 anos', 'acima de 64 anos']"
      ],
      "outputs": [],
      "metadata": {
        "id": "71be20b8"
      }
    },
    {
      "cell_type": "code",
      "execution_count": 66,
      "source": [
        "df_raca_genero['FAIXA_ETARIA'] = pd.cut(df_raca_genero['NR_IDADE_DATA_POSSE'], cortes, labels=categorias, include_lowest=True) # ultima variavel inclui o 18"
      ],
      "outputs": [],
      "metadata": {
        "id": "4c423687"
      }
    },
    {
      "cell_type": "code",
      "execution_count": 67,
      "source": [
        "df_raca_genero.head()"
      ],
      "outputs": [
        {
          "output_type": "execute_result",
          "data": {
            "text/plain": [
              "   ANO_ELEICAO  CD_CARGO SG_UF  NR_PARTIDO SG_PARTIDO  CD_GENERO  DS_GENERO  \\\n",
              "0         2016        13    PE          27       PSDC          4   FEMININO   \n",
              "1         2016        13    PE          22         PR          4   FEMININO   \n",
              "2         2016        13    PE          15       PMDB          2  MASCULINO   \n",
              "3         2016        13    PE          27       PSDC          2  MASCULINO   \n",
              "4         2016        13    PE          10        PRB          4   FEMININO   \n",
              "\n",
              "   CD_COR_RACA DS_COR_RACA  NR_IDADE_DATA_POSSE  VR_DESPESA_MAX_CAMPANHA  \\\n",
              "0            3       PARDA                 49.0                 96474.36   \n",
              "1            1      BRANCA                 26.0                 10803.91   \n",
              "2            3       PARDA                 40.0                 16678.93   \n",
              "3            1      BRANCA                 39.0                 21221.89   \n",
              "4            3       PARDA                 36.0                 10803.91   \n",
              "\n",
              "   FAIXA_ETARIA  \n",
              "0  45 a 54 anos  \n",
              "1  25 a 34 anos  \n",
              "2  35 a 44 anos  \n",
              "3  35 a 44 anos  \n",
              "4  35 a 44 anos  "
            ],
            "text/html": [
              "<div>\n",
              "<style scoped>\n",
              "    .dataframe tbody tr th:only-of-type {\n",
              "        vertical-align: middle;\n",
              "    }\n",
              "\n",
              "    .dataframe tbody tr th {\n",
              "        vertical-align: top;\n",
              "    }\n",
              "\n",
              "    .dataframe thead th {\n",
              "        text-align: right;\n",
              "    }\n",
              "</style>\n",
              "<table border=\"1\" class=\"dataframe\">\n",
              "  <thead>\n",
              "    <tr style=\"text-align: right;\">\n",
              "      <th></th>\n",
              "      <th>ANO_ELEICAO</th>\n",
              "      <th>CD_CARGO</th>\n",
              "      <th>SG_UF</th>\n",
              "      <th>NR_PARTIDO</th>\n",
              "      <th>SG_PARTIDO</th>\n",
              "      <th>CD_GENERO</th>\n",
              "      <th>DS_GENERO</th>\n",
              "      <th>CD_COR_RACA</th>\n",
              "      <th>DS_COR_RACA</th>\n",
              "      <th>NR_IDADE_DATA_POSSE</th>\n",
              "      <th>VR_DESPESA_MAX_CAMPANHA</th>\n",
              "      <th>FAIXA_ETARIA</th>\n",
              "    </tr>\n",
              "  </thead>\n",
              "  <tbody>\n",
              "    <tr>\n",
              "      <th>0</th>\n",
              "      <td>2016</td>\n",
              "      <td>13</td>\n",
              "      <td>PE</td>\n",
              "      <td>27</td>\n",
              "      <td>PSDC</td>\n",
              "      <td>4</td>\n",
              "      <td>FEMININO</td>\n",
              "      <td>3</td>\n",
              "      <td>PARDA</td>\n",
              "      <td>49.0</td>\n",
              "      <td>96474.36</td>\n",
              "      <td>45 a 54 anos</td>\n",
              "    </tr>\n",
              "    <tr>\n",
              "      <th>1</th>\n",
              "      <td>2016</td>\n",
              "      <td>13</td>\n",
              "      <td>PE</td>\n",
              "      <td>22</td>\n",
              "      <td>PR</td>\n",
              "      <td>4</td>\n",
              "      <td>FEMININO</td>\n",
              "      <td>1</td>\n",
              "      <td>BRANCA</td>\n",
              "      <td>26.0</td>\n",
              "      <td>10803.91</td>\n",
              "      <td>25 a 34 anos</td>\n",
              "    </tr>\n",
              "    <tr>\n",
              "      <th>2</th>\n",
              "      <td>2016</td>\n",
              "      <td>13</td>\n",
              "      <td>PE</td>\n",
              "      <td>15</td>\n",
              "      <td>PMDB</td>\n",
              "      <td>2</td>\n",
              "      <td>MASCULINO</td>\n",
              "      <td>3</td>\n",
              "      <td>PARDA</td>\n",
              "      <td>40.0</td>\n",
              "      <td>16678.93</td>\n",
              "      <td>35 a 44 anos</td>\n",
              "    </tr>\n",
              "    <tr>\n",
              "      <th>3</th>\n",
              "      <td>2016</td>\n",
              "      <td>13</td>\n",
              "      <td>PE</td>\n",
              "      <td>27</td>\n",
              "      <td>PSDC</td>\n",
              "      <td>2</td>\n",
              "      <td>MASCULINO</td>\n",
              "      <td>1</td>\n",
              "      <td>BRANCA</td>\n",
              "      <td>39.0</td>\n",
              "      <td>21221.89</td>\n",
              "      <td>35 a 44 anos</td>\n",
              "    </tr>\n",
              "    <tr>\n",
              "      <th>4</th>\n",
              "      <td>2016</td>\n",
              "      <td>13</td>\n",
              "      <td>PE</td>\n",
              "      <td>10</td>\n",
              "      <td>PRB</td>\n",
              "      <td>4</td>\n",
              "      <td>FEMININO</td>\n",
              "      <td>3</td>\n",
              "      <td>PARDA</td>\n",
              "      <td>36.0</td>\n",
              "      <td>10803.91</td>\n",
              "      <td>35 a 44 anos</td>\n",
              "    </tr>\n",
              "  </tbody>\n",
              "</table>\n",
              "</div>"
            ]
          },
          "metadata": {},
          "execution_count": 67
        }
      ],
      "metadata": {
        "id": "6fcc29d2",
        "outputId": "42e71f66-adb3-4e9d-c8ea-2822451a04d3"
      }
    },
    {
      "cell_type": "code",
      "execution_count": 65,
      "source": [
        "df_raca_genero['FAIXA_ETARIA'].mode() # considerando a moda pois é a faixa etária que mais se repete"
      ],
      "outputs": [
        {
          "output_type": "execute_result",
          "data": {
            "text/plain": [
              "0    35 a 44 anos\n",
              "Name: FAIXA_ETARIA, dtype: category\n",
              "Categories (6, object): ['18 a 24 anos' < '25 a 34 anos' < '35 a 44 anos' < '45 a 54 anos' < '55 a 64 anos' < 'acima de 64 anos']"
            ]
          },
          "metadata": {},
          "execution_count": 65
        }
      ],
      "metadata": {
        "id": "19841090",
        "outputId": "b7582218-c052-4ad5-9059-a6e99e8b2d54"
      }
    },
    {
      "cell_type": "markdown",
      "source": [
        "# Visualize graficamente a distribuição da variável DS_COR_RACA em 2016"
      ],
      "metadata": {
        "id": "173e6e5f"
      }
    },
    {
      "cell_type": "code",
      "execution_count": 70,
      "source": [
        "df_raca_2016 = df_raca_genero[df_raca_genero['ANO_ELEICAO'] == 2016].copy()"
      ],
      "outputs": [],
      "metadata": {
        "id": "5877851b"
      }
    },
    {
      "cell_type": "code",
      "execution_count": 72,
      "source": [
        "df_raca_2016[['CD_COR_RACA', 'DS_COR_RACA']].groupby(['DS_COR_RACA']).count()"
      ],
      "outputs": [
        {
          "output_type": "execute_result",
          "data": {
            "text/plain": [
              "                CD_COR_RACA\n",
              "DS_COR_RACA                \n",
              "AMARELA                 132\n",
              "BRANCA                 9956\n",
              "INDÍGENA                 89\n",
              "NÃO DIVULGÁVEL            1\n",
              "PARDA                 12156\n",
              "PRETA                  2049"
            ],
            "text/html": [
              "<div>\n",
              "<style scoped>\n",
              "    .dataframe tbody tr th:only-of-type {\n",
              "        vertical-align: middle;\n",
              "    }\n",
              "\n",
              "    .dataframe tbody tr th {\n",
              "        vertical-align: top;\n",
              "    }\n",
              "\n",
              "    .dataframe thead th {\n",
              "        text-align: right;\n",
              "    }\n",
              "</style>\n",
              "<table border=\"1\" class=\"dataframe\">\n",
              "  <thead>\n",
              "    <tr style=\"text-align: right;\">\n",
              "      <th></th>\n",
              "      <th>CD_COR_RACA</th>\n",
              "    </tr>\n",
              "    <tr>\n",
              "      <th>DS_COR_RACA</th>\n",
              "      <th></th>\n",
              "    </tr>\n",
              "  </thead>\n",
              "  <tbody>\n",
              "    <tr>\n",
              "      <th>AMARELA</th>\n",
              "      <td>132</td>\n",
              "    </tr>\n",
              "    <tr>\n",
              "      <th>BRANCA</th>\n",
              "      <td>9956</td>\n",
              "    </tr>\n",
              "    <tr>\n",
              "      <th>INDÍGENA</th>\n",
              "      <td>89</td>\n",
              "    </tr>\n",
              "    <tr>\n",
              "      <th>NÃO DIVULGÁVEL</th>\n",
              "      <td>1</td>\n",
              "    </tr>\n",
              "    <tr>\n",
              "      <th>PARDA</th>\n",
              "      <td>12156</td>\n",
              "    </tr>\n",
              "    <tr>\n",
              "      <th>PRETA</th>\n",
              "      <td>2049</td>\n",
              "    </tr>\n",
              "  </tbody>\n",
              "</table>\n",
              "</div>"
            ]
          },
          "metadata": {},
          "execution_count": 72
        }
      ],
      "metadata": {
        "id": "bed1e3f0",
        "outputId": "2e5e6ea5-78db-4749-88e1-933bef004fa9"
      }
    },
    {
      "cell_type": "code",
      "execution_count": 73,
      "source": [
        "raca = df_raca_2016['DS_COR_RACA'].unique().tolist() # valores unicos de uma coluna e export para lista\n",
        "print(raca)"
      ],
      "outputs": [
        {
          "output_type": "stream",
          "name": "stdout",
          "text": [
            "['PARDA', 'BRANCA', 'PRETA', 'INDÍGENA', 'AMARELA', 'NÃO DIVULGÁVEL']\n"
          ]
        }
      ],
      "metadata": {
        "id": "3afdf2a3",
        "outputId": "ea73721d-550a-4901-a929-615c0fd4f5af"
      }
    },
    {
      "cell_type": "code",
      "execution_count": 74,
      "source": [
        "frequencia = df_raca_2016['DS_COR_RACA'].value_counts().tolist()\n",
        "print(frequencia)"
      ],
      "outputs": [
        {
          "output_type": "stream",
          "name": "stdout",
          "text": [
            "[12156, 9956, 2049, 132, 89, 1]\n"
          ]
        }
      ],
      "metadata": {
        "id": "a275cfd2",
        "outputId": "66751490-da17-41c6-c10a-3cec577d4bab"
      }
    },
    {
      "cell_type": "code",
      "execution_count": 75,
      "source": [
        "plt.bar(raca, frequencia)\n",
        "\n",
        "plt.xticks(rotation=45) \n",
        "plt.title('Distribuição por raça em 2016')\n",
        "plt.ylabel('Quantitativo de candidaturas')\n",
        "#plt.show() # necessário para terminal (fora do Jupyter, que já plota o grafico)\n",
        "plt.savefig('test.pdf')"
      ],
      "outputs": [
        {
          "output_type": "display_data",
          "data": {
            "text/plain": [
              "<Figure size 432x288 with 1 Axes>"
            ],
            "image/svg+xml": "<?xml version=\"1.0\" encoding=\"utf-8\" standalone=\"no\"?>\n<!DOCTYPE svg PUBLIC \"-//W3C//DTD SVG 1.1//EN\"\n  \"http://www.w3.org/Graphics/SVG/1.1/DTD/svg11.dtd\">\n<svg height=\"323.415875pt\" version=\"1.1\" viewBox=\"0 0 401.690625 323.415875\" width=\"401.690625pt\" xmlns=\"http://www.w3.org/2000/svg\" xmlns:xlink=\"http://www.w3.org/1999/xlink\">\n <metadata>\n  <rdf:RDF xmlns:cc=\"http://creativecommons.org/ns#\" xmlns:dc=\"http://purl.org/dc/elements/1.1/\" xmlns:rdf=\"http://www.w3.org/1999/02/22-rdf-syntax-ns#\">\n   <cc:Work>\n    <dc:type rdf:resource=\"http://purl.org/dc/dcmitype/StillImage\"/>\n    <dc:date>2021-08-26T01:24:28.662760</dc:date>\n    <dc:format>image/svg+xml</dc:format>\n    <dc:creator>\n     <cc:Agent>\n      <dc:title>Matplotlib v3.4.3, https://matplotlib.org/</dc:title>\n     </cc:Agent>\n    </dc:creator>\n   </cc:Work>\n  </rdf:RDF>\n </metadata>\n <defs>\n  <style type=\"text/css\">*{stroke-linecap:butt;stroke-linejoin:round;}</style>\n </defs>\n <g id=\"figure_1\">\n  <g id=\"patch_1\">\n   <path d=\"M 0 323.415875 \nL 401.690625 323.415875 \nL 401.690625 0 \nL 0 0 \nz\n\" style=\"fill:none;\"/>\n  </g>\n  <g id=\"axes_1\">\n   <g id=\"patch_2\">\n    <path d=\"M 59.690625 239.9625 \nL 394.490625 239.9625 \nL 394.490625 22.5225 \nL 59.690625 22.5225 \nz\n\" style=\"fill:#ffffff;\"/>\n   </g>\n   <g id=\"patch_3\">\n    <path clip-path=\"url(#p63a46a468c)\" d=\"M 74.908807 239.9625 \nL 116.889998 239.9625 \nL 116.889998 32.876786 \nL 74.908807 32.876786 \nz\n\" style=\"fill:#1f77b4;\"/>\n   </g>\n   <g id=\"patch_4\">\n    <path clip-path=\"url(#p63a46a468c)\" d=\"M 127.385296 239.9625 \nL 169.366487 239.9625 \nL 169.366487 70.35528 \nL 127.385296 70.35528 \nz\n\" style=\"fill:#1f77b4;\"/>\n   </g>\n   <g id=\"patch_5\">\n    <path clip-path=\"url(#p63a46a468c)\" d=\"M 179.861785 239.9625 \nL 221.842976 239.9625 \nL 221.842976 205.056394 \nL 179.861785 205.056394 \nz\n\" style=\"fill:#1f77b4;\"/>\n   </g>\n   <g id=\"patch_6\">\n    <path clip-path=\"url(#p63a46a468c)\" d=\"M 232.338274 239.9625 \nL 274.319465 239.9625 \nL 274.319465 237.71379 \nL 232.338274 237.71379 \nz\n\" style=\"fill:#1f77b4;\"/>\n   </g>\n   <g id=\"patch_7\">\n    <path clip-path=\"url(#p63a46a468c)\" d=\"M 284.814763 239.9625 \nL 326.795954 239.9625 \nL 326.795954 238.446325 \nL 284.814763 238.446325 \nz\n\" style=\"fill:#1f77b4;\"/>\n   </g>\n   <g id=\"patch_8\">\n    <path clip-path=\"url(#p63a46a468c)\" d=\"M 337.291252 239.9625 \nL 379.272443 239.9625 \nL 379.272443 239.945464 \nL 337.291252 239.945464 \nz\n\" style=\"fill:#1f77b4;\"/>\n   </g>\n   <g id=\"matplotlib.axis_1\">\n    <g id=\"xtick_1\">\n     <g id=\"line2d_1\">\n      <defs>\n       <path d=\"M 0 0 \nL 0 3.5 \n\" id=\"m09f4dce8be\" style=\"stroke:#000000;stroke-width:0.8;\"/>\n      </defs>\n      <g>\n       <use style=\"stroke:#000000;stroke-width:0.8;\" x=\"95.899402\" xlink:href=\"#m09f4dce8be\" y=\"239.9625\"/>\n      </g>\n     </g>\n     <g id=\"text_1\">\n      <!-- PARDA -->\n      <g transform=\"translate(85.989964 276.056629)rotate(-45)scale(0.1 -0.1)\">\n       <defs>\n        <path d=\"M 1259 4147 \nL 1259 2394 \nL 2053 2394 \nQ 2494 2394 2734 2622 \nQ 2975 2850 2975 3272 \nQ 2975 3691 2734 3919 \nQ 2494 4147 2053 4147 \nL 1259 4147 \nz\nM 628 4666 \nL 2053 4666 \nQ 2838 4666 3239 4311 \nQ 3641 3956 3641 3272 \nQ 3641 2581 3239 2228 \nQ 2838 1875 2053 1875 \nL 1259 1875 \nL 1259 0 \nL 628 0 \nL 628 4666 \nz\n\" id=\"DejaVuSans-50\" transform=\"scale(0.015625)\"/>\n        <path d=\"M 2188 4044 \nL 1331 1722 \nL 3047 1722 \nL 2188 4044 \nz\nM 1831 4666 \nL 2547 4666 \nL 4325 0 \nL 3669 0 \nL 3244 1197 \nL 1141 1197 \nL 716 0 \nL 50 0 \nL 1831 4666 \nz\n\" id=\"DejaVuSans-41\" transform=\"scale(0.015625)\"/>\n        <path d=\"M 2841 2188 \nQ 3044 2119 3236 1894 \nQ 3428 1669 3622 1275 \nL 4263 0 \nL 3584 0 \nL 2988 1197 \nQ 2756 1666 2539 1819 \nQ 2322 1972 1947 1972 \nL 1259 1972 \nL 1259 0 \nL 628 0 \nL 628 4666 \nL 2053 4666 \nQ 2853 4666 3247 4331 \nQ 3641 3997 3641 3322 \nQ 3641 2881 3436 2590 \nQ 3231 2300 2841 2188 \nz\nM 1259 4147 \nL 1259 2491 \nL 2053 2491 \nQ 2509 2491 2742 2702 \nQ 2975 2913 2975 3322 \nQ 2975 3731 2742 3939 \nQ 2509 4147 2053 4147 \nL 1259 4147 \nz\n\" id=\"DejaVuSans-52\" transform=\"scale(0.015625)\"/>\n        <path d=\"M 1259 4147 \nL 1259 519 \nL 2022 519 \nQ 2988 519 3436 956 \nQ 3884 1394 3884 2338 \nQ 3884 3275 3436 3711 \nQ 2988 4147 2022 4147 \nL 1259 4147 \nz\nM 628 4666 \nL 1925 4666 \nQ 3281 4666 3915 4102 \nQ 4550 3538 4550 2338 \nQ 4550 1131 3912 565 \nQ 3275 0 1925 0 \nL 628 0 \nL 628 4666 \nz\n\" id=\"DejaVuSans-44\" transform=\"scale(0.015625)\"/>\n       </defs>\n       <use xlink:href=\"#DejaVuSans-50\"/>\n       <use x=\"53.927734\" xlink:href=\"#DejaVuSans-41\"/>\n       <use x=\"122.335938\" xlink:href=\"#DejaVuSans-52\"/>\n       <use x=\"191.818359\" xlink:href=\"#DejaVuSans-44\"/>\n       <use x=\"267.070312\" xlink:href=\"#DejaVuSans-41\"/>\n      </g>\n     </g>\n    </g>\n    <g id=\"xtick_2\">\n     <g id=\"line2d_2\">\n      <g>\n       <use style=\"stroke:#000000;stroke-width:0.8;\" x=\"148.375891\" xlink:href=\"#m09f4dce8be\" y=\"239.9625\"/>\n      </g>\n     </g>\n     <g id=\"text_2\">\n      <!-- BRANCA -->\n      <g transform=\"translate(135.635264 281.719008)rotate(-45)scale(0.1 -0.1)\">\n       <defs>\n        <path d=\"M 1259 2228 \nL 1259 519 \nL 2272 519 \nQ 2781 519 3026 730 \nQ 3272 941 3272 1375 \nQ 3272 1813 3026 2020 \nQ 2781 2228 2272 2228 \nL 1259 2228 \nz\nM 1259 4147 \nL 1259 2741 \nL 2194 2741 \nQ 2656 2741 2882 2914 \nQ 3109 3088 3109 3444 \nQ 3109 3797 2882 3972 \nQ 2656 4147 2194 4147 \nL 1259 4147 \nz\nM 628 4666 \nL 2241 4666 \nQ 2963 4666 3353 4366 \nQ 3744 4066 3744 3513 \nQ 3744 3084 3544 2831 \nQ 3344 2578 2956 2516 \nQ 3422 2416 3680 2098 \nQ 3938 1781 3938 1306 \nQ 3938 681 3513 340 \nQ 3088 0 2303 0 \nL 628 0 \nL 628 4666 \nz\n\" id=\"DejaVuSans-42\" transform=\"scale(0.015625)\"/>\n        <path d=\"M 628 4666 \nL 1478 4666 \nL 3547 763 \nL 3547 4666 \nL 4159 4666 \nL 4159 0 \nL 3309 0 \nL 1241 3903 \nL 1241 0 \nL 628 0 \nL 628 4666 \nz\n\" id=\"DejaVuSans-4e\" transform=\"scale(0.015625)\"/>\n        <path d=\"M 4122 4306 \nL 4122 3641 \nQ 3803 3938 3442 4084 \nQ 3081 4231 2675 4231 \nQ 1875 4231 1450 3742 \nQ 1025 3253 1025 2328 \nQ 1025 1406 1450 917 \nQ 1875 428 2675 428 \nQ 3081 428 3442 575 \nQ 3803 722 4122 1019 \nL 4122 359 \nQ 3791 134 3420 21 \nQ 3050 -91 2638 -91 \nQ 1578 -91 968 557 \nQ 359 1206 359 2328 \nQ 359 3453 968 4101 \nQ 1578 4750 2638 4750 \nQ 3056 4750 3426 4639 \nQ 3797 4528 4122 4306 \nz\n\" id=\"DejaVuSans-43\" transform=\"scale(0.015625)\"/>\n       </defs>\n       <use xlink:href=\"#DejaVuSans-42\"/>\n       <use x=\"68.603516\" xlink:href=\"#DejaVuSans-52\"/>\n       <use x=\"134.085938\" xlink:href=\"#DejaVuSans-41\"/>\n       <use x=\"202.494141\" xlink:href=\"#DejaVuSans-4e\"/>\n       <use x=\"277.298828\" xlink:href=\"#DejaVuSans-43\"/>\n       <use x=\"347.123047\" xlink:href=\"#DejaVuSans-41\"/>\n      </g>\n     </g>\n    </g>\n    <g id=\"xtick_3\">\n     <g id=\"line2d_3\">\n      <g>\n       <use style=\"stroke:#000000;stroke-width:0.8;\" x=\"200.85238\" xlink:href=\"#m09f4dce8be\" y=\"239.9625\"/>\n      </g>\n     </g>\n     <g id=\"text_3\">\n      <!-- PRETA -->\n      <g transform=\"translate(191.677118 274.588278)rotate(-45)scale(0.1 -0.1)\">\n       <defs>\n        <path d=\"M 628 4666 \nL 3578 4666 \nL 3578 4134 \nL 1259 4134 \nL 1259 2753 \nL 3481 2753 \nL 3481 2222 \nL 1259 2222 \nL 1259 531 \nL 3634 531 \nL 3634 0 \nL 628 0 \nL 628 4666 \nz\n\" id=\"DejaVuSans-45\" transform=\"scale(0.015625)\"/>\n        <path d=\"M -19 4666 \nL 3928 4666 \nL 3928 4134 \nL 2272 4134 \nL 2272 0 \nL 1638 0 \nL 1638 4134 \nL -19 4134 \nL -19 4666 \nz\n\" id=\"DejaVuSans-54\" transform=\"scale(0.015625)\"/>\n       </defs>\n       <use xlink:href=\"#DejaVuSans-50\"/>\n       <use x=\"60.302734\" xlink:href=\"#DejaVuSans-52\"/>\n       <use x=\"129.785156\" xlink:href=\"#DejaVuSans-45\"/>\n       <use x=\"192.96875\" xlink:href=\"#DejaVuSans-54\"/>\n       <use x=\"246.302734\" xlink:href=\"#DejaVuSans-41\"/>\n      </g>\n     </g>\n    </g>\n    <g id=\"xtick_4\">\n     <g id=\"line2d_4\">\n      <g>\n       <use style=\"stroke:#000000;stroke-width:0.8;\" x=\"253.32887\" xlink:href=\"#m09f4dce8be\" y=\"239.9625\"/>\n      </g>\n     </g>\n     <g id=\"text_4\">\n      <!-- INDÍGENA -->\n      <g transform=\"translate(237.789646 287.3162)rotate(-45)scale(0.1 -0.1)\">\n       <defs>\n        <path d=\"M 628 4666 \nL 1259 4666 \nL 1259 0 \nL 628 0 \nL 628 4666 \nz\n\" id=\"DejaVuSans-49\" transform=\"scale(0.015625)\"/>\n        <path d=\"M 628 4666 \nL 1259 4666 \nL 1259 0 \nL 628 0 \nL 628 4666 \nz\nM 1116 5921 \nL 1694 5921 \nL 982 5096 \nL 503 5096 \nL 1116 5921 \nz\n\" id=\"DejaVuSans-cd\" transform=\"scale(0.015625)\"/>\n        <path d=\"M 3809 666 \nL 3809 1919 \nL 2778 1919 \nL 2778 2438 \nL 4434 2438 \nL 4434 434 \nQ 4069 175 3628 42 \nQ 3188 -91 2688 -91 \nQ 1594 -91 976 548 \nQ 359 1188 359 2328 \nQ 359 3472 976 4111 \nQ 1594 4750 2688 4750 \nQ 3144 4750 3555 4637 \nQ 3966 4525 4313 4306 \nL 4313 3634 \nQ 3963 3931 3569 4081 \nQ 3175 4231 2741 4231 \nQ 1884 4231 1454 3753 \nQ 1025 3275 1025 2328 \nQ 1025 1384 1454 906 \nQ 1884 428 2741 428 \nQ 3075 428 3337 486 \nQ 3600 544 3809 666 \nz\n\" id=\"DejaVuSans-47\" transform=\"scale(0.015625)\"/>\n       </defs>\n       <use xlink:href=\"#DejaVuSans-49\"/>\n       <use x=\"29.492188\" xlink:href=\"#DejaVuSans-4e\"/>\n       <use x=\"104.296875\" xlink:href=\"#DejaVuSans-44\"/>\n       <use x=\"181.298828\" xlink:href=\"#DejaVuSans-cd\"/>\n       <use x=\"210.791016\" xlink:href=\"#DejaVuSans-47\"/>\n       <use x=\"288.28125\" xlink:href=\"#DejaVuSans-45\"/>\n       <use x=\"351.464844\" xlink:href=\"#DejaVuSans-4e\"/>\n       <use x=\"426.269531\" xlink:href=\"#DejaVuSans-41\"/>\n      </g>\n     </g>\n    </g>\n    <g id=\"xtick_5\">\n     <g id=\"line2d_5\">\n      <g>\n       <use style=\"stroke:#000000;stroke-width:0.8;\" x=\"305.805359\" xlink:href=\"#m09f4dce8be\" y=\"239.9625\"/>\n      </g>\n     </g>\n     <g id=\"text_5\">\n      <!-- AMARELA -->\n      <g transform=\"translate(290.710286 286.427897)rotate(-45)scale(0.1 -0.1)\">\n       <defs>\n        <path d=\"M 628 4666 \nL 1569 4666 \nL 2759 1491 \nL 3956 4666 \nL 4897 4666 \nL 4897 0 \nL 4281 0 \nL 4281 4097 \nL 3078 897 \nL 2444 897 \nL 1241 4097 \nL 1241 0 \nL 628 0 \nL 628 4666 \nz\n\" id=\"DejaVuSans-4d\" transform=\"scale(0.015625)\"/>\n        <path d=\"M 628 4666 \nL 1259 4666 \nL 1259 531 \nL 3531 531 \nL 3531 0 \nL 628 0 \nL 628 4666 \nz\n\" id=\"DejaVuSans-4c\" transform=\"scale(0.015625)\"/>\n       </defs>\n       <use xlink:href=\"#DejaVuSans-41\"/>\n       <use x=\"68.408203\" xlink:href=\"#DejaVuSans-4d\"/>\n       <use x=\"154.6875\" xlink:href=\"#DejaVuSans-41\"/>\n       <use x=\"223.095703\" xlink:href=\"#DejaVuSans-52\"/>\n       <use x=\"292.578125\" xlink:href=\"#DejaVuSans-45\"/>\n       <use x=\"355.761719\" xlink:href=\"#DejaVuSans-4c\"/>\n       <use x=\"413.724609\" xlink:href=\"#DejaVuSans-41\"/>\n      </g>\n     </g>\n    </g>\n    <g id=\"xtick_6\">\n     <g id=\"line2d_6\">\n      <g>\n       <use style=\"stroke:#000000;stroke-width:0.8;\" x=\"358.281848\" xlink:href=\"#m09f4dce8be\" y=\"239.9625\"/>\n      </g>\n     </g>\n     <g id=\"text_6\">\n      <!-- NÃO DIVULGÁVEL -->\n      <g transform=\"translate(329.028067 314.745314)rotate(-45)scale(0.1 -0.1)\">\n       <defs>\n        <path d=\"M 2188 4044 \nL 1331 1722 \nL 3047 1722 \nL 2188 4044 \nz\nM 1831 4666 \nL 2547 4666 \nL 4325 0 \nL 3669 0 \nL 3244 1197 \nL 1141 1197 \nL 716 0 \nL 50 0 \nL 1831 4666 \nz\nM 2172 5330 \nL 1993 5433 \nQ 1915 5477 1866 5494 \nQ 1818 5511 1781 5511 \nQ 1668 5511 1605 5433 \nQ 1543 5355 1543 5215 \nL 1543 5196 \nL 1153 5196 \nQ 1153 5511 1314 5695 \nQ 1475 5880 1743 5880 \nQ 1856 5880 1951 5855 \nQ 2047 5830 2197 5746 \nL 2375 5652 \nQ 2447 5611 2500 5592 \nQ 2553 5574 2600 5574 \nQ 2700 5574 2762 5653 \nQ 2825 5733 2825 5861 \nL 2825 5880 \nL 3215 5880 \nQ 3209 5568 3048 5382 \nQ 2887 5196 2625 5196 \nQ 2518 5196 2426 5221 \nQ 2334 5246 2172 5330 \nz\n\" id=\"DejaVuSans-c3\" transform=\"scale(0.015625)\"/>\n        <path d=\"M 2522 4238 \nQ 1834 4238 1429 3725 \nQ 1025 3213 1025 2328 \nQ 1025 1447 1429 934 \nQ 1834 422 2522 422 \nQ 3209 422 3611 934 \nQ 4013 1447 4013 2328 \nQ 4013 3213 3611 3725 \nQ 3209 4238 2522 4238 \nz\nM 2522 4750 \nQ 3503 4750 4090 4092 \nQ 4678 3434 4678 2328 \nQ 4678 1225 4090 567 \nQ 3503 -91 2522 -91 \nQ 1538 -91 948 565 \nQ 359 1222 359 2328 \nQ 359 3434 948 4092 \nQ 1538 4750 2522 4750 \nz\n\" id=\"DejaVuSans-4f\" transform=\"scale(0.015625)\"/>\n        <path id=\"DejaVuSans-20\" transform=\"scale(0.015625)\"/>\n        <path d=\"M 1831 0 \nL 50 4666 \nL 709 4666 \nL 2188 738 \nL 3669 4666 \nL 4325 4666 \nL 2547 0 \nL 1831 0 \nz\n\" id=\"DejaVuSans-56\" transform=\"scale(0.015625)\"/>\n        <path d=\"M 556 4666 \nL 1191 4666 \nL 1191 1831 \nQ 1191 1081 1462 751 \nQ 1734 422 2344 422 \nQ 2950 422 3222 751 \nQ 3494 1081 3494 1831 \nL 3494 4666 \nL 4128 4666 \nL 4128 1753 \nQ 4128 841 3676 375 \nQ 3225 -91 2344 -91 \nQ 1459 -91 1007 375 \nQ 556 841 556 1753 \nL 556 4666 \nz\n\" id=\"DejaVuSans-55\" transform=\"scale(0.015625)\"/>\n        <path d=\"M 2188 4044 \nL 1331 1722 \nL 3047 1722 \nL 2188 4044 \nz\nM 1831 4666 \nL 2547 4666 \nL 4325 0 \nL 3669 0 \nL 3244 1197 \nL 1141 1197 \nL 716 0 \nL 50 0 \nL 1831 4666 \nz\nM 2356 5921 \nL 2934 5921 \nL 2222 5096 \nL 1743 5096 \nL 2356 5921 \nz\n\" id=\"DejaVuSans-c1\" transform=\"scale(0.015625)\"/>\n       </defs>\n       <use xlink:href=\"#DejaVuSans-4e\"/>\n       <use x=\"74.804688\" xlink:href=\"#DejaVuSans-c3\"/>\n       <use x=\"141.462891\" xlink:href=\"#DejaVuSans-4f\"/>\n       <use x=\"220.173828\" xlink:href=\"#DejaVuSans-20\"/>\n       <use x=\"251.960938\" xlink:href=\"#DejaVuSans-44\"/>\n       <use x=\"328.962891\" xlink:href=\"#DejaVuSans-49\"/>\n       <use x=\"358.455078\" xlink:href=\"#DejaVuSans-56\"/>\n       <use x=\"426.863281\" xlink:href=\"#DejaVuSans-55\"/>\n       <use x=\"500.056641\" xlink:href=\"#DejaVuSans-4c\"/>\n       <use x=\"555.769531\" xlink:href=\"#DejaVuSans-47\"/>\n       <use x=\"633.259766\" xlink:href=\"#DejaVuSans-c1\"/>\n       <use x=\"695.292969\" xlink:href=\"#DejaVuSans-56\"/>\n       <use x=\"763.701172\" xlink:href=\"#DejaVuSans-45\"/>\n       <use x=\"826.884766\" xlink:href=\"#DejaVuSans-4c\"/>\n      </g>\n     </g>\n    </g>\n   </g>\n   <g id=\"matplotlib.axis_2\">\n    <g id=\"ytick_1\">\n     <g id=\"line2d_7\">\n      <defs>\n       <path d=\"M 0 0 \nL -3.5 0 \n\" id=\"md875b3957b\" style=\"stroke:#000000;stroke-width:0.8;\"/>\n      </defs>\n      <g>\n       <use style=\"stroke:#000000;stroke-width:0.8;\" x=\"59.690625\" xlink:href=\"#md875b3957b\" y=\"239.9625\"/>\n      </g>\n     </g>\n     <g id=\"text_7\">\n      <!-- 0 -->\n      <g transform=\"translate(46.328125 243.761719)scale(0.1 -0.1)\">\n       <defs>\n        <path d=\"M 2034 4250 \nQ 1547 4250 1301 3770 \nQ 1056 3291 1056 2328 \nQ 1056 1369 1301 889 \nQ 1547 409 2034 409 \nQ 2525 409 2770 889 \nQ 3016 1369 3016 2328 \nQ 3016 3291 2770 3770 \nQ 2525 4250 2034 4250 \nz\nM 2034 4750 \nQ 2819 4750 3233 4129 \nQ 3647 3509 3647 2328 \nQ 3647 1150 3233 529 \nQ 2819 -91 2034 -91 \nQ 1250 -91 836 529 \nQ 422 1150 422 2328 \nQ 422 3509 836 4129 \nQ 1250 4750 2034 4750 \nz\n\" id=\"DejaVuSans-30\" transform=\"scale(0.015625)\"/>\n       </defs>\n       <use xlink:href=\"#DejaVuSans-30\"/>\n      </g>\n     </g>\n    </g>\n    <g id=\"ytick_2\">\n     <g id=\"line2d_8\">\n      <g>\n       <use style=\"stroke:#000000;stroke-width:0.8;\" x=\"59.690625\" xlink:href=\"#md875b3957b\" y=\"205.891142\"/>\n      </g>\n     </g>\n     <g id=\"text_8\">\n      <!-- 2000 -->\n      <g transform=\"translate(27.240625 209.690361)scale(0.1 -0.1)\">\n       <defs>\n        <path d=\"M 1228 531 \nL 3431 531 \nL 3431 0 \nL 469 0 \nL 469 531 \nQ 828 903 1448 1529 \nQ 2069 2156 2228 2338 \nQ 2531 2678 2651 2914 \nQ 2772 3150 2772 3378 \nQ 2772 3750 2511 3984 \nQ 2250 4219 1831 4219 \nQ 1534 4219 1204 4116 \nQ 875 4013 500 3803 \nL 500 4441 \nQ 881 4594 1212 4672 \nQ 1544 4750 1819 4750 \nQ 2544 4750 2975 4387 \nQ 3406 4025 3406 3419 \nQ 3406 3131 3298 2873 \nQ 3191 2616 2906 2266 \nQ 2828 2175 2409 1742 \nQ 1991 1309 1228 531 \nz\n\" id=\"DejaVuSans-32\" transform=\"scale(0.015625)\"/>\n       </defs>\n       <use xlink:href=\"#DejaVuSans-32\"/>\n       <use x=\"63.623047\" xlink:href=\"#DejaVuSans-30\"/>\n       <use x=\"127.246094\" xlink:href=\"#DejaVuSans-30\"/>\n       <use x=\"190.869141\" xlink:href=\"#DejaVuSans-30\"/>\n      </g>\n     </g>\n    </g>\n    <g id=\"ytick_3\">\n     <g id=\"line2d_9\">\n      <g>\n       <use style=\"stroke:#000000;stroke-width:0.8;\" x=\"59.690625\" xlink:href=\"#md875b3957b\" y=\"171.819784\"/>\n      </g>\n     </g>\n     <g id=\"text_9\">\n      <!-- 4000 -->\n      <g transform=\"translate(27.240625 175.619003)scale(0.1 -0.1)\">\n       <defs>\n        <path d=\"M 2419 4116 \nL 825 1625 \nL 2419 1625 \nL 2419 4116 \nz\nM 2253 4666 \nL 3047 4666 \nL 3047 1625 \nL 3713 1625 \nL 3713 1100 \nL 3047 1100 \nL 3047 0 \nL 2419 0 \nL 2419 1100 \nL 313 1100 \nL 313 1709 \nL 2253 4666 \nz\n\" id=\"DejaVuSans-34\" transform=\"scale(0.015625)\"/>\n       </defs>\n       <use xlink:href=\"#DejaVuSans-34\"/>\n       <use x=\"63.623047\" xlink:href=\"#DejaVuSans-30\"/>\n       <use x=\"127.246094\" xlink:href=\"#DejaVuSans-30\"/>\n       <use x=\"190.869141\" xlink:href=\"#DejaVuSans-30\"/>\n      </g>\n     </g>\n    </g>\n    <g id=\"ytick_4\">\n     <g id=\"line2d_10\">\n      <g>\n       <use style=\"stroke:#000000;stroke-width:0.8;\" x=\"59.690625\" xlink:href=\"#md875b3957b\" y=\"137.748426\"/>\n      </g>\n     </g>\n     <g id=\"text_10\">\n      <!-- 6000 -->\n      <g transform=\"translate(27.240625 141.547645)scale(0.1 -0.1)\">\n       <defs>\n        <path d=\"M 2113 2584 \nQ 1688 2584 1439 2293 \nQ 1191 2003 1191 1497 \nQ 1191 994 1439 701 \nQ 1688 409 2113 409 \nQ 2538 409 2786 701 \nQ 3034 994 3034 1497 \nQ 3034 2003 2786 2293 \nQ 2538 2584 2113 2584 \nz\nM 3366 4563 \nL 3366 3988 \nQ 3128 4100 2886 4159 \nQ 2644 4219 2406 4219 \nQ 1781 4219 1451 3797 \nQ 1122 3375 1075 2522 \nQ 1259 2794 1537 2939 \nQ 1816 3084 2150 3084 \nQ 2853 3084 3261 2657 \nQ 3669 2231 3669 1497 \nQ 3669 778 3244 343 \nQ 2819 -91 2113 -91 \nQ 1303 -91 875 529 \nQ 447 1150 447 2328 \nQ 447 3434 972 4092 \nQ 1497 4750 2381 4750 \nQ 2619 4750 2861 4703 \nQ 3103 4656 3366 4563 \nz\n\" id=\"DejaVuSans-36\" transform=\"scale(0.015625)\"/>\n       </defs>\n       <use xlink:href=\"#DejaVuSans-36\"/>\n       <use x=\"63.623047\" xlink:href=\"#DejaVuSans-30\"/>\n       <use x=\"127.246094\" xlink:href=\"#DejaVuSans-30\"/>\n       <use x=\"190.869141\" xlink:href=\"#DejaVuSans-30\"/>\n      </g>\n     </g>\n    </g>\n    <g id=\"ytick_5\">\n     <g id=\"line2d_11\">\n      <g>\n       <use style=\"stroke:#000000;stroke-width:0.8;\" x=\"59.690625\" xlink:href=\"#md875b3957b\" y=\"103.677068\"/>\n      </g>\n     </g>\n     <g id=\"text_11\">\n      <!-- 8000 -->\n      <g transform=\"translate(27.240625 107.476287)scale(0.1 -0.1)\">\n       <defs>\n        <path d=\"M 2034 2216 \nQ 1584 2216 1326 1975 \nQ 1069 1734 1069 1313 \nQ 1069 891 1326 650 \nQ 1584 409 2034 409 \nQ 2484 409 2743 651 \nQ 3003 894 3003 1313 \nQ 3003 1734 2745 1975 \nQ 2488 2216 2034 2216 \nz\nM 1403 2484 \nQ 997 2584 770 2862 \nQ 544 3141 544 3541 \nQ 544 4100 942 4425 \nQ 1341 4750 2034 4750 \nQ 2731 4750 3128 4425 \nQ 3525 4100 3525 3541 \nQ 3525 3141 3298 2862 \nQ 3072 2584 2669 2484 \nQ 3125 2378 3379 2068 \nQ 3634 1759 3634 1313 \nQ 3634 634 3220 271 \nQ 2806 -91 2034 -91 \nQ 1263 -91 848 271 \nQ 434 634 434 1313 \nQ 434 1759 690 2068 \nQ 947 2378 1403 2484 \nz\nM 1172 3481 \nQ 1172 3119 1398 2916 \nQ 1625 2713 2034 2713 \nQ 2441 2713 2670 2916 \nQ 2900 3119 2900 3481 \nQ 2900 3844 2670 4047 \nQ 2441 4250 2034 4250 \nQ 1625 4250 1398 4047 \nQ 1172 3844 1172 3481 \nz\n\" id=\"DejaVuSans-38\" transform=\"scale(0.015625)\"/>\n       </defs>\n       <use xlink:href=\"#DejaVuSans-38\"/>\n       <use x=\"63.623047\" xlink:href=\"#DejaVuSans-30\"/>\n       <use x=\"127.246094\" xlink:href=\"#DejaVuSans-30\"/>\n       <use x=\"190.869141\" xlink:href=\"#DejaVuSans-30\"/>\n      </g>\n     </g>\n    </g>\n    <g id=\"ytick_6\">\n     <g id=\"line2d_12\">\n      <g>\n       <use style=\"stroke:#000000;stroke-width:0.8;\" x=\"59.690625\" xlink:href=\"#md875b3957b\" y=\"69.60571\"/>\n      </g>\n     </g>\n     <g id=\"text_12\">\n      <!-- 10000 -->\n      <g transform=\"translate(20.878125 73.404928)scale(0.1 -0.1)\">\n       <defs>\n        <path d=\"M 794 531 \nL 1825 531 \nL 1825 4091 \nL 703 3866 \nL 703 4441 \nL 1819 4666 \nL 2450 4666 \nL 2450 531 \nL 3481 531 \nL 3481 0 \nL 794 0 \nL 794 531 \nz\n\" id=\"DejaVuSans-31\" transform=\"scale(0.015625)\"/>\n       </defs>\n       <use xlink:href=\"#DejaVuSans-31\"/>\n       <use x=\"63.623047\" xlink:href=\"#DejaVuSans-30\"/>\n       <use x=\"127.246094\" xlink:href=\"#DejaVuSans-30\"/>\n       <use x=\"190.869141\" xlink:href=\"#DejaVuSans-30\"/>\n       <use x=\"254.492188\" xlink:href=\"#DejaVuSans-30\"/>\n      </g>\n     </g>\n    </g>\n    <g id=\"ytick_7\">\n     <g id=\"line2d_13\">\n      <g>\n       <use style=\"stroke:#000000;stroke-width:0.8;\" x=\"59.690625\" xlink:href=\"#md875b3957b\" y=\"35.534352\"/>\n      </g>\n     </g>\n     <g id=\"text_13\">\n      <!-- 12000 -->\n      <g transform=\"translate(20.878125 39.33357)scale(0.1 -0.1)\">\n       <use xlink:href=\"#DejaVuSans-31\"/>\n       <use x=\"63.623047\" xlink:href=\"#DejaVuSans-32\"/>\n       <use x=\"127.246094\" xlink:href=\"#DejaVuSans-30\"/>\n       <use x=\"190.869141\" xlink:href=\"#DejaVuSans-30\"/>\n       <use x=\"254.492188\" xlink:href=\"#DejaVuSans-30\"/>\n      </g>\n     </g>\n    </g>\n    <g id=\"text_14\">\n     <!-- Quantitativo de candidaturas -->\n     <g transform=\"translate(14.798437 204.387031)rotate(-90)scale(0.1 -0.1)\">\n      <defs>\n       <path d=\"M 2522 4238 \nQ 1834 4238 1429 3725 \nQ 1025 3213 1025 2328 \nQ 1025 1447 1429 934 \nQ 1834 422 2522 422 \nQ 3209 422 3611 934 \nQ 4013 1447 4013 2328 \nQ 4013 3213 3611 3725 \nQ 3209 4238 2522 4238 \nz\nM 3406 84 \nL 4238 -825 \nL 3475 -825 \nL 2784 -78 \nQ 2681 -84 2626 -87 \nQ 2572 -91 2522 -91 \nQ 1538 -91 948 567 \nQ 359 1225 359 2328 \nQ 359 3434 948 4092 \nQ 1538 4750 2522 4750 \nQ 3503 4750 4090 4092 \nQ 4678 3434 4678 2328 \nQ 4678 1516 4351 937 \nQ 4025 359 3406 84 \nz\n\" id=\"DejaVuSans-51\" transform=\"scale(0.015625)\"/>\n       <path d=\"M 544 1381 \nL 544 3500 \nL 1119 3500 \nL 1119 1403 \nQ 1119 906 1312 657 \nQ 1506 409 1894 409 \nQ 2359 409 2629 706 \nQ 2900 1003 2900 1516 \nL 2900 3500 \nL 3475 3500 \nL 3475 0 \nL 2900 0 \nL 2900 538 \nQ 2691 219 2414 64 \nQ 2138 -91 1772 -91 \nQ 1169 -91 856 284 \nQ 544 659 544 1381 \nz\nM 1991 3584 \nL 1991 3584 \nz\n\" id=\"DejaVuSans-75\" transform=\"scale(0.015625)\"/>\n       <path d=\"M 2194 1759 \nQ 1497 1759 1228 1600 \nQ 959 1441 959 1056 \nQ 959 750 1161 570 \nQ 1363 391 1709 391 \nQ 2188 391 2477 730 \nQ 2766 1069 2766 1631 \nL 2766 1759 \nL 2194 1759 \nz\nM 3341 1997 \nL 3341 0 \nL 2766 0 \nL 2766 531 \nQ 2569 213 2275 61 \nQ 1981 -91 1556 -91 \nQ 1019 -91 701 211 \nQ 384 513 384 1019 \nQ 384 1609 779 1909 \nQ 1175 2209 1959 2209 \nL 2766 2209 \nL 2766 2266 \nQ 2766 2663 2505 2880 \nQ 2244 3097 1772 3097 \nQ 1472 3097 1187 3025 \nQ 903 2953 641 2809 \nL 641 3341 \nQ 956 3463 1253 3523 \nQ 1550 3584 1831 3584 \nQ 2591 3584 2966 3190 \nQ 3341 2797 3341 1997 \nz\n\" id=\"DejaVuSans-61\" transform=\"scale(0.015625)\"/>\n       <path d=\"M 3513 2113 \nL 3513 0 \nL 2938 0 \nL 2938 2094 \nQ 2938 2591 2744 2837 \nQ 2550 3084 2163 3084 \nQ 1697 3084 1428 2787 \nQ 1159 2491 1159 1978 \nL 1159 0 \nL 581 0 \nL 581 3500 \nL 1159 3500 \nL 1159 2956 \nQ 1366 3272 1645 3428 \nQ 1925 3584 2291 3584 \nQ 2894 3584 3203 3211 \nQ 3513 2838 3513 2113 \nz\n\" id=\"DejaVuSans-6e\" transform=\"scale(0.015625)\"/>\n       <path d=\"M 1172 4494 \nL 1172 3500 \nL 2356 3500 \nL 2356 3053 \nL 1172 3053 \nL 1172 1153 \nQ 1172 725 1289 603 \nQ 1406 481 1766 481 \nL 2356 481 \nL 2356 0 \nL 1766 0 \nQ 1100 0 847 248 \nQ 594 497 594 1153 \nL 594 3053 \nL 172 3053 \nL 172 3500 \nL 594 3500 \nL 594 4494 \nL 1172 4494 \nz\n\" id=\"DejaVuSans-74\" transform=\"scale(0.015625)\"/>\n       <path d=\"M 603 3500 \nL 1178 3500 \nL 1178 0 \nL 603 0 \nL 603 3500 \nz\nM 603 4863 \nL 1178 4863 \nL 1178 4134 \nL 603 4134 \nL 603 4863 \nz\n\" id=\"DejaVuSans-69\" transform=\"scale(0.015625)\"/>\n       <path d=\"M 191 3500 \nL 800 3500 \nL 1894 563 \nL 2988 3500 \nL 3597 3500 \nL 2284 0 \nL 1503 0 \nL 191 3500 \nz\n\" id=\"DejaVuSans-76\" transform=\"scale(0.015625)\"/>\n       <path d=\"M 1959 3097 \nQ 1497 3097 1228 2736 \nQ 959 2375 959 1747 \nQ 959 1119 1226 758 \nQ 1494 397 1959 397 \nQ 2419 397 2687 759 \nQ 2956 1122 2956 1747 \nQ 2956 2369 2687 2733 \nQ 2419 3097 1959 3097 \nz\nM 1959 3584 \nQ 2709 3584 3137 3096 \nQ 3566 2609 3566 1747 \nQ 3566 888 3137 398 \nQ 2709 -91 1959 -91 \nQ 1206 -91 779 398 \nQ 353 888 353 1747 \nQ 353 2609 779 3096 \nQ 1206 3584 1959 3584 \nz\n\" id=\"DejaVuSans-6f\" transform=\"scale(0.015625)\"/>\n       <path d=\"M 2906 2969 \nL 2906 4863 \nL 3481 4863 \nL 3481 0 \nL 2906 0 \nL 2906 525 \nQ 2725 213 2448 61 \nQ 2172 -91 1784 -91 \nQ 1150 -91 751 415 \nQ 353 922 353 1747 \nQ 353 2572 751 3078 \nQ 1150 3584 1784 3584 \nQ 2172 3584 2448 3432 \nQ 2725 3281 2906 2969 \nz\nM 947 1747 \nQ 947 1113 1208 752 \nQ 1469 391 1925 391 \nQ 2381 391 2643 752 \nQ 2906 1113 2906 1747 \nQ 2906 2381 2643 2742 \nQ 2381 3103 1925 3103 \nQ 1469 3103 1208 2742 \nQ 947 2381 947 1747 \nz\n\" id=\"DejaVuSans-64\" transform=\"scale(0.015625)\"/>\n       <path d=\"M 3597 1894 \nL 3597 1613 \nL 953 1613 \nQ 991 1019 1311 708 \nQ 1631 397 2203 397 \nQ 2534 397 2845 478 \nQ 3156 559 3463 722 \nL 3463 178 \nQ 3153 47 2828 -22 \nQ 2503 -91 2169 -91 \nQ 1331 -91 842 396 \nQ 353 884 353 1716 \nQ 353 2575 817 3079 \nQ 1281 3584 2069 3584 \nQ 2775 3584 3186 3129 \nQ 3597 2675 3597 1894 \nz\nM 3022 2063 \nQ 3016 2534 2758 2815 \nQ 2500 3097 2075 3097 \nQ 1594 3097 1305 2825 \nQ 1016 2553 972 2059 \nL 3022 2063 \nz\n\" id=\"DejaVuSans-65\" transform=\"scale(0.015625)\"/>\n       <path d=\"M 3122 3366 \nL 3122 2828 \nQ 2878 2963 2633 3030 \nQ 2388 3097 2138 3097 \nQ 1578 3097 1268 2742 \nQ 959 2388 959 1747 \nQ 959 1106 1268 751 \nQ 1578 397 2138 397 \nQ 2388 397 2633 464 \nQ 2878 531 3122 666 \nL 3122 134 \nQ 2881 22 2623 -34 \nQ 2366 -91 2075 -91 \nQ 1284 -91 818 406 \nQ 353 903 353 1747 \nQ 353 2603 823 3093 \nQ 1294 3584 2113 3584 \nQ 2378 3584 2631 3529 \nQ 2884 3475 3122 3366 \nz\n\" id=\"DejaVuSans-63\" transform=\"scale(0.015625)\"/>\n       <path d=\"M 2631 2963 \nQ 2534 3019 2420 3045 \nQ 2306 3072 2169 3072 \nQ 1681 3072 1420 2755 \nQ 1159 2438 1159 1844 \nL 1159 0 \nL 581 0 \nL 581 3500 \nL 1159 3500 \nL 1159 2956 \nQ 1341 3275 1631 3429 \nQ 1922 3584 2338 3584 \nQ 2397 3584 2469 3576 \nQ 2541 3569 2628 3553 \nL 2631 2963 \nz\n\" id=\"DejaVuSans-72\" transform=\"scale(0.015625)\"/>\n       <path d=\"M 2834 3397 \nL 2834 2853 \nQ 2591 2978 2328 3040 \nQ 2066 3103 1784 3103 \nQ 1356 3103 1142 2972 \nQ 928 2841 928 2578 \nQ 928 2378 1081 2264 \nQ 1234 2150 1697 2047 \nL 1894 2003 \nQ 2506 1872 2764 1633 \nQ 3022 1394 3022 966 \nQ 3022 478 2636 193 \nQ 2250 -91 1575 -91 \nQ 1294 -91 989 -36 \nQ 684 19 347 128 \nL 347 722 \nQ 666 556 975 473 \nQ 1284 391 1588 391 \nQ 1994 391 2212 530 \nQ 2431 669 2431 922 \nQ 2431 1156 2273 1281 \nQ 2116 1406 1581 1522 \nL 1381 1569 \nQ 847 1681 609 1914 \nQ 372 2147 372 2553 \nQ 372 3047 722 3315 \nQ 1072 3584 1716 3584 \nQ 2034 3584 2315 3537 \nQ 2597 3491 2834 3397 \nz\n\" id=\"DejaVuSans-73\" transform=\"scale(0.015625)\"/>\n      </defs>\n      <use xlink:href=\"#DejaVuSans-51\"/>\n      <use x=\"78.710938\" xlink:href=\"#DejaVuSans-75\"/>\n      <use x=\"142.089844\" xlink:href=\"#DejaVuSans-61\"/>\n      <use x=\"203.369141\" xlink:href=\"#DejaVuSans-6e\"/>\n      <use x=\"266.748047\" xlink:href=\"#DejaVuSans-74\"/>\n      <use x=\"305.957031\" xlink:href=\"#DejaVuSans-69\"/>\n      <use x=\"333.740234\" xlink:href=\"#DejaVuSans-74\"/>\n      <use x=\"372.949219\" xlink:href=\"#DejaVuSans-61\"/>\n      <use x=\"434.228516\" xlink:href=\"#DejaVuSans-74\"/>\n      <use x=\"473.4375\" xlink:href=\"#DejaVuSans-69\"/>\n      <use x=\"501.220703\" xlink:href=\"#DejaVuSans-76\"/>\n      <use x=\"560.400391\" xlink:href=\"#DejaVuSans-6f\"/>\n      <use x=\"621.582031\" xlink:href=\"#DejaVuSans-20\"/>\n      <use x=\"653.369141\" xlink:href=\"#DejaVuSans-64\"/>\n      <use x=\"716.845703\" xlink:href=\"#DejaVuSans-65\"/>\n      <use x=\"778.369141\" xlink:href=\"#DejaVuSans-20\"/>\n      <use x=\"810.15625\" xlink:href=\"#DejaVuSans-63\"/>\n      <use x=\"865.136719\" xlink:href=\"#DejaVuSans-61\"/>\n      <use x=\"926.416016\" xlink:href=\"#DejaVuSans-6e\"/>\n      <use x=\"989.794922\" xlink:href=\"#DejaVuSans-64\"/>\n      <use x=\"1053.271484\" xlink:href=\"#DejaVuSans-69\"/>\n      <use x=\"1081.054688\" xlink:href=\"#DejaVuSans-64\"/>\n      <use x=\"1144.53125\" xlink:href=\"#DejaVuSans-61\"/>\n      <use x=\"1205.810547\" xlink:href=\"#DejaVuSans-74\"/>\n      <use x=\"1245.019531\" xlink:href=\"#DejaVuSans-75\"/>\n      <use x=\"1308.398438\" xlink:href=\"#DejaVuSans-72\"/>\n      <use x=\"1349.511719\" xlink:href=\"#DejaVuSans-61\"/>\n      <use x=\"1410.791016\" xlink:href=\"#DejaVuSans-73\"/>\n     </g>\n    </g>\n   </g>\n   <g id=\"patch_9\">\n    <path d=\"M 59.690625 239.9625 \nL 59.690625 22.5225 \n\" style=\"fill:none;stroke:#000000;stroke-linecap:square;stroke-linejoin:miter;stroke-width:0.8;\"/>\n   </g>\n   <g id=\"patch_10\">\n    <path d=\"M 394.490625 239.9625 \nL 394.490625 22.5225 \n\" style=\"fill:none;stroke:#000000;stroke-linecap:square;stroke-linejoin:miter;stroke-width:0.8;\"/>\n   </g>\n   <g id=\"patch_11\">\n    <path d=\"M 59.690625 239.9625 \nL 394.490625 239.9625 \n\" style=\"fill:none;stroke:#000000;stroke-linecap:square;stroke-linejoin:miter;stroke-width:0.8;\"/>\n   </g>\n   <g id=\"patch_12\">\n    <path d=\"M 59.690625 22.5225 \nL 394.490625 22.5225 \n\" style=\"fill:none;stroke:#000000;stroke-linecap:square;stroke-linejoin:miter;stroke-width:0.8;\"/>\n   </g>\n   <g id=\"text_15\">\n    <!-- Distribuição por raça em 2016 -->\n    <g transform=\"translate(135.766875 16.5225)scale(0.12 -0.12)\">\n     <defs>\n      <path d=\"M 3116 1747 \nQ 3116 2381 2855 2742 \nQ 2594 3103 2138 3103 \nQ 1681 3103 1420 2742 \nQ 1159 2381 1159 1747 \nQ 1159 1113 1420 752 \nQ 1681 391 2138 391 \nQ 2594 391 2855 752 \nQ 3116 1113 3116 1747 \nz\nM 1159 2969 \nQ 1341 3281 1617 3432 \nQ 1894 3584 2278 3584 \nQ 2916 3584 3314 3078 \nQ 3713 2572 3713 1747 \nQ 3713 922 3314 415 \nQ 2916 -91 2278 -91 \nQ 1894 -91 1617 61 \nQ 1341 213 1159 525 \nL 1159 0 \nL 581 0 \nL 581 4863 \nL 1159 4863 \nL 1159 2969 \nz\n\" id=\"DejaVuSans-62\" transform=\"scale(0.015625)\"/>\n      <path d=\"M 3122 3366 \nL 3122 2828 \nQ 2878 2963 2633 3030 \nQ 2388 3097 2138 3097 \nQ 1578 3097 1268 2742 \nQ 959 2388 959 1747 \nQ 959 1106 1268 751 \nQ 1578 397 2138 397 \nQ 2388 397 2633 464 \nQ 2878 531 3122 666 \nL 3122 134 \nQ 2881 22 2623 -34 \nQ 2366 -91 2075 -91 \nQ 1284 -91 818 406 \nQ 353 903 353 1747 \nQ 353 2603 823 3093 \nQ 1294 3584 2113 3584 \nQ 2378 3584 2631 3529 \nQ 2884 3475 3122 3366 \nz\nM 2311 0 \nQ 2482 -194 2566 -358 \nQ 2651 -522 2651 -672 \nQ 2651 -950 2463 -1092 \nQ 2276 -1234 1907 -1234 \nQ 1764 -1234 1628 -1215 \nQ 1492 -1197 1357 -1159 \nL 1357 -750 \nQ 1464 -803 1579 -826 \nQ 1695 -850 1842 -850 \nQ 2026 -850 2120 -775 \nQ 2214 -700 2214 -556 \nQ 2214 -463 2146 -327 \nQ 2079 -191 1939 0 \nL 2311 0 \nz\n\" id=\"DejaVuSans-e7\" transform=\"scale(0.015625)\"/>\n      <path d=\"M 2194 1759 \nQ 1497 1759 1228 1600 \nQ 959 1441 959 1056 \nQ 959 750 1161 570 \nQ 1363 391 1709 391 \nQ 2188 391 2477 730 \nQ 2766 1069 2766 1631 \nL 2766 1759 \nL 2194 1759 \nz\nM 3341 1997 \nL 3341 0 \nL 2766 0 \nL 2766 531 \nQ 2569 213 2275 61 \nQ 1981 -91 1556 -91 \nQ 1019 -91 701 211 \nQ 384 513 384 1019 \nQ 384 1609 779 1909 \nQ 1175 2209 1959 2209 \nL 2766 2209 \nL 2766 2266 \nQ 2766 2663 2505 2880 \nQ 2244 3097 1772 3097 \nQ 1472 3097 1187 3025 \nQ 903 2953 641 2809 \nL 641 3341 \nQ 956 3463 1253 3523 \nQ 1550 3584 1831 3584 \nQ 2591 3584 2966 3190 \nQ 3341 2797 3341 1997 \nz\nM 1844 4281 \nL 1665 4453 \nQ 1597 4516 1545 4545 \nQ 1494 4575 1453 4575 \nQ 1334 4575 1278 4461 \nQ 1222 4347 1215 4091 \nL 825 4091 \nQ 831 4513 990 4742 \nQ 1150 4972 1434 4972 \nQ 1553 4972 1653 4928 \nQ 1753 4884 1869 4781 \nL 2047 4609 \nQ 2115 4547 2167 4517 \nQ 2219 4488 2259 4488 \nQ 2378 4488 2434 4602 \nQ 2490 4716 2497 4972 \nL 2887 4972 \nQ 2881 4550 2721 4320 \nQ 2562 4091 2278 4091 \nQ 2159 4091 2059 4134 \nQ 1959 4178 1844 4281 \nz\n\" id=\"DejaVuSans-e3\" transform=\"scale(0.015625)\"/>\n      <path d=\"M 1159 525 \nL 1159 -1331 \nL 581 -1331 \nL 581 3500 \nL 1159 3500 \nL 1159 2969 \nQ 1341 3281 1617 3432 \nQ 1894 3584 2278 3584 \nQ 2916 3584 3314 3078 \nQ 3713 2572 3713 1747 \nQ 3713 922 3314 415 \nQ 2916 -91 2278 -91 \nQ 1894 -91 1617 61 \nQ 1341 213 1159 525 \nz\nM 3116 1747 \nQ 3116 2381 2855 2742 \nQ 2594 3103 2138 3103 \nQ 1681 3103 1420 2742 \nQ 1159 2381 1159 1747 \nQ 1159 1113 1420 752 \nQ 1681 391 2138 391 \nQ 2594 391 2855 752 \nQ 3116 1113 3116 1747 \nz\n\" id=\"DejaVuSans-70\" transform=\"scale(0.015625)\"/>\n      <path d=\"M 3328 2828 \nQ 3544 3216 3844 3400 \nQ 4144 3584 4550 3584 \nQ 5097 3584 5394 3201 \nQ 5691 2819 5691 2113 \nL 5691 0 \nL 5113 0 \nL 5113 2094 \nQ 5113 2597 4934 2840 \nQ 4756 3084 4391 3084 \nQ 3944 3084 3684 2787 \nQ 3425 2491 3425 1978 \nL 3425 0 \nL 2847 0 \nL 2847 2094 \nQ 2847 2600 2669 2842 \nQ 2491 3084 2119 3084 \nQ 1678 3084 1418 2786 \nQ 1159 2488 1159 1978 \nL 1159 0 \nL 581 0 \nL 581 3500 \nL 1159 3500 \nL 1159 2956 \nQ 1356 3278 1631 3431 \nQ 1906 3584 2284 3584 \nQ 2666 3584 2933 3390 \nQ 3200 3197 3328 2828 \nz\n\" id=\"DejaVuSans-6d\" transform=\"scale(0.015625)\"/>\n     </defs>\n     <use xlink:href=\"#DejaVuSans-44\"/>\n     <use x=\"77.001953\" xlink:href=\"#DejaVuSans-69\"/>\n     <use x=\"104.785156\" xlink:href=\"#DejaVuSans-73\"/>\n     <use x=\"156.884766\" xlink:href=\"#DejaVuSans-74\"/>\n     <use x=\"196.09375\" xlink:href=\"#DejaVuSans-72\"/>\n     <use x=\"237.207031\" xlink:href=\"#DejaVuSans-69\"/>\n     <use x=\"264.990234\" xlink:href=\"#DejaVuSans-62\"/>\n     <use x=\"328.466797\" xlink:href=\"#DejaVuSans-75\"/>\n     <use x=\"391.845703\" xlink:href=\"#DejaVuSans-69\"/>\n     <use x=\"419.628906\" xlink:href=\"#DejaVuSans-e7\"/>\n     <use x=\"474.609375\" xlink:href=\"#DejaVuSans-e3\"/>\n     <use x=\"535.888672\" xlink:href=\"#DejaVuSans-6f\"/>\n     <use x=\"597.070312\" xlink:href=\"#DejaVuSans-20\"/>\n     <use x=\"628.857422\" xlink:href=\"#DejaVuSans-70\"/>\n     <use x=\"692.333984\" xlink:href=\"#DejaVuSans-6f\"/>\n     <use x=\"753.515625\" xlink:href=\"#DejaVuSans-72\"/>\n     <use x=\"794.628906\" xlink:href=\"#DejaVuSans-20\"/>\n     <use x=\"826.416016\" xlink:href=\"#DejaVuSans-72\"/>\n     <use x=\"867.529297\" xlink:href=\"#DejaVuSans-61\"/>\n     <use x=\"928.808594\" xlink:href=\"#DejaVuSans-e7\"/>\n     <use x=\"983.789062\" xlink:href=\"#DejaVuSans-61\"/>\n     <use x=\"1045.068359\" xlink:href=\"#DejaVuSans-20\"/>\n     <use x=\"1076.855469\" xlink:href=\"#DejaVuSans-65\"/>\n     <use x=\"1138.378906\" xlink:href=\"#DejaVuSans-6d\"/>\n     <use x=\"1235.791016\" xlink:href=\"#DejaVuSans-20\"/>\n     <use x=\"1267.578125\" xlink:href=\"#DejaVuSans-32\"/>\n     <use x=\"1331.201172\" xlink:href=\"#DejaVuSans-30\"/>\n     <use x=\"1394.824219\" xlink:href=\"#DejaVuSans-31\"/>\n     <use x=\"1458.447266\" xlink:href=\"#DejaVuSans-36\"/>\n    </g>\n   </g>\n  </g>\n </g>\n <defs>\n  <clipPath id=\"p63a46a468c\">\n   <rect height=\"217.44\" width=\"334.8\" x=\"59.690625\" y=\"22.5225\"/>\n  </clipPath>\n </defs>\n</svg>\n",
            "image/png": "[encoded data removed]"
          },
          "metadata": {
            "needs_background": "light"
          }
        }
      ],
      "metadata": {
        "id": "86cdbba7",
        "outputId": "396745d2-eb60-4c60-a578-ea6fcd351da6"
      }
    },
    {
      "cell_type": "markdown",
      "source": [
        "# Há correlação entre idade, gênero e custo da campanha?"
      ],
      "metadata": {
        "id": "9c79b476"
      }
    },
    {
      "cell_type": "code",
      "execution_count": 76,
      "source": [
        "df_raca_genero[['NR_IDADE_DATA_POSSE', 'CD_GENERO', 'VR_DESPESA_MAX_CAMPANHA']].corr(method='pearson')"
      ],
      "outputs": [
        {
          "output_type": "execute_result",
          "data": {
            "text/plain": [
              "                         NR_IDADE_DATA_POSSE  CD_GENERO  \\\n",
              "NR_IDADE_DATA_POSSE                 1.000000  -0.056293   \n",
              "CD_GENERO                          -0.056293   1.000000   \n",
              "VR_DESPESA_MAX_CAMPANHA             0.072223  -0.011992   \n",
              "\n",
              "                         VR_DESPESA_MAX_CAMPANHA  \n",
              "NR_IDADE_DATA_POSSE                     0.072223  \n",
              "CD_GENERO                              -0.011992  \n",
              "VR_DESPESA_MAX_CAMPANHA                 1.000000  "
            ],
            "text/html": [
              "<div>\n",
              "<style scoped>\n",
              "    .dataframe tbody tr th:only-of-type {\n",
              "        vertical-align: middle;\n",
              "    }\n",
              "\n",
              "    .dataframe tbody tr th {\n",
              "        vertical-align: top;\n",
              "    }\n",
              "\n",
              "    .dataframe thead th {\n",
              "        text-align: right;\n",
              "    }\n",
              "</style>\n",
              "<table border=\"1\" class=\"dataframe\">\n",
              "  <thead>\n",
              "    <tr style=\"text-align: right;\">\n",
              "      <th></th>\n",
              "      <th>NR_IDADE_DATA_POSSE</th>\n",
              "      <th>CD_GENERO</th>\n",
              "      <th>VR_DESPESA_MAX_CAMPANHA</th>\n",
              "    </tr>\n",
              "  </thead>\n",
              "  <tbody>\n",
              "    <tr>\n",
              "      <th>NR_IDADE_DATA_POSSE</th>\n",
              "      <td>1.000000</td>\n",
              "      <td>-0.056293</td>\n",
              "      <td>0.072223</td>\n",
              "    </tr>\n",
              "    <tr>\n",
              "      <th>CD_GENERO</th>\n",
              "      <td>-0.056293</td>\n",
              "      <td>1.000000</td>\n",
              "      <td>-0.011992</td>\n",
              "    </tr>\n",
              "    <tr>\n",
              "      <th>VR_DESPESA_MAX_CAMPANHA</th>\n",
              "      <td>0.072223</td>\n",
              "      <td>-0.011992</td>\n",
              "      <td>1.000000</td>\n",
              "    </tr>\n",
              "  </tbody>\n",
              "</table>\n",
              "</div>"
            ]
          },
          "metadata": {},
          "execution_count": 76
        }
      ],
      "metadata": {
        "id": "481151a6",
        "outputId": "3ab20d39-9469-46d1-b63e-4d38d574125a"
      }
    },
    {
      "cell_type": "markdown",
      "source": [
        "linha diagonal = 1, \"Mesmo numero mudando pro mesmo lado na mesma proporção\"\n",
        "\n",
        "Teste de hipótese: eu achoq ue a idade possivelmente esta relacionado ao valor max de campanha = hipotse nula\n",
        "Queremos confirmar ou não essa hipótese, mas os valores são muito baixas"
      ],
      "metadata": {}
    }
  ]
}
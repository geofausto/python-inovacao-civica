{
 "cells": [
  {
   "cell_type": "markdown",
   "id": "adc7f832",
   "metadata": {},
   "source": [
    "# Desafio 1\n",
    "\n",
    "**Referências**:\n",
    "- [# 1 pendulum](https://pendulum.eustace.io/docs/#attributes-and-properties)\n",
    "- [# 2 DictReader()](https://docs.python.org/pt-br/3.7/library/csv.html#csv.DictReader)\n",
    "- [# 3 setdefault()](https://acervolima.com/dicionario-python-metodo-setdefault/)\n",
    "- [# 4 List Comprehensions](https://pythoniluminado.netlify.app/listas#list-comprehension)"
   ]
  },
  {
   "cell_type": "markdown",
   "id": "623268b2",
   "metadata": {},
   "source": [
    "### Importe as bibliotecas que usuará no código"
   ]
  },
  {
   "cell_type": "code",
   "execution_count": 34,
   "id": "287a13e3",
   "metadata": {},
   "outputs": [],
   "source": [
    "import pandas as pd\n",
    "import csv\n",
    "import pendulum  # 1\n",
    "\n",
    "# configurações do pandas\n",
    "pd.options.display.float_format = '{:.2f}'.format  # 2 casas decimais p/ floats\n",
    "pd.options.display.max_columns = None              # exibir todas as colunas"
   ]
  },
  {
   "cell_type": "markdown",
   "id": "bfc5092a",
   "metadata": {},
   "source": [
    "### Determine sua idade"
   ]
  },
  {
   "cell_type": "code",
   "execution_count": null,
   "id": "acb8de62",
   "metadata": {},
   "outputs": [],
   "source": [
    "print('Informe sua data de nascimento: ')\n",
    "\n",
    "ano = int(input('Ano (AAAA): '))\n",
    "mes = int(input('Mês (MM): '))\n",
    "dia = int(input('Dia (DD): '))\n",
    "\n",
    "my_age = pendulum.datetime(ano, mes, dia).age\n",
    "\n",
    "print(f'Idade: {my_age}')"
   ]
  },
  {
   "cell_type": "markdown",
   "id": "f5046ffa",
   "metadata": {},
   "source": [
    "## Resolução com python *puro*"
   ]
  },
  {
   "cell_type": "markdown",
   "id": "12f3b98c",
   "metadata": {},
   "source": [
    "### Leia o csv e converta para dicionário"
   ]
  },
  {
   "cell_type": "code",
   "execution_count": 29,
   "id": "d8b6f529",
   "metadata": {},
   "outputs": [],
   "source": [
    "leitor = csv.DictReader(open('consulta_cand_2020_PE_desafio1.csv'))  # 2\n",
    "\n",
    "# Transforma o objeto `DictReader` em dicionário\n",
    "candidatos = {}\n",
    "for linha in leitor:\n",
    "    for coluna, celula in linha.items():\n",
    "        # Se a coluna (key) já existir, a lista recebe o valor da célula (value)\n",
    "        candidatos.setdefault(coluna, []).append(celula)  # 3"
   ]
  },
  {
   "cell_type": "markdown",
   "id": "3ae8425d",
   "metadata": {},
   "source": [
    "###  Quantas pessoas candidatas no estado de Pernambuco seriam mais novas do que você "
   ]
  },
  {
   "cell_type": "code",
   "execution_count": 30,
   "id": "131e16d2",
   "metadata": {},
   "outputs": [],
   "source": [
    "# Usa compreensão de lista com condicional para filtrar os valores\n",
    "qtd_candidatos_mais_novos = [int(x) for x in candidatos['NR_IDADE_DATA_POSSE'] if int(x) < my_age]  # 4"
   ]
  },
  {
   "cell_type": "code",
   "execution_count": 31,
   "id": "e03ab5f5",
   "metadata": {},
   "outputs": [
    {
     "name": "stdout",
     "output_type": "stream",
     "text": [
      "6361 são mais novos que eu.\n"
     ]
    }
   ],
   "source": [
    "print(f'{len(qtd_candidatos_mais_novos)} são mais novos que eu.')"
   ]
  },
  {
   "cell_type": "markdown",
   "id": "c5297427",
   "metadata": {},
   "source": [
    "### Quantos porcentos isso representa em relação ao total de pessoas candidatas."
   ]
  },
  {
   "cell_type": "code",
   "execution_count": 32,
   "id": "2e9d6447",
   "metadata": {},
   "outputs": [],
   "source": [
    "pct_mais_novos = (len(qtd_candidatos_mais_novos) / len(candidatos['NR_IDADE_DATA_POSSE'])) * 100"
   ]
  },
  {
   "cell_type": "code",
   "execution_count": 33,
   "id": "eabd68c8",
   "metadata": {},
   "outputs": [
    {
     "name": "stdout",
     "output_type": "stream",
     "text": [
      "30.15% dos candidatos são mais novos que eu.\n"
     ]
    }
   ],
   "source": [
    "print(f'{pct_mais_novos:.2f}% dos candidatos são mais novos que eu.')"
   ]
  },
  {
   "cell_type": "markdown",
   "id": "8a32b35a",
   "metadata": {},
   "source": [
    "## Resolução com *pandas*"
   ]
  },
  {
   "cell_type": "markdown",
   "id": "4ae99d52",
   "metadata": {},
   "source": [
    "### Leia o csv em um dataframe"
   ]
  },
  {
   "cell_type": "code",
   "execution_count": 44,
   "id": "ad03e5a6",
   "metadata": {},
   "outputs": [],
   "source": [
    "candidaturas = pd.read_csv('consulta_cand_2020_PE_desafio1.csv', sep=',', encoding='latin_1')"
   ]
  },
  {
   "cell_type": "markdown",
   "id": "6dfee1eb",
   "metadata": {},
   "source": [
    "###  Quantas pessoas candidatas no estado de Pernambuco seriam mais novas do que você "
   ]
  },
  {
   "cell_type": "code",
   "execution_count": 59,
   "id": "af79eec9",
   "metadata": {},
   "outputs": [
    {
     "name": "stdout",
     "output_type": "stream",
     "text": [
      "6361 são mais novos que eu.\n"
     ]
    }
   ],
   "source": [
    "# O método `sum` é aplicado a uma \"lista\" (Serie) de booleanos, onde True==1 e False==0\n",
    "qtd_candidatos_mais_novos = sum(candidaturas['NR_IDADE_DATA_POSSE'] < my_age)\n",
    "\n",
    "print(f'{qtd_candidatos_mais_novos} são mais novos que eu.')"
   ]
  },
  {
   "cell_type": "markdown",
   "id": "68ce6ce5",
   "metadata": {},
   "source": [
    "### Quantos porcentos isso representa em relação ao total de pessoas candidatas."
   ]
  },
  {
   "cell_type": "code",
   "execution_count": 60,
   "id": "336e0593",
   "metadata": {},
   "outputs": [
    {
     "name": "stdout",
     "output_type": "stream",
     "text": [
      "30.15% dos candidatos são mais novos que eu.\n"
     ]
    }
   ],
   "source": [
    "pct_mais_novos = (qtd_candidatos_mais_novos / candidaturas.shape[0]) * 100\n",
    "\n",
    "print(f'{pct_mais_novos:.2f}% dos candidatos são mais novos que eu.')"
   ]
  }
 ],
 "metadata": {
  "kernelspec": {
   "display_name": "Python 3 (ipykernel)",
   "language": "python",
   "name": "python3"
  },
  "language_info": {
   "codemirror_mode": {
    "name": "ipython",
    "version": 3
   },
   "file_extension": ".py",
   "mimetype": "text/x-python",
   "name": "python",
   "nbconvert_exporter": "python",
   "pygments_lexer": "ipython3",
   "version": "3.8.2"
  }
 },
 "nbformat": 4,
 "nbformat_minor": 5
}

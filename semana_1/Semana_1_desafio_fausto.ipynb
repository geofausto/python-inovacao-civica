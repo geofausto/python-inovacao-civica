{
 "cells": [
  {
   "cell_type": "markdown",
   "source": [
    "### Dicas\n",
    "\n",
    "*   Antes de ir pro código, leia a descrição do desafio e busque definir pequenos passos para chegar a solução.  \n",
    "*   Leia o código para se familiarizar com a solução que está em desenvolvimento;\n",
    "\n",
    "*  Tente entender o que o código faz ou significa. \n",
    "\n",
    "*  Busque encontrar as partes que faltam ser colocadas e erros no código que precisam ser corrigidos;\n",
    "\n",
    "*  Se aparecer erros, procure corrigir e/ou repita os passos acima.\n",
    "\n",
    "\n",
    "\n",
    "# 1. Desafio: dicionário\n",
    "\n",
    "Utilizando o conhecimento que obtivemos essa semana, utilize o Google Colab ou o Jupyter Notebook  para fazer um programa que consiga responder às seguintes perguntas:\n",
    "\n",
    "1. Quantas pessoas candidatas no estado de Pernambuco seriam mais novas do que você?\n",
    "2. Quantos porcentos isso representa em relação ao total de pessoas candidatas?\n",
    "\n",
    "Dica: Use como referência a coluna \"NR_IDADE_DATA_POSSE\" do conjunto de dados \"consulta_cand_2020_PE_desafio1.csv\"\n",
    "\n",
    "\n",
    "> Fonte: TSE. Repositório de dados eleitorais. Conjunto de dados [Candidatos - 2020](https://www.tse.jus.br/eleicoes/estatisticas/repositorio-de-dados-eleitorais-1)"
   ],
   "metadata": {}
  },
  {
   "cell_type": "markdown",
   "source": [
    "### Importe as bibliotecas que usuará no código"
   ],
   "metadata": {}
  },
  {
   "cell_type": "code",
   "execution_count": 2,
   "source": [
    "from csv import reader\n",
    "from datetime import date as dt"
   ],
   "outputs": [],
   "metadata": {}
  },
  {
   "cell_type": "markdown",
   "source": [
    "### Determine sua idade"
   ],
   "metadata": {}
  },
  {
   "cell_type": "code",
   "execution_count": 13,
   "source": [
    "# ano_atual = dt.today().year\n",
    "# ano_nascimento = int(input('Qual seu ano de nascimento(YYYY)?'))\n",
    "# idade = ano_atual - ano_nascimento\n",
    "\n",
    "ano_atual = 2021\n",
    "ano_nascimento = 1978\n",
    "idade = ano_atual - ano_nascimento\n",
    "print(idade)"
   ],
   "outputs": [
    {
     "output_type": "stream",
     "name": "stdout",
     "text": [
      "43\n"
     ]
    }
   ],
   "metadata": {}
  },
  {
   "cell_type": "markdown",
   "source": [
    "### Leia o csv e converta para dicionário"
   ],
   "metadata": {}
  },
  {
   "cell_type": "code",
   "execution_count": 32,
   "source": [
    "lista_linhas = []\n",
    "\n",
    "with open('desafio/consulta_cand_2020_PE_desafio.csv', 'r', encoding='latin 1') as candidatas:\n",
    "    csv_linhas = reader(candidatas) # cria um objeto iterável sobre as linhas do csv\n",
    "    lista_linhas = list (csv_linhas) # converte o objeto em uma lista\n",
    "#print(lista_linhas)\n"
   ],
   "outputs": [],
   "metadata": {}
  },
  {
   "cell_type": "code",
   "execution_count": 33,
   "source": [
    "chaves = lista_linhas.pop(0) # salva a lista index 0 na variável \"chaves\" e apaga-a da lista original"
   ],
   "outputs": [],
   "metadata": {}
  },
  {
   "cell_type": "code",
   "execution_count": 34,
   "source": [
    "lista_dicionarios = [] # cria uma lista vazia\n",
    "\n",
    "for candidata in lista_linhas:\n",
    "    dicionario_zip = zip(chaves, candidata) # cria tuplas usando as listas \"chaves\" e \"candidata\"\n",
    "    dicionario = dict(dicionario_zip) # converte as listas de tuplas em dicionários\n",
    "    lista_dicionarios.append(dicionario) # insere o dicionário na lista \"lista_dicionarios\""
   ],
   "outputs": [],
   "metadata": {}
  },
  {
   "cell_type": "code",
   "execution_count": null,
   "source": [
    "print(lista_dicionarios[:6]) # imprime os 6 primeiros elementos da lista"
   ],
   "outputs": [],
   "metadata": {}
  },
  {
   "cell_type": "markdown",
   "source": [
    "###  Quantas pessoas candidatas no estado de Pernambuco seriam mais novas do que você "
   ],
   "metadata": {}
  },
  {
   "cell_type": "code",
   "execution_count": 36,
   "source": [
    "qnt_total_candidaturas = len(lista_dicionarios) # salva na variável a quantidade de elementos da \"lista_dicionarios\"\n",
    "qnt_candidaturas_mais_jovens = 0 # estabelece um contador zerado\n",
    "\n",
    "for candidatura in lista_dicionarios:\n",
    "    if int(candidatura['NR_IDADE_DATA_POSSE']) < idade: # converte para inteiro o valor da chave 'NR_IDADE_DATA_POSSE' e compara com a idade da usuária\n",
    "        qnt_candidaturas_mais_jovens += 1 # soma 1 no contador\n",
    "\n",
    "print(qnt_candidaturas_mais_jovens)"
   ],
   "outputs": [
    {
     "output_type": "stream",
     "name": "stdout",
     "text": [
      "9222\n"
     ]
    }
   ],
   "metadata": {}
  },
  {
   "cell_type": "markdown",
   "source": [
    "### Quantos porcentos isso representa em relação ao total de pessoas candidatas."
   ],
   "metadata": {}
  },
  {
   "cell_type": "code",
   "execution_count": 42,
   "source": [
    "percentual = (qnt_candidaturas_mais_jovens * 100)/qnt_total_candidaturas\n",
    "percentual_2_digitos = round(percentual, 2)\n",
    "\n",
    "print(f'Existiram {qnt_candidaturas_mais_jovens} candidatas mais jovens do que eu nas eleições de 2020 em Pernambuco. O que corresponde a {percentual_2_digitos}% do total das candidaturas')"
   ],
   "outputs": [
    {
     "output_type": "stream",
     "name": "stdout",
     "text": [
      "Existiram 9222 candidatas mais jovens do que eu nas eleições de 2020 em Pernambuco. O que corresponde a 43.7% do total das candidaturas\n"
     ]
    }
   ],
   "metadata": {}
  }
 ],
 "metadata": {
  "kernelspec": {
   "name": "python3",
   "display_name": "Python 3.8.10 64-bit ('venv': venv)"
  },
  "language_info": {
   "codemirror_mode": {
    "name": "ipython",
    "version": 3
   },
   "file_extension": ".py",
   "mimetype": "text/x-python",
   "name": "python",
   "nbconvert_exporter": "python",
   "pygments_lexer": "ipython3",
   "version": "3.8.10"
  },
  "interpreter": {
   "hash": "3b7093543c982e412a84dff7531008243b6c8d3640829bdc6aed9bc47156caf7"
  }
 },
 "nbformat": 4,
 "nbformat_minor": 5
}
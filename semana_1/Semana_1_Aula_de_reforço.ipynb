{
    "cells": [
        {
            "cell_type": "code",
            "execution_count": 1,
            "source": [
                "print?"
            ],
            "outputs": [
                {
                    "output_type": "stream",
                    "name": "stdout",
                    "text": [
                        "\u001b[0;31mDocstring:\u001b[0m\n",
                        "print(value, ..., sep=' ', end='\\n', file=sys.stdout, flush=False)\n",
                        "\n",
                        "Prints the values to a stream, or to sys.stdout by default.\n",
                        "Optional keyword arguments:\n",
                        "file:  a file-like object (stream); defaults to the current sys.stdout.\n",
                        "sep:   string inserted between values, default a space.\n",
                        "end:   string appended after the last value, default a newline.\n",
                        "flush: whether to forcibly flush the stream.\n",
                        "\u001b[0;31mType:\u001b[0m      builtin_function_or_method\n"
                    ]
                }
            ],
            "metadata": {}
        },
        {
            "cell_type": "code",
            "execution_count": 2,
            "source": [
                "time1 = 'gremio'\n",
                "time2 = 'inter'"
            ],
            "outputs": [],
            "metadata": {}
        },
        {
            "cell_type": "code",
            "execution_count": 3,
            "source": [
                "print(time1, time2, sep=';', end='!!!')"
            ],
            "outputs": [
                {
                    "output_type": "stream",
                    "name": "stdout",
                    "text": [
                        "gremio;inter!!!"
                    ]
                }
            ],
            "metadata": {}
        },
        {
            "cell_type": "markdown",
            "source": [
                "# Git\n",
                "## Clonar o repositório\n",
                "git clone https://github.com/usuario/nomerepositorio.git\n",
                "\n",
                "## Entrar no repositório\n",
                "cd nomerepositorio\n",
                "\n",
                "### Se for um repositório com outros colaboradores, antes de mudar qualquer coisa veja se teve alguma alteração já feita online, mas que você ainda não baixou.\n",
                "git pull\n",
                "\n",
                "git pull = BAIXE\n",
                "\n",
                "## Alterar coisas no repositório\n",
                "\n",
                "## Ver as alterações feitas\n",
                "git status \n",
                "\n",
                "## Adicionar as alterações\n",
                "### De um arquivo único\n",
                "git add nomedoarquivoqueeualterei.txt\n",
                "\n",
                "### - Ou da pasta raiz inteira do repositório\n",
                "git add .\n",
                "\n",
                "## Fazer um commit (também conhecido como \"um conjunto de mudanças no repositório, feitos por alguém com algum comentário\")\n",
                "\n",
                "git commit -m \"aqui eu digito uma mensagem curta mas explicativa\"\n",
                "\n",
                "## Enviar para o repositório online\n",
                "\n",
                "git push\n",
                "\n",
                "push = EMPURRE/ENVIE\n",
                "\n",
                "# Terminal\n",
                "cd = Change Directory (mudar o diretório)\n",
                "ls = LiSt (listar conteúdo do diretório)\n",
                "\n",
                ". = a pasta atual\n",
                ".. = a pasta mãe da pasta atual"
            ],
            "metadata": {}
        }
    ],
    "metadata": {
        "orig_nbformat": 4,
        "language_info": {
            "name": "python",
            "version": "3.8.10",
            "mimetype": "text/x-python",
            "codemirror_mode": {
                "name": "ipython",
                "version": 3
            },
            "pygments_lexer": "ipython3",
            "nbconvert_exporter": "python",
            "file_extension": ".py"
        },
        "kernelspec": {
            "name": "python3",
            "display_name": "Python 3.8.10 64-bit ('venv')"
        },
        "interpreter": {
            "hash": "7618e7c9cfe2c849235d47ca102e44a5a14eba542e88aa72939e8f8232d43eff"
        }
    },
    "nbformat": 4,
    "nbformat_minor": 2
}
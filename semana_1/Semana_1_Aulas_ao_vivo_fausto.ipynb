{
 "cells": [
  {
   "cell_type": "markdown",
   "source": [
    "# Exercício\n",
    "\n",
    "Construa um programa que:\n",
    " - Pergunte a usuária 2 números inteiros;\n",
    " - Crie uma lista numérica do intervalo;\n",
    " - Se o número for divisível por 3, substitua-o por \"Tecnologia\";\n",
    " - Se o número for divisível por 5, substitua-o por \"Cívica\";\n",
    " - Se o número for divisível por 3 e 5, substitua-o por \"Tecnologia Cívica\"."
   ],
   "metadata": {}
  },
  {
   "cell_type": "code",
   "execution_count": 1,
   "source": [
    "num_1 = 3 #int(input(\"Insira numero positivo: \"))"
   ],
   "outputs": [],
   "metadata": {}
  },
  {
   "cell_type": "code",
   "execution_count": 2,
   "source": [
    "num_2 = 17 #int(input(\"Insira numero positivo: \"))"
   ],
   "outputs": [],
   "metadata": {}
  },
  {
   "cell_type": "code",
   "execution_count": 3,
   "source": [
    "lista = list(range(num_1,num_2))"
   ],
   "outputs": [],
   "metadata": {}
  },
  {
   "cell_type": "code",
   "execution_count": 4,
   "source": [
    "print(lista)"
   ],
   "outputs": [
    {
     "output_type": "stream",
     "name": "stdout",
     "text": [
      "[3, 4, 5, 6, 7, 8, 9, 10, 11, 12, 13, 14, 15, 16]\n"
     ]
    }
   ],
   "metadata": {}
  },
  {
   "cell_type": "code",
   "execution_count": 5,
   "source": [
    "lista_atualizada = []"
   ],
   "outputs": [],
   "metadata": {}
  },
  {
   "cell_type": "code",
   "execution_count": 6,
   "source": [
    "for numero in lista:\n",
    "    if numero % 3 == 0 and numero % 5 == 0:             #tem que estar primeiro para uma condição anterior não anular esta\n",
    "        lista_atualizada.append('Tecnologia Cívica')\n",
    "    elif numero % 3 == 0:\n",
    "        lista_atualizada.append('Tecnologia')\n",
    "    elif numero % 5 == 0:\n",
    "        lista_atualizada.append('Cívica')\n",
    "    else:\n",
    "        lista_atualizada.append(numero)\n",
    "\n",
    "# Sobre repetiação do if\n",
    "# Uma info a mais sobre o elif: é bom ficar atento que vc só entra no elif se o if não der certo. Caso vc use dois ifs, os dois serão executados. Por exemplo:\n",
    "# if numero % 3:\n",
    "# …\n",
    "# if numero % 5:\n",
    "# …\n",
    "# Nesse caso, o número 15 vai entrar nos dois ifs. Se eu trocar o segundo if por elif, o número 15 vai entrar no primeiro, e não no segundo. Fez sentido? posso dar outros exemplos"
   ],
   "outputs": [],
   "metadata": {}
  },
  {
   "cell_type": "code",
   "execution_count": 7,
   "source": [
    "print(lista_atualizada)"
   ],
   "outputs": [
    {
     "output_type": "stream",
     "name": "stdout",
     "text": [
      "['Tecnologia', 4, 'Cívica', 'Tecnologia', 7, 8, 'Tecnologia', 'Cívica', 11, 'Tecnologia', 13, 14, 'Tecnologia Cívica', 16]\n"
     ]
    }
   ],
   "metadata": {}
  }
 ],
 "metadata": {
  "kernelspec": {
   "name": "python3",
   "display_name": "Python 3.8.10 64-bit ('venv': venv)"
  },
  "language_info": {
   "codemirror_mode": {
    "name": "ipython",
    "version": 3
   },
   "file_extension": ".py",
   "mimetype": "text/x-python",
   "name": "python",
   "nbconvert_exporter": "python",
   "pygments_lexer": "ipython3",
   "version": "3.8.10"
  },
  "interpreter": {
   "hash": "3b7093543c982e412a84dff7531008243b6c8d3640829bdc6aed9bc47156caf7"
  }
 },
 "nbformat": 4,
 "nbformat_minor": 5
}
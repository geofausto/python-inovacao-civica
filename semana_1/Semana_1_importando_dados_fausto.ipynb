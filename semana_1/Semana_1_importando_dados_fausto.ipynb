{
 "cells": [
  {
   "cell_type": "markdown",
   "source": [
    "# Escola de Dados - Python para inovação cívica\n",
    "## Módulo 1: Por dentro do python\n",
    "\n",
    "- [Aula 5](#Aula-5:-Pacotes)\n",
    "- [Aula 6](#Aula-6:-Método-readcsv)\n",
    "- [Aula 7](#Aula-7:-Carregando-tabelas)\n",
    "\n",
    "\n",
    "### Aula 5: Pacotes\n",
    "\n",
    "Instalaremos todos os pacotes que usaremos nesse módulo; Pandas, Matplotlib, Numpy, Jupiter Widgets e Pandas Profiling. Descomente as linhas abaixo (remova o # do início dos comandos) para instalar."
   ],
   "metadata": {}
  },
  {
   "cell_type": "code",
   "execution_count": null,
   "source": [
    "# pip install pandas"
   ],
   "outputs": [],
   "metadata": {}
  },
  {
   "cell_type": "code",
   "execution_count": null,
   "source": [
    "# pip install matplotlib"
   ],
   "outputs": [],
   "metadata": {}
  },
  {
   "cell_type": "code",
   "execution_count": null,
   "source": [
    "# pip install numpy"
   ],
   "outputs": [],
   "metadata": {}
  },
  {
   "cell_type": "code",
   "execution_count": null,
   "source": [
    "# pip install ipywidgets"
   ],
   "outputs": [],
   "metadata": {}
  },
  {
   "cell_type": "code",
   "execution_count": null,
   "source": [
    "# pip install pandas-profiling"
   ],
   "outputs": [],
   "metadata": {}
  },
  {
   "cell_type": "markdown",
   "source": [
    "A instalação é só realizada 1 vez, mas a importação das bibliotecas deve ocorrer no inicío do código, como na próxima linha:"
   ],
   "metadata": {}
  },
  {
   "cell_type": "code",
   "execution_count": null,
   "source": [
    "import pandas as pd"
   ],
   "outputs": [],
   "metadata": {}
  },
  {
   "cell_type": "markdown",
   "source": [
    "### Aula 6: Método readcsv\n",
    "Vamos aprender a ler arquivos do tipo CSV e converter para dataframe Pandas.\n",
    "\n",
    "Os dados que usaremos nesse notebook pode ser encontrado em: [TSE. Candidaturas em 2020](https://www.tse.jus.br/eleicoes/estatisticas/repositorio-de-dados-eleitorais-1)"
   ],
   "metadata": {}
  },
  {
   "cell_type": "code",
   "execution_count": null,
   "source": [
    "candidaturas_pe = pd.read_csv('base_dados/consulta_cand_2020_PE.csv', sep=';', encoding='latin_1')"
   ],
   "outputs": [],
   "metadata": {}
  },
  {
   "cell_type": "code",
   "execution_count": null,
   "source": [
    "# o comando abaixo retira a limitação da quantidade de colunas impressa na tela\n",
    "\n",
    "pd.options.display.max_columns = None"
   ],
   "outputs": [],
   "metadata": {}
  },
  {
   "cell_type": "code",
   "execution_count": null,
   "source": [
    "candidaturas_pe.head()"
   ],
   "outputs": [],
   "metadata": {}
  },
  {
   "cell_type": "code",
   "execution_count": null,
   "source": [
    "# informação sobre o tamanho do dataframe (qnt. linhas, qnt. colunas)\n",
    "candidaturas_pe.shape"
   ],
   "outputs": [],
   "metadata": {}
  },
  {
   "cell_type": "code",
   "execution_count": null,
   "source": [
    "candidaturas_pe.tail() #retorna os ultimos registros"
   ],
   "outputs": [],
   "metadata": {}
  },
  {
   "cell_type": "markdown",
   "source": [
    "## Quantas candidaturas houveram no seu município nas eleições de 2020?"
   ],
   "metadata": {}
  },
  {
   "cell_type": "code",
   "execution_count": null,
   "source": [
    "candidaturas_pe.info()"
   ],
   "outputs": [],
   "metadata": {}
  },
  {
   "cell_type": "code",
   "execution_count": null,
   "source": [
    "# https://www.geeksforgeeks.org/how-to-get-column-names-in-pandas-dataframe/\n",
    "\n",
    "candidaturas_pe.columns"
   ],
   "outputs": [],
   "metadata": {}
  },
  {
   "cell_type": "code",
   "execution_count": null,
   "source": [
    "# https://re-thought.com/pandas-value_counts/\n",
    "\n",
    "# candidaturas_pe['NM_UE'].value_counts()\n",
    "# candidaturas_pe['NM_UE'].value_counts().to_frame()\n",
    "candidaturas_pe.groupby('DS_GENERO') ['NM_UE'].value_counts()"
   ],
   "outputs": [],
   "metadata": {}
  },
  {
   "cell_type": "code",
   "execution_count": null,
   "source": [
    "candidaturas_pe['NM_UE'].nunique()"
   ],
   "outputs": [],
   "metadata": {}
  },
  {
   "cell_type": "code",
   "execution_count": null,
   "source": [
    "candidaturas_pe['NM_UE'].count()"
   ],
   "outputs": [],
   "metadata": {}
  },
  {
   "cell_type": "code",
   "execution_count": null,
   "source": [
    "candidaturas_pe"
   ],
   "outputs": [],
   "metadata": {}
  },
  {
   "cell_type": "markdown",
   "source": [
    "## Aula 7: Carregando tabelas\n",
    "\n",
    "É possível ler vários arquivos CSV e converter de uma só vez para dataframe Pandas. Para isso, além de usar as técnicas vistas nas aulas anteriores, importaremos a biblioteca glob."
   ],
   "metadata": {}
  },
  {
   "cell_type": "code",
   "execution_count": null,
   "source": [
    "import glob\n",
    "import pandas as pd"
   ],
   "outputs": [],
   "metadata": {}
  },
  {
   "cell_type": "code",
   "execution_count": null,
   "source": [
    "dados_todos_estados = glob.glob('base_dados/consulta_*.csv') #lista d enome de arquivos\n",
    "print(dados_todos_estados)"
   ],
   "outputs": [],
   "metadata": {}
  },
  {
   "cell_type": "markdown",
   "source": [
    "Vamos ler todos os arquivos e reunir em uma lista."
   ],
   "metadata": {}
  },
  {
   "cell_type": "code",
   "execution_count": 40,
   "source": [
    "lista_df = []\n",
    "\n",
    "for dados_estado in dados_todos_estados: # loop - vai percorre cada item da lista e leia o df e armazene na lista criada anterior\n",
    "    df_estado = pd.read_csv(dados_estado, sep=';', encoding='latin_1')\n",
    "#   lista_df.append(df_estado) # outra lista, porém com as tabelas dentro dela\n",
    "    print(df_estado.info()) #printa informações\n",
    "#    print(df_estado.head())"
   ],
   "outputs": [
    {
     "output_type": "stream",
     "name": "stdout",
     "text": [
      "<class 'pandas.core.frame.DataFrame'>\n",
      "RangeIndex: 21101 entries, 0 to 21100\n",
      "Data columns (total 63 columns):\n",
      " #   Column                         Non-Null Count  Dtype  \n",
      "---  ------                         --------------  -----  \n",
      " 0   DT_GERACAO                     21101 non-null  object \n",
      " 1   HH_GERACAO                     21101 non-null  object \n",
      " 2   ANO_ELEICAO                    21101 non-null  int64  \n",
      " 3   CD_TIPO_ELEICAO                21101 non-null  int64  \n",
      " 4   NM_TIPO_ELEICAO                21101 non-null  object \n",
      " 5   NR_TURNO                       21101 non-null  int64  \n",
      " 6   CD_ELEICAO                     21101 non-null  int64  \n",
      " 7   DS_ELEICAO                     21101 non-null  object \n",
      " 8   DT_ELEICAO                     21101 non-null  object \n",
      " 9   TP_ABRANGENCIA                 21101 non-null  object \n",
      " 10  SG_UF                          21101 non-null  object \n",
      " 11  SG_UE                          21101 non-null  int64  \n",
      " 12  NM_UE                          21101 non-null  object \n",
      " 13  CD_CARGO                       21101 non-null  int64  \n",
      " 14  DS_CARGO                       21101 non-null  object \n",
      " 15  SQ_CANDIDATO                   21101 non-null  int64  \n",
      " 16  NR_CANDIDATO                   21101 non-null  int64  \n",
      " 17  NM_CANDIDATO                   21101 non-null  object \n",
      " 18  NM_URNA_CANDIDATO              21101 non-null  object \n",
      " 19  NM_SOCIAL_CANDIDATO            21101 non-null  object \n",
      " 20  NR_CPF_CANDIDATO               21101 non-null  int64  \n",
      " 21  NM_EMAIL                       21101 non-null  object \n",
      " 22  CD_SITUACAO_CANDIDATURA        21101 non-null  int64  \n",
      " 23  DS_SITUACAO_CANDIDATURA        21101 non-null  object \n",
      " 24  CD_DETALHE_SITUACAO_CAND       21101 non-null  int64  \n",
      " 25  DS_DETALHE_SITUACAO_CAND       21101 non-null  object \n",
      " 26  TP_AGREMIACAO                  21101 non-null  object \n",
      " 27  NR_PARTIDO                     21101 non-null  int64  \n",
      " 28  SG_PARTIDO                     21101 non-null  object \n",
      " 29  NM_PARTIDO                     21101 non-null  object \n",
      " 30  SQ_COLIGACAO                   21101 non-null  int64  \n",
      " 31  NM_COLIGACAO                   21101 non-null  object \n",
      " 32  DS_COMPOSICAO_COLIGACAO        21101 non-null  object \n",
      " 33  CD_NACIONALIDADE               21101 non-null  int64  \n",
      " 34  DS_NACIONALIDADE               21101 non-null  object \n",
      " 35  SG_UF_NASCIMENTO               21101 non-null  object \n",
      " 36  CD_MUNICIPIO_NASCIMENTO        21101 non-null  int64  \n",
      " 37  NM_MUNICIPIO_NASCIMENTO        21101 non-null  object \n",
      " 38  DT_NASCIMENTO                  21101 non-null  object \n",
      " 39  NR_IDADE_DATA_POSSE            21101 non-null  int64  \n",
      " 40  NR_TITULO_ELEITORAL_CANDIDATO  21101 non-null  int64  \n",
      " 41  CD_GENERO                      21101 non-null  int64  \n",
      " 42  DS_GENERO                      21101 non-null  object \n",
      " 43  CD_GRAU_INSTRUCAO              21101 non-null  int64  \n",
      " 44  DS_GRAU_INSTRUCAO              21101 non-null  object \n",
      " 45  CD_ESTADO_CIVIL                21101 non-null  int64  \n",
      " 46  DS_ESTADO_CIVIL                21101 non-null  object \n",
      " 47  CD_COR_RACA                    21101 non-null  int64  \n",
      " 48  DS_COR_RACA                    21101 non-null  object \n",
      " 49  CD_OCUPACAO                    21101 non-null  int64  \n",
      " 50  DS_OCUPACAO                    21101 non-null  object \n",
      " 51  VR_DESPESA_MAX_CAMPANHA        21101 non-null  float64\n",
      " 52  CD_SIT_TOT_TURNO               21101 non-null  int64  \n",
      " 53  DS_SIT_TOT_TURNO               21101 non-null  object \n",
      " 54  ST_REELEICAO                   21101 non-null  object \n",
      " 55  ST_DECLARAR_BENS               21101 non-null  object \n",
      " 56  NR_PROTOCOLO_CANDIDATURA       21101 non-null  int64  \n",
      " 57  NR_PROCESSO                    21101 non-null  int64  \n",
      " 58  CD_SITUACAO_CANDIDATO_PLEITO   21101 non-null  int64  \n",
      " 59  DS_SITUACAO_CANDIDATO_PLEITO   21101 non-null  object \n",
      " 60  CD_SITUACAO_CANDIDATO_URNA     21101 non-null  int64  \n",
      " 61  DS_SITUACAO_CANDIDATO_URNA     21101 non-null  object \n",
      " 62  ST_CANDIDATO_INSERIDO_URNA     21101 non-null  object \n",
      "dtypes: float64(1), int64(27), object(35)\n",
      "memory usage: 10.1+ MB\n",
      "None\n",
      "<class 'pandas.core.frame.DataFrame'>\n",
      "RangeIndex: 10555 entries, 0 to 10554\n",
      "Data columns (total 63 columns):\n",
      " #   Column                         Non-Null Count  Dtype  \n",
      "---  ------                         --------------  -----  \n",
      " 0   DT_GERACAO                     10555 non-null  object \n",
      " 1   HH_GERACAO                     10555 non-null  object \n",
      " 2   ANO_ELEICAO                    10555 non-null  int64  \n",
      " 3   CD_TIPO_ELEICAO                10555 non-null  int64  \n",
      " 4   NM_TIPO_ELEICAO                10555 non-null  object \n",
      " 5   NR_TURNO                       10555 non-null  int64  \n",
      " 6   CD_ELEICAO                     10555 non-null  int64  \n",
      " 7   DS_ELEICAO                     10555 non-null  object \n",
      " 8   DT_ELEICAO                     10555 non-null  object \n",
      " 9   TP_ABRANGENCIA                 10555 non-null  object \n",
      " 10  SG_UF                          10555 non-null  object \n",
      " 11  SG_UE                          10555 non-null  int64  \n",
      " 12  NM_UE                          10555 non-null  object \n",
      " 13  CD_CARGO                       10555 non-null  int64  \n",
      " 14  DS_CARGO                       10555 non-null  object \n",
      " 15  SQ_CANDIDATO                   10555 non-null  int64  \n",
      " 16  NR_CANDIDATO                   10555 non-null  int64  \n",
      " 17  NM_CANDIDATO                   10555 non-null  object \n",
      " 18  NM_URNA_CANDIDATO              10555 non-null  object \n",
      " 19  NM_SOCIAL_CANDIDATO            10555 non-null  object \n",
      " 20  NR_CPF_CANDIDATO               10555 non-null  int64  \n",
      " 21  NM_EMAIL                       10555 non-null  object \n",
      " 22  CD_SITUACAO_CANDIDATURA        10555 non-null  int64  \n",
      " 23  DS_SITUACAO_CANDIDATURA        10555 non-null  object \n",
      " 24  CD_DETALHE_SITUACAO_CAND       10555 non-null  int64  \n",
      " 25  DS_DETALHE_SITUACAO_CAND       10555 non-null  object \n",
      " 26  TP_AGREMIACAO                  10555 non-null  object \n",
      " 27  NR_PARTIDO                     10555 non-null  int64  \n",
      " 28  SG_PARTIDO                     10555 non-null  object \n",
      " 29  NM_PARTIDO                     10555 non-null  object \n",
      " 30  SQ_COLIGACAO                   10555 non-null  int64  \n",
      " 31  NM_COLIGACAO                   10555 non-null  object \n",
      " 32  DS_COMPOSICAO_COLIGACAO        10555 non-null  object \n",
      " 33  CD_NACIONALIDADE               10555 non-null  int64  \n",
      " 34  DS_NACIONALIDADE               10555 non-null  object \n",
      " 35  SG_UF_NASCIMENTO               10555 non-null  object \n",
      " 36  CD_MUNICIPIO_NASCIMENTO        10555 non-null  int64  \n",
      " 37  NM_MUNICIPIO_NASCIMENTO        10555 non-null  object \n",
      " 38  DT_NASCIMENTO                  10555 non-null  object \n",
      " 39  NR_IDADE_DATA_POSSE            10555 non-null  int64  \n",
      " 40  NR_TITULO_ELEITORAL_CANDIDATO  10555 non-null  int64  \n",
      " 41  CD_GENERO                      10555 non-null  int64  \n",
      " 42  DS_GENERO                      10555 non-null  object \n",
      " 43  CD_GRAU_INSTRUCAO              10555 non-null  int64  \n",
      " 44  DS_GRAU_INSTRUCAO              10555 non-null  object \n",
      " 45  CD_ESTADO_CIVIL                10555 non-null  int64  \n",
      " 46  DS_ESTADO_CIVIL                10555 non-null  object \n",
      " 47  CD_COR_RACA                    10555 non-null  int64  \n",
      " 48  DS_COR_RACA                    10555 non-null  object \n",
      " 49  CD_OCUPACAO                    10555 non-null  int64  \n",
      " 50  DS_OCUPACAO                    10555 non-null  object \n",
      " 51  VR_DESPESA_MAX_CAMPANHA        10555 non-null  float64\n",
      " 52  CD_SIT_TOT_TURNO               10555 non-null  int64  \n",
      " 53  DS_SIT_TOT_TURNO               10555 non-null  object \n",
      " 54  ST_REELEICAO                   10555 non-null  object \n",
      " 55  ST_DECLARAR_BENS               10555 non-null  object \n",
      " 56  NR_PROTOCOLO_CANDIDATURA       10555 non-null  int64  \n",
      " 57  NR_PROCESSO                    10555 non-null  int64  \n",
      " 58  CD_SITUACAO_CANDIDATO_PLEITO   10555 non-null  int64  \n",
      " 59  DS_SITUACAO_CANDIDATO_PLEITO   10555 non-null  object \n",
      " 60  CD_SITUACAO_CANDIDATO_URNA     10555 non-null  int64  \n",
      " 61  DS_SITUACAO_CANDIDATO_URNA     10555 non-null  object \n",
      " 62  ST_CANDIDATO_INSERIDO_URNA     10555 non-null  object \n",
      "dtypes: float64(1), int64(27), object(35)\n",
      "memory usage: 5.1+ MB\n",
      "None\n"
     ]
    }
   ],
   "metadata": {}
  },
  {
   "cell_type": "code",
   "execution_count": null,
   "source": [
    "print(lista_df)"
   ],
   "outputs": [],
   "metadata": {}
  },
  {
   "cell_type": "code",
   "execution_count": null,
   "source": [
    "lista_df[0]"
   ],
   "outputs": [],
   "metadata": {}
  },
  {
   "cell_type": "code",
   "execution_count": null,
   "source": [
    "print(lista_df[0])"
   ],
   "outputs": [],
   "metadata": {}
  },
  {
   "cell_type": "markdown",
   "source": [
    "Com o método `pd.concat` poderemos reunir os dataframes de cada estado em um único"
   ],
   "metadata": {}
  },
  {
   "cell_type": "code",
   "execution_count": null,
   "source": [
    "df_completo = pd.concat(lista_df, axis=0, ignore_index=True)\n",
    "df_completo.shape"
   ],
   "outputs": [],
   "metadata": {}
  },
  {
   "cell_type": "code",
   "execution_count": null,
   "source": [
    "df_completo.head()"
   ],
   "outputs": [],
   "metadata": {}
  },
  {
   "cell_type": "code",
   "execution_count": null,
   "source": [
    "df_completo.tail()"
   ],
   "outputs": [],
   "metadata": {}
  },
  {
   "cell_type": "markdown",
   "source": [
    "# Para verificar como fica com csv com mais colunas / exportar para csv"
   ],
   "metadata": {}
  },
  {
   "cell_type": "code",
   "execution_count": null,
   "source": [
    "copia_PE = pd.read_csv('base_dados/consulta_cand_2020_PE.csv', sep=';', encoding='latin_1')\n",
    "copia_PE.head()"
   ],
   "outputs": [],
   "metadata": {}
  },
  {
   "cell_type": "code",
   "execution_count": null,
   "source": [
    "copia_PE['nova_coluna'] = 'eita' # cria nova coluna e preenche com eita\n",
    "copia_PE.head()"
   ],
   "outputs": [],
   "metadata": {}
  },
  {
   "cell_type": "code",
   "execution_count": null,
   "source": [
    "copia_PE.shape"
   ],
   "outputs": [],
   "metadata": {}
  },
  {
   "cell_type": "code",
   "execution_count": null,
   "source": [
    "copia_PE.to_csv('base_dados/consulta_cand_2020_PE_alt.csv', sep=';', encoding = 'latin_1', index=False) #exporta para csv retirando o index"
   ],
   "outputs": [],
   "metadata": {}
  }
 ],
 "metadata": {
  "kernelspec": {
   "name": "python3",
   "display_name": "Python 3.8.10 64-bit ('venv': venv)"
  },
  "language_info": {
   "codemirror_mode": {
    "name": "ipython",
    "version": 3
   },
   "file_extension": ".py",
   "mimetype": "text/x-python",
   "name": "python",
   "nbconvert_exporter": "python",
   "pygments_lexer": "ipython3",
   "version": "3.8.10"
  },
  "interpreter": {
   "hash": "3b7093543c982e412a84dff7531008243b6c8d3640829bdc6aed9bc47156caf7"
  }
 },
 "nbformat": 4,
 "nbformat_minor": 5
}
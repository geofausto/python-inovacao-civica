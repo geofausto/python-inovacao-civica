{
 "cells": [
  {
   "cell_type": "markdown",
   "source": [
    "# Desafio"
   ],
   "metadata": {
    "id": "bFYatS11gOtN"
   }
  },
  {
   "cell_type": "markdown",
   "source": [
    "### Acesse a api da camara, e recupere os reembolsos do ano de 2018"
   ],
   "metadata": {}
  },
  {
   "cell_type": "code",
   "execution_count": null,
   "source": [
    "import requests\n",
    "\n",
    "# fazendo o download do conteúdo do arquivo\n",
    "url = f\"http://www.camara.leg.br/cotas/Ano-2018.csv.zip\"\n",
    "r = requests.get(...)"
   ],
   "outputs": [],
   "metadata": {
    "id": "H-ShSuQJ5ICY"
   }
  },
  {
   "cell_type": "markdown",
   "source": [
    "### Leia o Arquivo csv "
   ],
   "metadata": {
    "id": "9V6UrEjQiS4S"
   }
  },
  {
   "cell_type": "code",
   "execution_count": 1,
   "source": [
    "import pandas as pd"
   ],
   "outputs": [],
   "metadata": {
    "id": "yalZ9LW96ONR",
    "scrolled": true
   }
  },
  {
   "cell_type": "markdown",
   "source": [
    "### Visualize 10 linhas aleatórias"
   ],
   "metadata": {}
  },
  {
   "cell_type": "code",
   "execution_count": null,
   "source": [
    "df[df].sample[10]"
   ],
   "outputs": [],
   "metadata": {}
  },
  {
   "cell_type": "markdown",
   "source": [
    "### Existem registros com `ideDocumento` nulo?"
   ],
   "metadata": {
    "id": "3LhB4RCUVMm7"
   }
  },
  {
   "cell_type": "code",
   "execution_count": null,
   "source": [
    "df_filtro = df.coluna.isna() #so funciona quando o nome da coluna não tem espaço ou caractere especial\n",
    "df_filtro = df['coluna tal'].isna() #\n",
    "df_filtro = df.coluna.isnull()"
   ],
   "outputs": [],
   "metadata": {}
  },
  {
   "cell_type": "code",
   "execution_count": null,
   "source": [
    "df.fillna(value=\"Não se aplica\")"
   ],
   "outputs": [],
   "metadata": {}
  },
  {
   "cell_type": "markdown",
   "source": [
    "### Converta a coluna `datEmissao` para `datetime`, e descubra quantos reembolsos aconteram no primeiro semestre"
   ],
   "metadata": {}
  },
  {
   "cell_type": "code",
   "execution_count": null,
   "source": [
    "df[\"colunadadata\"] = pd.to_datatime(df[\"colunadadata\"], format=\"%Y-%m-%d\") # repete fd[coluna] depois do = para o python alterar o df original \n",
    "\n",
    "\n",
    "# ver explicação parse, no video"
   ],
   "outputs": [],
   "metadata": {}
  },
  {
   "cell_type": "markdown",
   "source": [
    "### Limpe a coluna `txtCNPJCPF`: ela deve conter somente dígitos numéricos"
   ],
   "metadata": {}
  },
  {
   "cell_type": "code",
   "execution_count": null,
   "source": [
    "# vamos trocar qualquer caracter que não seja um dígito número por '', essa operação remove os dígitos\n",
    "df_reimbursements[\"txtCNPJCPF\"] = df_reimbursements[\"txtCNPJCPF\"]. str.replace(r'\\D', '', regex=True) # expressão regular, para digitos, troca por ''"
   ],
   "outputs": [],
   "metadata": {}
  },
  {
   "cell_type": "markdown",
   "source": [
    "### Quais são os valores únicos do campo `indTipoDocumento`? Substitua o conteúdo pela respectiva legenda\n",
    "\n",
    "*Dica*: 0 (Zero), para Nota Fiscal; 1 (um), para Recibo; e 2, para Despesa no Exterior."
   ],
   "metadata": {}
  },
  {
   "cell_type": "code",
   "execution_count": null,
   "source": [
    "df.indTipoDocumento.unique() # mostra itens unicos na coluna\n",
    "df.indTipoDocumento.value_counts() # mostra contagem do valores na coluna"
   ],
   "outputs": [],
   "metadata": {}
  }
 ],
 "metadata": {
  "kernelspec": {
   "name": "python3",
   "display_name": "Python 3.8.10 64-bit ('venv': venv)"
  },
  "language_info": {
   "codemirror_mode": {
    "name": "ipython",
    "version": 3
   },
   "file_extension": ".py",
   "mimetype": "text/x-python",
   "name": "python",
   "nbconvert_exporter": "python",
   "pygments_lexer": "ipython3",
   "version": "3.8.10"
  },
  "toc": {
   "base_numbering": 1,
   "nav_menu": {},
   "number_sections": true,
   "sideBar": true,
   "skip_h1_title": false,
   "title_cell": "Table of Contents",
   "title_sidebar": "Contents",
   "toc_cell": false,
   "toc_position": {
    "height": "calc(100% - 180px)",
    "left": "10px",
    "top": "150px",
    "width": "165px"
   },
   "toc_section_display": true,
   "toc_window_display": true
  },
  "interpreter": {
   "hash": "3b7093543c982e412a84dff7531008243b6c8d3640829bdc6aed9bc47156caf7"
  }
 },
 "nbformat": 4,
 "nbformat_minor": 5
}
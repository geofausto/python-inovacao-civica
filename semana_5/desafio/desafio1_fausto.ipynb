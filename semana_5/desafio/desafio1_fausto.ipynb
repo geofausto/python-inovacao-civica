{
 "cells": [
  {
   "cell_type": "markdown",
   "source": [
    "# Desafio 1: Licitações da Secretaria de Educação de São Paulo no Portal de Compras Federal"
   ],
   "metadata": {}
  },
  {
   "cell_type": "markdown",
   "source": [
    "Neste desafio você irá **acessar o Portal de Compras do Governo Federal (ComprasNET)** e fazer uma busca no sistema para encontrar **todas** as licitações em formato de **pregão eletrônico** em andamento da **Secretaria de Educação de São Paulo**.\n",
    "\n",
    "Antes de começar o desafio, [acesse o site](http://comprasnet.gov.br/acesso.asp?url=/livre/Pregao/lista_pregao_filtro.asp?Opc=2) e se familiarize com ele. A UASG ([Unidade de Administração de Serviços Gerais](http://www.comprasnet.gov.br/publicacoes/cartilha/glossario.asp)) da Secretaria de Educação de São Paulo é **925013**. É possível encontrar UASG de outras entidades da administração pública na internet facilmente se quiser experimentar :)\n",
    "\n",
    "Lembre-se que as Ferramentas de Desenvolvimento do Chrome são essenciais nesse desafio!"
   ],
   "metadata": {}
  },
  {
   "cell_type": "markdown",
   "source": [
    "## Importando as bibliotecas que iremos utilizar\n",
    "\n",
    "O fluxo da nossa solução será o seguinte:\n",
    "\n",
    "1. Acessar a página inicial da consulta iniciando uma sessão com `requests_html`\n",
    "2. Realizar a consulta com os parâmetros apropriados\n",
    "3. Extrair as informações da tabela de resultados encontrada na página\n",
    "4. Salvar o conteúdo em CSV usando a biblioteca nativa do Python `csv`\n",
    "5. Salvar o conteúdo em CSV mas usando a biblioteca `pandas`\n",
    "\n",
    "Então, os `import` a seguir são os necessários para esta tarefa."
   ],
   "metadata": {}
  },
  {
   "cell_type": "code",
   "execution_count": 2,
   "source": [
    "import csv\n",
    "\n",
    "import pandas as pd\n",
    "from requests_html import HTMLSession #tive que instalar a biblioteca"
   ],
   "outputs": [],
   "metadata": {}
  },
  {
   "cell_type": "markdown",
   "source": [
    "## Acessando a página inicial\n",
    "\n",
    "Precisaremos criar uma sessão (como se fosse uma sessão de navegação mesmo) acessando a página inicial para depois fazer a requisição que irá submeter o formulário (realizar a consulta).\n",
    "\n",
    "Primeiro, vamos guardar a nossa URL inicial em uma variável:"
   ],
   "metadata": {}
  },
  {
   "cell_type": "code",
   "execution_count": 3,
   "source": [
    "url = \"http://comprasnet.gov.br/acesso.asp?url=/livre/Pregao/lista_pregao_filtro.asp?Opc=2\""
   ],
   "outputs": [],
   "metadata": {}
  },
  {
   "cell_type": "markdown",
   "source": [
    "E então, podemos criar uma sessão e fazer uma requisição para a página inicial:"
   ],
   "metadata": {}
  },
  {
   "cell_type": "code",
   "execution_count": 4,
   "source": [
    "session = HTMLSession()\n",
    "first_page = session.get(url)"
   ],
   "outputs": [],
   "metadata": {}
  },
  {
   "cell_type": "markdown",
   "source": [
    "## Realizando a consulta\n",
    "\n",
    "Para realizar esta consulta, você deve ter observado que uma requisição `POST` é necessária. Normalmente submissões de formulários são assim mesmo, onde você realiza uma requisição `POST` que o resultado varia a depender dos parâmetros que você insere no _formdata_ (ou dados de formulário). Nesse caso, o _formdata_ deve ser composto pelos parâmetros da nossa consulta (imaginamos).\n",
    "\n",
    "Qual a URL você identificou nessa requisição que realiza a consulta? Guarde-a numa variável:"
   ],
   "metadata": {}
  },
  {
   "cell_type": "code",
   "execution_count": 7,
   "source": [
    "form_url = \"http://comprasnet.gov.br/livre/Pregao/lista_pregao.asp\""
   ],
   "outputs": [],
   "metadata": {}
  },
  {
   "cell_type": "markdown",
   "source": [
    "E o __formdata__? Conseguiu identificar os campos? Alguns são sempre necessários e outros podem não ser...\n",
    "\n",
    "Preencha aqui com os valores adequados (e se desejar, brinque um pouco com esses parâmetros):"
   ],
   "metadata": {}
  },
  {
   "cell_type": "code",
   "execution_count": 8,
   "source": [
    "formdata = {\n",
    "    'Opc': '2',\n",
    "    'txtlstUasg': '',\n",
    "    'rdTpPregao': 'E',\n",
    "    'lstSrp': 'T',\n",
    "    'lstICMS': 'T',\n",
    "    'lstSituacao': '5',\n",
    "    'lstTipoSuspensao': '0',\n",
    "    'uf': '',\n",
    "    'co_uasg': '925013',\n",
    "    'numprp': '',\n",
    "    'dt_entrega': '',\n",
    "    'dt_abertura': ''\n",
    "}"
   ],
   "outputs": [],
   "metadata": {}
  },
  {
   "cell_type": "markdown",
   "source": [
    "Com isso podemos fazer nossa consulta:"
   ],
   "metadata": {}
  },
  {
   "cell_type": "code",
   "execution_count": 9,
   "source": [
    "form_response = session.post(form_url, data=formdata)"
   ],
   "outputs": [],
   "metadata": {}
  },
  {
   "cell_type": "markdown",
   "source": [
    "## Agora vamos raspar os itens da página\n",
    "\n",
    "Analise a página de resultados para encontrar o Xpath que seleciona todas as linhas da tabela de resultados, ou seja, queremos que cada linha da tabela seja um resultado dessa nossa seleção.\n",
    "\n",
    "Preencha aqui o Xpath correto para que obtenhamos os pregões da tabela de resultados (apenas as linhas que contém pregões mesmo!): "
   ],
   "metadata": {}
  },
  {
   "cell_type": "code",
   "execution_count": null,
   "source": [
    "xpath = \"table[@class='td']//tr\n",
    "rows = form_response.html.xpath(xpath)"
   ],
   "outputs": [],
   "metadata": {}
  },
  {
   "cell_type": "markdown",
   "source": [
    "Vamos observar o que a `requests_html` está selecionando... Na célula a seguir, vamos ver como é o HTML do primeiro elemento da lista, ou seja, a primeira linha.\n",
    "\n",
    "Cada linha deverá ser um elemento `<tr>` com o conteúdo da linha dentro de elementos mais internos. Recomendo analisar um pouco essa estrutura a seguir para entender como a extração de cada campo irá funcionar."
   ],
   "metadata": {}
  },
  {
   "cell_type": "code",
   "execution_count": null,
   "source": [
    "print(rows[0].html)"
   ],
   "outputs": [],
   "metadata": {}
  },
  {
   "cell_type": "markdown",
   "source": [
    "Vendo como a `requests_html` está enxergando este item, podemos esclarecer uma coisa sobre Xpaths relativos. Se você lembra da aula de Xpath, então talvez se confunda um pouco ao criar os Xpaths para extrair as informações de cada campo da linha.\n",
    "\n",
    "Mas de onde viria essa confusão? Bem, possivelmente você imaginaria que o elemento atual que a `requests_html` estaria \"enxergando\" seria o `<tr>` certo? E que para selecionar qualquer elemento a partir deste elemento atual precisaríamos \"descer a árvore de elementos\" relativamente a partir dele (`\"./elemento1/elemento2\"`). Porém, a `requests_html` funciona de maneira diferente, e o `<tr>` é um elemento interno do elemento atual (o único descendente imediato, de forma mais específica). Ou seja, é como se tivéssemos um novo documento HTML onde o topo da árvore seria o elemento `<tr>` e apenas ele.\n",
    "\n",
    "Por isso, aqui você irá preencher o xpath **a partir** do trecho onde está o `tr` nos Xpaths abaixo.\n",
    "\n",
    "Queremos raspar **o texto** de cada campo apresentado na tabela (exceto o campo \"Informações do Pregão\") e salvar todos os itens em formato de dicionário numa lista de pregões:"
   ],
   "metadata": {}
  },
  {
   "cell_type": "code",
   "execution_count": null,
   "source": [
    "pregoes = []\n",
    "for row in rows:\n",
    "    numero_pregao = row.xpath(\"./tr/\")[0]\n",
    "    codigo_uasg = row.xpath(\"./tr/\")[0]\n",
    "    nome_uasg = row.xpath(\"./tr/\")[0]\n",
    "    data_hora_inicio = row.xpath(\"./tr/\")[0]\n",
    "    data_hora_abertura = row.xpath(\"./tr/\")[0]\n",
    "    situacao = row.xpath(\"./tr/\")[0]\n",
    "    item = {\n",
    "        \"numero_pregao\": numero_pregao,\n",
    "        \"codigo_uasg\": codigo_uasg,\n",
    "        \"nome_uasg\": nome_uasg,\n",
    "        \"data_hora_inicio\": data_hora_inicio,\n",
    "        \"data_hora_abertura\": data_hora_abertura,\n",
    "        \"situacao\": situacao,\n",
    "    }\n",
    "    pregoes.append(item)"
   ],
   "outputs": [],
   "metadata": {}
  },
  {
   "cell_type": "markdown",
   "source": [
    "## Salvando os itens\n",
    "\n",
    "Com a nossa lista preenchida, podemos salvar. Primeiro, uma maneira de salvar itens em CSV sem precisar utilizar bibliotecas externas. Esta versão mostra que precisamos de apenas alguns comandos para escrever o CSV:\n",
    "\n",
    "1. Um comando que indique que queremos criar um arquivo em modo de escrita;\n",
    "2. Outro que informe quais são os campos que devem ser as colunas do CSV (através dos nomes dos campos do primeiro item da lista de dicionários) neste arquivo\n",
    "3. Um que escreve o cabeçalho (as colunas) do CSV\n",
    "4. Um que escreve todas as linhas no arquivo a partir da nossa lista de dicionários"
   ],
   "metadata": {}
  },
  {
   "cell_type": "code",
   "execution_count": null,
   "source": [
    "with open('pregoes.csv', 'w') as f:\n",
    "    fieldnames = pregoes[0].keys()\n",
    "    writer = csv.DictWriter(f, fieldnames=fieldnames)\n",
    "    writer.writeheader()\n",
    "    writer.writerows(pregoes)"
   ],
   "outputs": [],
   "metadata": {}
  },
  {
   "cell_type": "markdown",
   "source": [
    "Mas existe maneira mais fácil usando `pandas`, veja se você consegue criar um `DataFrame` a partir da variável `pregoes`:"
   ],
   "metadata": {}
  },
  {
   "cell_type": "code",
   "execution_count": null,
   "source": [
    "df_pregoes = "
   ],
   "outputs": [],
   "metadata": {}
  },
  {
   "cell_type": "markdown",
   "source": [
    "E agora salve o `DataFrame` em um arquivo `'pregoes_pandas.csv'` (é recomendável utilizar o parâmetro `index=False` para suprimir a coluna \"vazia\" do índice do `DataFrame`):"
   ],
   "metadata": {}
  },
  {
   "cell_type": "code",
   "execution_count": null,
   "source": [],
   "outputs": [],
   "metadata": {}
  },
  {
   "cell_type": "markdown",
   "source": [
    "## Finalizando o desafio!\n",
    "\n",
    "Pronto! Temos uma consulta! E ela pode ser modificada para selecionar pregões de outras instituições também!\n",
    "\n",
    "Se tiver curiosidade e quiser tentar fazer consultas parecidas para outras situações de pregões (que não estão em andamento) [acesse a página de consultas do Portal de Compras do Governo Federal](https://www.gov.br/compras/pt-br/assuntos/consultas-1) e na aba \"Pregões\" teremos consultas praticamente idênticas a que você acabou de fazer.\n",
    "\n",
    "Boa jornada!"
   ],
   "metadata": {}
  }
 ],
 "metadata": {
  "kernelspec": {
   "name": "python3",
   "display_name": "Python 3.8.10 64-bit"
  },
  "language_info": {
   "codemirror_mode": {
    "name": "ipython",
    "version": 3
   },
   "file_extension": ".py",
   "mimetype": "text/x-python",
   "name": "python",
   "nbconvert_exporter": "python",
   "pygments_lexer": "ipython3",
   "version": "3.8.10"
  },
  "interpreter": {
   "hash": "3b7093543c982e412a84dff7531008243b6c8d3640829bdc6aed9bc47156caf7"
  }
 },
 "nbformat": 4,
 "nbformat_minor": 5
}